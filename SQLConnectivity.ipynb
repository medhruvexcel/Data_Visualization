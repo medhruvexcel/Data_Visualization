{
 "cells": [
  {
   "cell_type": "code",
   "execution_count": 1,
   "id": "35a06353-01dc-4a19-ad95-913c9b549199",
   "metadata": {},
   "outputs": [
    {
     "ename": "ModuleNotFoundError",
     "evalue": "No module named 'mysql'",
     "output_type": "error",
     "traceback": [
      "\u001b[1;31m---------------------------------------------------------------------------\u001b[0m",
      "\u001b[1;31mModuleNotFoundError\u001b[0m                       Traceback (most recent call last)",
      "Cell \u001b[1;32mIn[1], line 1\u001b[0m\n\u001b[1;32m----> 1\u001b[0m \u001b[38;5;28;01mimport\u001b[39;00m \u001b[38;5;21;01mmysql\u001b[39;00m\u001b[38;5;21;01m.\u001b[39;00m\u001b[38;5;21;01mconnector\u001b[39;00m\n",
      "\u001b[1;31mModuleNotFoundError\u001b[0m: No module named 'mysql'"
     ]
    }
   ],
   "source": [
    "import mysql.connector\n"
   ]
  },
  {
   "cell_type": "code",
   "execution_count": 2,
   "id": "0af927c1-2bc6-4dda-9c8c-b0bae25a0d4c",
   "metadata": {},
   "outputs": [
    {
     "name": "stderr",
     "output_type": "stream",
     "text": [
      "WARNING: Package(s) not found: mysql-connector\n"
     ]
    }
   ],
   "source": [
    "!pip show mysql-connector"
   ]
  },
  {
   "cell_type": "code",
   "execution_count": 3,
   "id": "1b480ae1-162a-4e5c-bcf9-b19b0e4400eb",
   "metadata": {},
   "outputs": [
    {
     "name": "stdout",
     "output_type": "stream",
     "text": [
      "Collecting mysql-connector-python\n",
      "  Downloading mysql_connector_python-9.0.0-cp311-cp311-win_amd64.whl.metadata (2.0 kB)\n",
      "Downloading mysql_connector_python-9.0.0-cp311-cp311-win_amd64.whl (14.3 MB)\n",
      "   ---------------------------------------- 0.0/14.3 MB ? eta -:--:--\n",
      "   ---------------------------------------- 0.0/14.3 MB 1.3 MB/s eta 0:00:12\n",
      "    --------------------------------------- 0.2/14.3 MB 2.4 MB/s eta 0:00:06\n",
      "   - -------------------------------------- 0.6/14.3 MB 4.3 MB/s eta 0:00:04\n",
      "   - -------------------------------------- 0.7/14.3 MB 4.2 MB/s eta 0:00:04\n",
      "   -- ------------------------------------- 1.0/14.3 MB 5.1 MB/s eta 0:00:03\n",
      "   --- ------------------------------------ 1.4/14.3 MB 5.4 MB/s eta 0:00:03\n",
      "   ----- ---------------------------------- 1.9/14.3 MB 5.9 MB/s eta 0:00:03\n",
      "   ------ --------------------------------- 2.2/14.3 MB 6.5 MB/s eta 0:00:02\n",
      "   ------- -------------------------------- 2.6/14.3 MB 6.3 MB/s eta 0:00:02\n",
      "   -------- ------------------------------- 2.9/14.3 MB 6.6 MB/s eta 0:00:02\n",
      "   --------- ------------------------------ 3.4/14.3 MB 6.8 MB/s eta 0:00:02\n",
      "   ---------- ----------------------------- 3.8/14.3 MB 7.1 MB/s eta 0:00:02\n",
      "   ---------- ----------------------------- 3.9/14.3 MB 6.6 MB/s eta 0:00:02\n",
      "   ----------- ---------------------------- 4.1/14.3 MB 6.7 MB/s eta 0:00:02\n",
      "   ----------- ---------------------------- 4.3/14.3 MB 6.2 MB/s eta 0:00:02\n",
      "   ------------ --------------------------- 4.4/14.3 MB 6.2 MB/s eta 0:00:02\n",
      "   ------------ --------------------------- 4.4/14.3 MB 5.8 MB/s eta 0:00:02\n",
      "   ------------ --------------------------- 4.6/14.3 MB 5.5 MB/s eta 0:00:02\n",
      "   ------------- -------------------------- 4.8/14.3 MB 5.6 MB/s eta 0:00:02\n",
      "   ------------- -------------------------- 5.0/14.3 MB 5.5 MB/s eta 0:00:02\n",
      "   -------------- ------------------------- 5.0/14.3 MB 5.3 MB/s eta 0:00:02\n",
      "   -------------- ------------------------- 5.1/14.3 MB 5.3 MB/s eta 0:00:02\n",
      "   -------------- ------------------------- 5.3/14.3 MB 5.0 MB/s eta 0:00:02\n",
      "   -------------- ------------------------- 5.3/14.3 MB 4.9 MB/s eta 0:00:02\n",
      "   --------------- ------------------------ 5.5/14.3 MB 4.8 MB/s eta 0:00:02\n",
      "   --------------- ------------------------ 5.6/14.3 MB 4.7 MB/s eta 0:00:02\n",
      "   ---------------- ----------------------- 5.9/14.3 MB 4.8 MB/s eta 0:00:02\n",
      "   ---------------- ----------------------- 6.0/14.3 MB 4.7 MB/s eta 0:00:02\n",
      "   ----------------- ---------------------- 6.2/14.3 MB 4.7 MB/s eta 0:00:02\n",
      "   ----------------- ---------------------- 6.3/14.3 MB 4.7 MB/s eta 0:00:02\n",
      "   ------------------ --------------------- 6.6/14.3 MB 4.6 MB/s eta 0:00:02\n",
      "   ------------------- -------------------- 6.9/14.3 MB 4.7 MB/s eta 0:00:02\n",
      "   ------------------- -------------------- 7.1/14.3 MB 4.7 MB/s eta 0:00:02\n",
      "   -------------------- ------------------- 7.3/14.3 MB 4.7 MB/s eta 0:00:02\n",
      "   -------------------- ------------------- 7.4/14.3 MB 4.6 MB/s eta 0:00:02\n",
      "   --------------------- ------------------ 7.6/14.3 MB 4.6 MB/s eta 0:00:02\n",
      "   --------------------- ------------------ 7.8/14.3 MB 4.6 MB/s eta 0:00:02\n",
      "   ---------------------- ----------------- 8.1/14.3 MB 4.6 MB/s eta 0:00:02\n",
      "   ---------------------- ----------------- 8.2/14.3 MB 4.6 MB/s eta 0:00:02\n",
      "   ----------------------- ---------------- 8.5/14.3 MB 4.6 MB/s eta 0:00:02\n",
      "   ------------------------ --------------- 8.8/14.3 MB 4.6 MB/s eta 0:00:02\n",
      "   ------------------------- -------------- 9.1/14.3 MB 4.7 MB/s eta 0:00:02\n",
      "   ------------------------- -------------- 9.3/14.3 MB 4.7 MB/s eta 0:00:02\n",
      "   -------------------------- ------------- 9.3/14.3 MB 4.6 MB/s eta 0:00:02\n",
      "   -------------------------- ------------- 9.5/14.3 MB 4.6 MB/s eta 0:00:02\n",
      "   -------------------------- ------------- 9.6/14.3 MB 4.5 MB/s eta 0:00:02\n",
      "   --------------------------- ------------ 9.7/14.3 MB 4.5 MB/s eta 0:00:02\n",
      "   --------------------------- ------------ 9.9/14.3 MB 4.5 MB/s eta 0:00:01\n",
      "   ---------------------------- ----------- 10.1/14.3 MB 4.5 MB/s eta 0:00:01\n",
      "   ---------------------------- ----------- 10.2/14.3 MB 4.4 MB/s eta 0:00:01\n",
      "   ---------------------------- ----------- 10.4/14.3 MB 4.5 MB/s eta 0:00:01\n",
      "   ----------------------------- ---------- 10.6/14.3 MB 4.4 MB/s eta 0:00:01\n",
      "   ----------------------------- ---------- 10.7/14.3 MB 4.4 MB/s eta 0:00:01\n",
      "   ------------------------------ --------- 10.8/14.3 MB 4.4 MB/s eta 0:00:01\n",
      "   ------------------------------ --------- 10.8/14.3 MB 4.3 MB/s eta 0:00:01\n",
      "   ------------------------------ --------- 10.9/14.3 MB 4.3 MB/s eta 0:00:01\n",
      "   ------------------------------ --------- 11.0/14.3 MB 4.2 MB/s eta 0:00:01\n",
      "   ------------------------------- -------- 11.2/14.3 MB 4.1 MB/s eta 0:00:01\n",
      "   ------------------------------- -------- 11.2/14.3 MB 4.1 MB/s eta 0:00:01\n",
      "   ------------------------------- -------- 11.4/14.3 MB 4.0 MB/s eta 0:00:01\n",
      "   -------------------------------- ------- 11.5/14.3 MB 4.0 MB/s eta 0:00:01\n",
      "   -------------------------------- ------- 11.6/14.3 MB 4.0 MB/s eta 0:00:01\n",
      "   -------------------------------- ------- 11.7/14.3 MB 3.9 MB/s eta 0:00:01\n",
      "   -------------------------------- ------- 11.8/14.3 MB 3.9 MB/s eta 0:00:01\n",
      "   --------------------------------- ------ 12.0/14.3 MB 3.8 MB/s eta 0:00:01\n",
      "   --------------------------------- ------ 12.1/14.3 MB 3.7 MB/s eta 0:00:01\n",
      "   --------------------------------- ------ 12.1/14.3 MB 3.7 MB/s eta 0:00:01\n",
      "   ---------------------------------- ----- 12.2/14.3 MB 3.6 MB/s eta 0:00:01\n",
      "   ---------------------------------- ----- 12.3/14.3 MB 3.6 MB/s eta 0:00:01\n",
      "   ---------------------------------- ----- 12.4/14.3 MB 3.5 MB/s eta 0:00:01\n",
      "   ---------------------------------- ----- 12.5/14.3 MB 3.5 MB/s eta 0:00:01\n",
      "   ---------------------------------- ----- 12.5/14.3 MB 3.5 MB/s eta 0:00:01\n",
      "   ----------------------------------- ---- 12.6/14.3 MB 3.5 MB/s eta 0:00:01\n",
      "   ----------------------------------- ---- 12.7/14.3 MB 3.4 MB/s eta 0:00:01\n",
      "   ----------------------------------- ---- 12.8/14.3 MB 3.3 MB/s eta 0:00:01\n",
      "   ------------------------------------ --- 12.9/14.3 MB 3.3 MB/s eta 0:00:01\n",
      "   ------------------------------------ --- 13.1/14.3 MB 3.3 MB/s eta 0:00:01\n",
      "   ------------------------------------ --- 13.1/14.3 MB 3.3 MB/s eta 0:00:01\n",
      "   ------------------------------------ --- 13.1/14.3 MB 3.3 MB/s eta 0:00:01\n",
      "   ------------------------------------ --- 13.3/14.3 MB 3.1 MB/s eta 0:00:01\n",
      "   ------------------------------------- -- 13.3/14.3 MB 3.1 MB/s eta 0:00:01\n",
      "   ------------------------------------- -- 13.4/14.3 MB 3.1 MB/s eta 0:00:01\n",
      "   ------------------------------------- -- 13.5/14.3 MB 3.1 MB/s eta 0:00:01\n",
      "   ------------------------------------- -- 13.5/14.3 MB 3.0 MB/s eta 0:00:01\n",
      "   ------------------------------------- -- 13.6/14.3 MB 3.0 MB/s eta 0:00:01\n",
      "   -------------------------------------- - 13.6/14.3 MB 3.0 MB/s eta 0:00:01\n",
      "   -------------------------------------- - 13.7/14.3 MB 2.9 MB/s eta 0:00:01\n",
      "   -------------------------------------- - 13.7/14.3 MB 2.9 MB/s eta 0:00:01\n",
      "   -------------------------------------- - 13.8/14.3 MB 2.8 MB/s eta 0:00:01\n",
      "   -------------------------------------- - 13.9/14.3 MB 2.8 MB/s eta 0:00:01\n",
      "   ---------------------------------------  14.1/14.3 MB 2.8 MB/s eta 0:00:01\n",
      "   ---------------------------------------  14.2/14.3 MB 2.8 MB/s eta 0:00:01\n",
      "   ---------------------------------------  14.3/14.3 MB 2.8 MB/s eta 0:00:01\n",
      "   ---------------------------------------- 14.3/14.3 MB 2.8 MB/s eta 0:00:00\n",
      "Installing collected packages: mysql-connector-python\n",
      "Successfully installed mysql-connector-python-9.0.0\n"
     ]
    }
   ],
   "source": [
    "!pip install mysql-connector-python"
   ]
  },
  {
   "cell_type": "code",
   "execution_count": 1,
   "id": "ab8971e4-3b70-4475-ab63-504591b2146e",
   "metadata": {},
   "outputs": [],
   "source": [
    "import mysql.connector as sql"
   ]
  },
  {
   "cell_type": "code",
   "execution_count": 2,
   "id": "d52d342a-279b-406d-b756-d4dd2d8b7f89",
   "metadata": {},
   "outputs": [
    {
     "name": "stdout",
     "output_type": "stream",
     "text": [
      "<mysql.connector.connection_cext.CMySQLConnection object at 0x00000259792788D0>\n"
     ]
    }
   ],
   "source": [
    "mydb=sql.connect(\n",
    "    host=\"localhost\",\n",
    "    user=\"root\",\n",
    "    password=\"Medhruv1104#\",\n",
    "    database=\"abesit\"\n",
    ")\n",
    "print(mydb)"
   ]
  },
  {
   "cell_type": "code",
   "execution_count": 3,
   "id": "01dfa4bb-be3d-4732-82a5-103c4d9443ca",
   "metadata": {},
   "outputs": [
    {
     "name": "stdout",
     "output_type": "stream",
     "text": [
      "CMySQLCursor: (Nothing executed yet)\n"
     ]
    }
   ],
   "source": [
    "cur=mydb.cursor()\n",
    "print(cur)"
   ]
  },
  {
   "cell_type": "code",
   "execution_count": 10,
   "id": "4aa0955a-6a93-4794-ba45-43a555b4efe1",
   "metadata": {},
   "outputs": [
    {
     "ename": "TypeError",
     "evalue": "CMySQLCursor.execute() missing 1 required positional argument: 'operation'",
     "output_type": "error",
     "traceback": [
      "\u001b[1;31m---------------------------------------------------------------------------\u001b[0m",
      "\u001b[1;31mTypeError\u001b[0m                                 Traceback (most recent call last)",
      "Cell \u001b[1;32mIn[10], line 1\u001b[0m\n\u001b[1;32m----> 1\u001b[0m cur\u001b[38;5;241m.\u001b[39mexecute()\n",
      "\u001b[1;31mTypeError\u001b[0m: CMySQLCursor.execute() missing 1 required positional argument: 'operation'"
     ]
    }
   ],
   "source": []
  },
  {
   "cell_type": "code",
   "execution_count": 22,
   "id": "3f2e61ef-d784-4144-ad15-b55ffd8728ba",
   "metadata": {},
   "outputs": [
    {
     "name": "stdout",
     "output_type": "stream",
     "text": [
      "data inserted\n"
     ]
    }
   ],
   "source": [
    "cur.execute(\"insert into student(id,name,city,age) values (106,'Divyansh','Delhi',22)\")\n",
    "print(\"data inserted\")\n",
    "mydb.commit()"
   ]
  },
  {
   "cell_type": "code",
   "execution_count": 25,
   "id": "ff107723-3058-4892-8319-5610e5e87b6e",
   "metadata": {},
   "outputs": [
    {
     "name": "stdin",
     "output_type": "stream",
     "text": [
      "enter the id : 106\n",
      "enter the name : Shivansh\n",
      "enter the city : Delhi\n",
      "enter the age : 22\n"
     ]
    },
    {
     "name": "stdout",
     "output_type": "stream",
     "text": [
      "data inserted \n"
     ]
    }
   ],
   "source": [
    "id=int(input(\"enter the id :\"))\n",
    "name=input(\"enter the name :\")\n",
    "city=input(\"enter the city :\")\n",
    "age=int(input(\"enter the age :\"))\n",
    "\n",
    "data=[id,name,city,age]\n",
    "cur.execute(\"insert into student (id,name,city,age) values(%s,%s,%s,%s)\",data)\n",
    "print(\"data inserted \")\n",
    "mydb.commit()"
   ]
  },
  {
   "cell_type": "code",
   "execution_count": 26,
   "id": "9aec1700-326b-49e1-a05b-afe7d3e85970",
   "metadata": {},
   "outputs": [
    {
     "name": "stdout",
     "output_type": "stream",
     "text": [
      "data inserted \n"
     ]
    }
   ],
   "source": [
    "data=[\n",
    "    [108,\"kiara\",\"Delhi\",21],\n",
    "    [109,\"sheela\",\"Delhi\",21],\n",
    "    [110,\"munni\",\"Ghaziabad\",21],\n",
    "    [111,\"hemamalini\",\"Ghaziabad\",21]\n",
    "]\n",
    "cur.executemany(\"insert into student (id,name,city,age) values(%s,%s,%s,%s)\",data)\n",
    "print(\"data inserted \")\n",
    "mydb.commit()"
   ]
  },
  {
   "cell_type": "code",
   "execution_count": null,
   "id": "fbbe4495-d6f6-4a07-adf7-d53064d0b759",
   "metadata": {},
   "outputs": [],
   "source": []
  },
  {
   "cell_type": "code",
   "execution_count": 6,
   "id": "a39c1356-a7ba-4532-88d9-7638b12168a5",
   "metadata": {},
   "outputs": [
    {
     "name": "stdout",
     "output_type": "stream",
     "text": [
      "(101, 'Dhruv', 'Delhi', 21)\n",
      "(102, 'Adarsh', 'Ghaziabad', 21)\n",
      "(103, 'Rahul', 'Delhi', 22)\n",
      "(104, 'Rohit', 'Ghaziabad', 24)\n",
      "(105, 'Divyansh', 'Delhi', 22)\n",
      "(106, 'Shivansh', 'Delhi', 22)\n",
      "(108, 'kiara', 'Delhi', 21)\n",
      "(109, 'sheela', 'Delhi', 21)\n",
      "(110, 'munni', 'Ghaziabad', 21)\n",
      "(111, 'hemamalini', 'Ghaziabad', 21)\n"
     ]
    }
   ],
   "source": [
    "cur.execute(\"select * from student\")\n",
    "\n",
    "output=cur.fetchall()\n",
    "for data in output :\n",
    "    print(data)"
   ]
  },
  {
   "cell_type": "code",
   "execution_count": null,
   "id": "cc1b5055-e93a-4478-9ec0-176266e2f46f",
   "metadata": {},
   "outputs": [],
   "source": []
  }
 ],
 "metadata": {
  "kernelspec": {
   "display_name": "Python 3 (ipykernel)",
   "language": "python",
   "name": "python3"
  },
  "language_info": {
   "codemirror_mode": {
    "name": "ipython",
    "version": 3
   },
   "file_extension": ".py",
   "mimetype": "text/x-python",
   "name": "python",
   "nbconvert_exporter": "python",
   "pygments_lexer": "ipython3",
   "version": "3.11.7"
  }
 },
 "nbformat": 4,
 "nbformat_minor": 5
}
