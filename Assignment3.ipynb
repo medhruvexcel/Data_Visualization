{
 "cells": [
  {
   "cell_type": "code",
   "execution_count": 1,
   "id": "18b56df6-ea7f-4862-8e30-ef5ca7b7cdf8",
   "metadata": {},
   "outputs": [
    {
     "data": {
      "text/plain": [
       "'C:\\\\Users\\\\dhruv\\\\Training-Data_Vis'"
      ]
     },
     "execution_count": 1,
     "metadata": {},
     "output_type": "execute_result"
    }
   ],
   "source": [
    "pwd"
   ]
  },
  {
   "cell_type": "markdown",
   "id": "45877968-0c3a-4381-8cb5-9b061529a80a",
   "metadata": {},
   "source": [
    "# ASSIGNMENT 1 "
   ]
  },
  {
   "cell_type": "markdown",
   "id": "628529e5-1007-4d67-afc9-5a099586762e",
   "metadata": {
    "jp-MarkdownHeadingCollapsed": true
   },
   "source": [
    "### Q1. Declare a div() function with two parameters. Then call the function and pass two numbers and display their division."
   ]
  },
  {
   "cell_type": "code",
   "execution_count": null,
   "id": "e8fb72b0-021f-4277-b74d-b7ce71faa6a2",
   "metadata": {},
   "outputs": [],
   "source": []
  },
  {
   "cell_type": "code",
   "execution_count": 18,
   "id": "22c77edf-21bf-4478-bc6d-0dd36b713790",
   "metadata": {},
   "outputs": [
    {
     "name": "stdout",
     "output_type": "stream",
     "text": [
      "the division of  13  and  2  is  6.5\n"
     ]
    }
   ],
   "source": [
    "def div(x,y):\n",
    "    #x=int(input(\"enter first number \"))\n",
    "    #y=int(input(\"enter second number \"))\n",
    "    result=x/y\n",
    "    print(\"the division of \" , x , \" and \", y , \" is \" , result)\n",
    "    \n",
    "div(13,2)"
   ]
  },
  {
   "cell_type": "code",
   "execution_count": null,
   "id": "3c65f779-b1f3-415c-999c-a58dbe620370",
   "metadata": {},
   "outputs": [],
   "source": []
  },
  {
   "cell_type": "code",
   "execution_count": null,
   "id": "dbb5af4d-3fe6-49c3-9652-8ac9928e0f58",
   "metadata": {},
   "outputs": [],
   "source": []
  },
  {
   "cell_type": "markdown",
   "id": "b4f8e02d-5887-43b6-bd61-6a3407de2990",
   "metadata": {
    "jp-MarkdownHeadingCollapsed": true
   },
   "source": [
    "### Q2. Declare a square() function with one parameter.Then call the function and pa sone number and display the square of that number"
   ]
  },
  {
   "cell_type": "code",
   "execution_count": 28,
   "id": "f36418ef-fd5d-40bf-aedb-9282521acea6",
   "metadata": {},
   "outputs": [
    {
     "name": "stdout",
     "output_type": "stream",
     "text": [
      "the square of x is :  10000\n"
     ]
    }
   ],
   "source": [
    "def square(x):\n",
    "    res=x**2\n",
    "    print(\"the square of x is : \", res)\n",
    "\n",
    "\n",
    "square(100) "
   ]
  },
  {
   "cell_type": "code",
   "execution_count": null,
   "id": "54b4996e-a38a-449e-93ef-7fb3ed048823",
   "metadata": {},
   "outputs": [],
   "source": []
  },
  {
   "cell_type": "code",
   "execution_count": null,
   "id": "7629f2d2-8e61-4af8-954f-f18c566fda75",
   "metadata": {},
   "outputs": [],
   "source": []
  },
  {
   "cell_type": "markdown",
   "id": "c73b881a-ed75-4703-9017-a03e7458c5b2",
   "metadata": {
    "jp-MarkdownHeadingCollapsed": true
   },
   "source": [
    "### Q3.Using max() and min() functions display the maximum and minimum of 5 randomnumbers."
   ]
  },
  {
   "cell_type": "code",
   "execution_count": 38,
   "id": "c849e0a5-bdff-4fd3-8f7a-89ceb72fc887",
   "metadata": {},
   "outputs": [
    {
     "name": "stdout",
     "output_type": "stream",
     "text": [
      "Random numbers: [1, 92, 23, 92, 46]\n",
      "the maximum number from  [1, 92, 23, 92, 46] is  92\n",
      "the minimum number from  [1, 92, 23, 92, 46] is  1\n"
     ]
    }
   ],
   "source": [
    "import random\n",
    "random_numbers = [random.randint(1, 100) for _ in range(5)]\n",
    "\n",
    "print(\"Random numbers:\", random_numbers)\n",
    "\n",
    "print(\"the maximum number from \", random_numbers , \"is \" , max(random_numbers))\n",
    "print(\"the minimum number from \", random_numbers , \"is \" , min(random_numbers))"
   ]
  },
  {
   "cell_type": "code",
   "execution_count": null,
   "id": "e2554a0a-fdd6-49e3-a98c-66269a1dac38",
   "metadata": {},
   "outputs": [],
   "source": []
  },
  {
   "cell_type": "code",
   "execution_count": null,
   "id": "8ed03a6e-b774-4c1e-b83e-eab7b370bdef",
   "metadata": {},
   "outputs": [],
   "source": []
  },
  {
   "cell_type": "markdown",
   "id": "faba9481-7d62-4fed-b721-7da68219c5c0",
   "metadata": {
    "jp-MarkdownHeadingCollapsed": true
   },
   "source": [
    "### Q4.Accept a name from the user and display that in lower case using lower() function"
   ]
  },
  {
   "cell_type": "code",
   "execution_count": 43,
   "id": "44b5ad6b-3cca-498c-9e62-5ac8567c2492",
   "metadata": {},
   "outputs": [
    {
     "name": "stdin",
     "output_type": "stream",
     "text": [
      "enter the name of your choice DHRUV\n"
     ]
    },
    {
     "name": "stdout",
     "output_type": "stream",
     "text": [
      "the name you have suggested is  DHRUV\n",
      "\n",
      "\n",
      "after converting it to a lower case  dhruv\n"
     ]
    }
   ],
   "source": [
    "name =input(\"enter the name of your choice\")\n",
    "print(\"the name you have suggested is \", name )\n",
    "print('\\n')\n",
    "if name.islower() ==True :\n",
    "    print(\"the name is already in lower case \")\n",
    "else :\n",
    "    print(\"after converting it to a lower case \" , name.lower())"
   ]
  },
  {
   "cell_type": "code",
   "execution_count": null,
   "id": "8f51d948-fe5f-4576-8941-df6cd141f6f6",
   "metadata": {},
   "outputs": [],
   "source": []
  },
  {
   "cell_type": "code",
   "execution_count": null,
   "id": "1078fb17-54e9-4861-85e5-2a9f8b0c01bc",
   "metadata": {},
   "outputs": [],
   "source": []
  },
  {
   "cell_type": "code",
   "execution_count": null,
   "id": "21c3e83d-fa26-4e3b-8533-f69b64a23513",
   "metadata": {},
   "outputs": [],
   "source": []
  },
  {
   "cell_type": "markdown",
   "id": "fcab9620-3722-44c0-9717-279d2978d071",
   "metadata": {},
   "source": [
    "# ASSIGNMENT 2 "
   ]
  },
  {
   "cell_type": "code",
   "execution_count": null,
   "id": "ec18b016-7b97-4a35-9767-3374156a0e0a",
   "metadata": {},
   "outputs": [],
   "source": []
  },
  {
   "cell_type": "markdown",
   "id": "148a3fea-1b35-48e5-945f-da65dce0f683",
   "metadata": {
    "jp-MarkdownHeadingCollapsed": true
   },
   "source": [
    "### Q1. Write a Python program to count the occurrences of each word in a given sentence\n",
    "#### string = “To change the overall look of your document. To change the look available in the gallery”\n"
   ]
  },
  {
   "cell_type": "code",
   "execution_count": 64,
   "id": "b48e0226-9dbf-4a0e-9428-64f5597dc543",
   "metadata": {},
   "outputs": [
    {
     "name": "stdout",
     "output_type": "stream",
     "text": [
      "to : 2\n",
      "change : 2\n",
      "the : 3\n",
      "overall : 1\n",
      "look : 1\n",
      "of : 1\n",
      "your : 1\n",
      "document : 1\n",
      "lookavailable : 1\n",
      "in : 1\n",
      "gallery : 1\n"
     ]
    }
   ],
   "source": [
    "str=\"To change the overall look of your document To change the lookavailable in the gallery\"\n",
    "\n",
    "#converting it to lower case and splitting each word \n",
    "\n",
    "words = str.lower().split()\n",
    "\n",
    "\n",
    "# Remove punctuation (e.g., periods) from words\n",
    "#words = [word.strip(\".\") for word in words]\n",
    "\n",
    "# Initialize an empty dictionary to store word counts\n",
    "word_count = {}\n",
    "\n",
    "# Count the occurrences of each word\n",
    "for word in words:\n",
    "    if word in word_count:\n",
    "        word_count[word] += 1\n",
    "    else:\n",
    "        word_count[word] = 1\n",
    "\n",
    "# Display the word counts\n",
    "for word, count in word_count.items():\n",
    "    print( word , \":\", count)\n",
    "   \n"
   ]
  },
  {
   "cell_type": "code",
   "execution_count": null,
   "id": "dbc18722-b949-457a-9cab-c97413180eda",
   "metadata": {},
   "outputs": [],
   "source": []
  }
 ],
 "metadata": {
  "kernelspec": {
   "display_name": "Python 3 (ipykernel)",
   "language": "python",
   "name": "python3"
  },
  "language_info": {
   "codemirror_mode": {
    "name": "ipython",
    "version": 3
   },
   "file_extension": ".py",
   "mimetype": "text/x-python",
   "name": "python",
   "nbconvert_exporter": "python",
   "pygments_lexer": "ipython3",
   "version": "3.11.7"
  }
 },
 "nbformat": 4,
 "nbformat_minor": 5
}
