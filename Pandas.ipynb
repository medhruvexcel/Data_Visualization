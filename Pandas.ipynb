{
 "cells": [
  {
   "cell_type": "code",
   "execution_count": 1,
   "id": "d4b66113-21ba-4653-b100-7b94c258b8be",
   "metadata": {},
   "outputs": [
    {
     "name": "stdout",
     "output_type": "stream",
     "text": [
      "Requirement already satisfied: pandas in c:\\users\\dhruv\\anaconda3\\lib\\site-packages (2.1.4)\n",
      "Requirement already satisfied: numpy<2,>=1.23.2 in c:\\users\\dhruv\\anaconda3\\lib\\site-packages (from pandas) (1.26.4)\n",
      "Requirement already satisfied: python-dateutil>=2.8.2 in c:\\users\\dhruv\\anaconda3\\lib\\site-packages (from pandas) (2.8.2)\n",
      "Requirement already satisfied: pytz>=2020.1 in c:\\users\\dhruv\\anaconda3\\lib\\site-packages (from pandas) (2023.3.post1)\n",
      "Requirement already satisfied: tzdata>=2022.1 in c:\\users\\dhruv\\anaconda3\\lib\\site-packages (from pandas) (2023.3)\n",
      "Requirement already satisfied: six>=1.5 in c:\\users\\dhruv\\anaconda3\\lib\\site-packages (from python-dateutil>=2.8.2->pandas) (1.16.0)\n"
     ]
    }
   ],
   "source": [
    "!pip install pandas"
   ]
  },
  {
   "cell_type": "code",
   "execution_count": 1,
   "id": "3c0300b3-19a2-4177-84bd-41d6e46d3b83",
   "metadata": {},
   "outputs": [],
   "source": [
    "import pandas as pd "
   ]
  },
  {
   "cell_type": "code",
   "execution_count": null,
   "id": "f21f0b8b-74a8-4223-afb5-5399ba0f4f4e",
   "metadata": {},
   "outputs": [],
   "source": [
    "print(\"features\")"
   ]
  },
  {
   "cell_type": "markdown",
   "id": "5af710a4-8563-4b3d-8669-53c8e6f0e599",
   "metadata": {},
   "source": [
    "![sample](C:/Users/dhruv/OneDrive/Pictures/Screenshots/Screenshot (387).jpg)"
   ]
  },
  {
   "cell_type": "code",
   "execution_count": null,
   "id": "2785149c-25f9-4364-b96d-72d574449057",
   "metadata": {},
   "outputs": [],
   "source": []
  },
  {
   "cell_type": "markdown",
   "id": "2227aed7-64b3-426e-812c-a687b42c5d9c",
   "metadata": {},
   "source": [
    "### Series"
   ]
  },
  {
   "cell_type": "code",
   "execution_count": 7,
   "id": "886609c4-9494-44ec-898b-50f8a6d7a861",
   "metadata": {},
   "outputs": [
    {
     "name": "stdout",
     "output_type": "stream",
     "text": [
      "jan    12000\n",
      "feb    13590\n",
      "mar    34400\n",
      "apr    20000\n",
      "may    12000\n",
      "jun    23000\n",
      "jul    20000\n",
      "aug    15000\n",
      "sep    32000\n",
      "oct    24000\n",
      "nov    45000\n",
      "dec    10000\n",
      "Name: Monthly Sales, dtype: int32\n"
     ]
    }
   ],
   "source": [
    "months =['jan','feb','mar','apr','may','jun','jul','aug','sep','oct','nov','dec']\n",
    "sales=[12000,13590,34400,20000,12000,23000,20000,15000,32000,24000,45000,10000]\n",
    "sales_series=pd.Series(sales,index=months, name='Monthly Sales',dtype=int)\n",
    "print(sales_series)"
   ]
  },
  {
   "cell_type": "code",
   "execution_count": null,
   "id": "050cc346-ef75-4422-84c9-f28029fd1e56",
   "metadata": {},
   "outputs": [],
   "source": []
  },
  {
   "cell_type": "markdown",
   "id": "adbd28e7-fd12-4e9e-9db4-468aa2a7447a",
   "metadata": {},
   "source": [
    "### Dataframe"
   ]
  },
  {
   "cell_type": "code",
   "execution_count": 14,
   "id": "4d39b54a-9441-4506-ac57-70081e72bcc0",
   "metadata": {},
   "outputs": [
    {
     "name": "stdout",
     "output_type": "stream",
     "text": [
      "      Name  Age     City\n",
      "0    Alice   25      NYC\n",
      "1      Bob   28       LA\n",
      "2  Charlie   30  Chicago\n",
      "3    David   22   Boston\n"
     ]
    }
   ],
   "source": [
    "data ={'Name':['Alice', 'Bob', 'Charlie', 'David'],\n",
    "      'Age': [25,28,30,22],\n",
    "      'City':['NYC','LA', 'Chicago','Boston']}\n",
    "df=pd.DataFrame(data)\n",
    "print(df)"
   ]
  },
  {
   "cell_type": "code",
   "execution_count": 17,
   "id": "1f8f7bfb-0265-4705-b72f-fe43a822e4a5",
   "metadata": {},
   "outputs": [
    {
     "name": "stdout",
     "output_type": "stream",
     "text": [
      "Before adding column city \n",
      "The Dataframe :\n",
      "\n",
      "       Name  Age\n",
      "0    Alice   25\n",
      "1      Bob   28\n",
      "2  Charlie   30\n",
      "3    David   22\n",
      "\n",
      "\n",
      "After adding City column\n",
      "The DataFrame :\n",
      "\n",
      "       Name  Age     City\n",
      "0    Alice   25      NYC\n",
      "1      Bob   28       LA\n",
      "2  Charlie   30  Chicago\n",
      "3    David   22   Boston\n"
     ]
    }
   ],
   "source": [
    "data ={'Name':['Alice', 'Bob', 'Charlie', 'David'],\n",
    "      'Age': [25,28,30,22]}\n",
    "df=pd.DataFrame(data)\n",
    "print(\"Before adding column city \\nThe Dataframe :\\n\\n\",df)\n",
    "df['City']=['NYC','LA', 'Chicago','Boston']\n",
    "print(\"\\n\\nAfter adding City column\\nThe DataFrame :\\n\\n\",df)"
   ]
  },
  {
   "cell_type": "markdown",
   "id": "28e4505a-572a-4d49-ba33-51b64c177062",
   "metadata": {},
   "source": []
  },
  {
   "cell_type": "markdown",
   "id": "19d0302f-a92d-4d32-8d5d-fe5ebeb30a87",
   "metadata": {},
   "source": [
    "### adding multiple columns"
   ]
  },
  {
   "cell_type": "code",
   "execution_count": 24,
   "id": "5110e002-0395-4359-a6c9-78df90c6a5c8",
   "metadata": {},
   "outputs": [
    {
     "name": "stdout",
     "output_type": "stream",
     "text": [
      "INITIAL DATAFRAME:\n",
      "\n",
      "       Name  Age     City\n",
      "0    Alice   25      NYC\n",
      "1      Bob   28       LA\n",
      "2  Charlie   30  Chicago\n",
      "3    David   22   Boston\n",
      "\n",
      "\n",
      "AMMENDED DATAFRAME:\n",
      "\n",
      "       Name  Age     City Gender Grade\n",
      "0    Alice   25      NYC      F     A\n",
      "1      Bob   28       LA      M     B\n",
      "2  Charlie   30  Chicago      M     C\n",
      "3    David   22   Boston      M     C\n",
      "\n",
      "\n",
      "AFTER INSERTING AT SPECIFIC\n",
      "\n",
      "       Name  Marks  Age     City Gender Grade\n",
      "0    Alice     88   25      NYC      F     A\n",
      "1      Bob     90   28       LA      M     B\n",
      "2  Charlie     67   30  Chicago      M     C\n",
      "3    David     72   22   Boston      M     C\n"
     ]
    }
   ],
   "source": [
    "data ={'Name':['Alice', 'Bob', 'Charlie', 'David'],\n",
    "      'Age': [25,28,30,22],\n",
    "      'City':['NYC','LA', 'Chicago','Boston']}\n",
    "df=pd.DataFrame(data)\n",
    "print(\"INITIAL DATAFRAME:\\n\\n\",df)\n",
    "\n",
    "new_cols={\n",
    "    'Gender':['F','M','M','M'],\n",
    "    'Grade':['A','B','C','C']\n",
    "}\n",
    "df['Gender']=new_cols['Gender']\n",
    "df['Grade']=new_cols['Grade']\n",
    "print(\"\\n\\nAMMENDED DATAFRAME:\\n\\n\",df)\n",
    "\n",
    "#after inserting at specific\n",
    "df.insert(1, 'Marks',[88,90,67,72])\n",
    "print(\"\\n\\nAFTER INSERTING AT SPECIFIC\\n\\n\",df)"
   ]
  },
  {
   "cell_type": "code",
   "execution_count": null,
   "id": "86f4448b-2dfd-4ac9-8d63-600477470d1c",
   "metadata": {},
   "outputs": [],
   "source": []
  },
  {
   "cell_type": "code",
   "execution_count": null,
   "id": "cde462ed-f03d-4efe-937b-829c67fe03ed",
   "metadata": {},
   "outputs": [],
   "source": []
  },
  {
   "cell_type": "markdown",
   "id": "bd176259-e65e-404b-8197-15fa2553416e",
   "metadata": {},
   "source": [
    "### Adding new rows "
   ]
  },
  {
   "cell_type": "code",
   "execution_count": 36,
   "id": "f17a4a5a-7369-4094-9d5d-70a2bf3d6b25",
   "metadata": {},
   "outputs": [
    {
     "name": "stdout",
     "output_type": "stream",
     "text": [
      "Initial Dataframe:\n",
      "\n",
      "      Name  Age     City\n",
      "0   Dhruv   21      NYC\n",
      "1  Adarsh   28       LA\n",
      "2  Chhavi   16  Chicago\n",
      "3  Khushi   18   Boston\n",
      "\n",
      "\n",
      "TO BE AMMENDED:\n",
      "\n",
      "     Name  Age    City\n",
      "0  Rahul   25  Moscow\n",
      "\n",
      "\n",
      "The Concatenated Dataframe:\n",
      "\n",
      "      Name  Age     City\n",
      "0   Dhruv   21      NYC\n",
      "1  Adarsh   28       LA\n",
      "2  Chhavi   16  Chicago\n",
      "3  Khushi   18   Boston\n",
      "4   Rahul   25   Moscow\n"
     ]
    }
   ],
   "source": [
    "#initialising Data Dictionary \n",
    "data ={'Name':['Dhruv', 'Adarsh', 'Chhavi', 'Khushi'],\n",
    "      'Age': [21,28,16,18],\n",
    "      'City':['NYC','LA', 'Chicago','Boston']}\n",
    "\n",
    "#converting dict to dataframe \n",
    "df=pd.DataFrame(data)\n",
    "print(\"Initial Dataframe:\\n\\n\",df)\n",
    "\n",
    "#creating a new row \n",
    "new_row=pd.DataFrame([{'Name':'Rahul','Age':25,'City':'Moscow'}])\n",
    "print(\"\\n\\nTO BE AMMENDED:\\n\\n\",new_row)\n",
    "\n",
    "#concatenating\n",
    "df=pd.concat([df,new_row],ignore_index=True)\n",
    "print(\"\\n\\nThe Concatenated Dataframe:\\n\\n\", df)"
   ]
  },
  {
   "cell_type": "code",
   "execution_count": null,
   "id": "86165ff8-9537-4ea1-a8c5-bdaed712cc23",
   "metadata": {},
   "outputs": [],
   "source": []
  },
  {
   "cell_type": "code",
   "execution_count": 43,
   "id": "97cb4a43-f41f-464e-9db0-7bf4c7f4445f",
   "metadata": {},
   "outputs": [
    {
     "name": "stdout",
     "output_type": "stream",
     "text": [
      "Initial Dataframe:\n",
      "\n",
      "      Name  Age     City\n",
      "0   Dhruv   21      NYC\n",
      "1  Adarsh   28       LA\n",
      "2  Chhavi   16  Chicago\n",
      "3  Khushi   18   Boston\n",
      "\n",
      "\n",
      "TO BE AMMENDEd:\n",
      "\n",
      " {'Name': 'Rahul', 'Age': 25, 'City': 'Moscow'}\n",
      "\n",
      "\n",
      "After inserting a row at index 2:\n",
      "\n",
      "      Name  Age    City\n",
      "0   Dhruv   21     NYC\n",
      "1  Adarsh   28      LA\n",
      "2   Rahul   25  Moscow\n",
      "3  Khushi   18  Boston\n"
     ]
    }
   ],
   "source": [
    "#initialising Data Dictionary \n",
    "data ={'Name':['Dhruv', 'Adarsh', 'Chhavi', 'Khushi'],\n",
    "      'Age': [21,28,16,18],\n",
    "      'City':['NYC','LA', 'Chicago','Boston']}\n",
    "\n",
    "#converting dict to dataframe \n",
    "df=pd.DataFrame(data)\n",
    "print(\"Initial Dataframe:\\n\\n\",df)\n",
    "\n",
    "#creating a new row \n",
    "new_row={'Name':'Rahul','Age':25,'City':'Moscow'}\n",
    "print(\"\\n\\nTO BE AMMENDEd:\\n\\n\",new_row)\n",
    "\n",
    "\n",
    "insert_index=2\n",
    "df.loc[insert_index]=new_row\n",
    "print(\"\\n\\nAfter inserting a row at index 2:\\n\\n\",df)"
   ]
  },
  {
   "cell_type": "code",
   "execution_count": null,
   "id": "8f25886f-98bd-4f59-a949-c9e4c9181996",
   "metadata": {},
   "outputs": [],
   "source": []
  },
  {
   "cell_type": "markdown",
   "id": "f51d0336-ebad-4f9f-9053-d5ef8e29fab5",
   "metadata": {},
   "source": [
    "### Updating a column"
   ]
  },
  {
   "cell_type": "code",
   "execution_count": 46,
   "id": "74a8f310-8172-4c6d-814b-9b80e281a7ad",
   "metadata": {},
   "outputs": [
    {
     "name": "stdout",
     "output_type": "stream",
     "text": [
      "Dataframe\n",
      "\n",
      "      Name  Age   Gender\n",
      "0   Dhruv   21      NYC\n",
      "1  Adarsh   28       LA\n",
      "2  Chhavi   16  Chicago\n",
      "3  Khushi   18   Boston\n",
      "\n",
      "error: the 3rd Column and values are mismatched\n",
      "\n",
      "\n",
      "Correcting Mismatch :\n",
      "\n",
      "      Name  Age     City\n",
      "0   Dhruv   21      NYC\n",
      "1  Adarsh   28       LA\n",
      "2  Chhavi   16  Chicago\n",
      "3  Khushi   18   Boston\n"
     ]
    }
   ],
   "source": [
    "data ={'Name':['Dhruv', 'Adarsh', 'Chhavi', 'Khushi'],\n",
    "      'Age': [21,28,16,18],\n",
    "      'Gender':['NYC','LA', 'Chicago','Boston']}\n",
    "df=pd.DataFrame(data)\n",
    "print(\"Dataframe\\n\\n\",df)\n",
    "print(\"\\nerror: the 3rd Column and values are mismatched\")\n",
    "df=df.rename(columns={'Gender':'City'})\n",
    "print(\"\\n\\nCorrecting Mismatch :\\n\\n\",df)"
   ]
  },
  {
   "cell_type": "code",
   "execution_count": null,
   "id": "1f5844bd-16b0-4e5d-9c4d-8d82fb79dcb5",
   "metadata": {},
   "outputs": [],
   "source": []
  },
  {
   "cell_type": "code",
   "execution_count": null,
   "id": "cf7175be-f40f-45e0-8769-de0f142ba996",
   "metadata": {},
   "outputs": [],
   "source": []
  },
  {
   "cell_type": "markdown",
   "id": "0a1aabfd-364c-4a7b-a15c-0df0f69666f9",
   "metadata": {},
   "source": [
    "### Updating Row values"
   ]
  },
  {
   "cell_type": "code",
   "execution_count": 54,
   "id": "e26708bc-16dd-44f8-a34b-136e6fadefa2",
   "metadata": {},
   "outputs": [
    {
     "name": "stdout",
     "output_type": "stream",
     "text": [
      "The Fruits DataFrame:\n",
      "\n",
      "     Fruit   Price  Color\n",
      "0   Mango  Yellow    200\n",
      "1   Apple     Red    180\n",
      "2  Litchi     Red     80\n",
      "3  Grapes   Green    130\n",
      "\n",
      "Error:the colums of Fruits DataFrame are mismatched...\n",
      "\n",
      "After correcting the mismatched The Fruits Dataframe is now :\n",
      "\n",
      "     Fruit   Color  Cost\n",
      "0   Mango  Yellow   200\n",
      "1   Apple     Red   180\n",
      "2  Litchi     Red    80\n",
      "3  Grapes   Green   130\n",
      "\n",
      "\n",
      "Updating the case :\n",
      "\n",
      "     fruit   color  cost\n",
      "0   Mango  Yellow   200\n",
      "1   Apple     Red   180\n",
      "2  Litchi     Red    80\n",
      "3  Grapes   Green   130\n",
      "\n",
      "\n",
      "displaying specific value ---\n",
      " fruit    Grapes\n",
      "color     Green\n",
      "cost        130\n",
      "Name: 3, dtype: object\n",
      "\n",
      "\n",
      "after updating the values --\n",
      "\n",
      "           fruit   color  cost\n",
      "0         Mango  Yellow   200\n",
      "1         Apple     Red   180\n",
      "2        Litchi     Red    80\n",
      "3  Dragon Fruit  Purple   250\n",
      "\n",
      "\n",
      "accessing specific value --\n",
      "\n",
      "\n"
     ]
    },
    {
     "ename": "KeyError",
     "evalue": "\"None of [Index(['Fruit'], dtype='object')] are in the [index]\"",
     "output_type": "error",
     "traceback": [
      "\u001b[1;31m---------------------------------------------------------------------------\u001b[0m",
      "\u001b[1;31mKeyError\u001b[0m                                  Traceback (most recent call last)",
      "Cell \u001b[1;32mIn[54], line 21\u001b[0m\n\u001b[0;32m     18\u001b[0m \u001b[38;5;28mprint\u001b[39m(\u001b[38;5;124m\"\u001b[39m\u001b[38;5;130;01m\\n\u001b[39;00m\u001b[38;5;130;01m\\n\u001b[39;00m\u001b[38;5;124mafter updating the values --\u001b[39m\u001b[38;5;130;01m\\n\u001b[39;00m\u001b[38;5;130;01m\\n\u001b[39;00m\u001b[38;5;124m\"\u001b[39m, fdf)\n\u001b[0;32m     20\u001b[0m \u001b[38;5;28mprint\u001b[39m(\u001b[38;5;124m\"\u001b[39m\u001b[38;5;130;01m\\n\u001b[39;00m\u001b[38;5;130;01m\\n\u001b[39;00m\u001b[38;5;124maccessing specific value --\u001b[39m\u001b[38;5;130;01m\\n\u001b[39;00m\u001b[38;5;130;01m\\n\u001b[39;00m\u001b[38;5;124m\"\u001b[39m)\n\u001b[1;32m---> 21\u001b[0m \u001b[38;5;28mprint\u001b[39m(fdf\u001b[38;5;241m.\u001b[39mloc[\u001b[38;5;241m2\u001b[39m, [\u001b[38;5;124m'\u001b[39m\u001b[38;5;124mFruit\u001b[39m\u001b[38;5;124m'\u001b[39m]])\n",
      "File \u001b[1;32m~\\anaconda3\\Lib\\site-packages\\pandas\\core\\indexing.py:1147\u001b[0m, in \u001b[0;36m_LocationIndexer.__getitem__\u001b[1;34m(self, key)\u001b[0m\n\u001b[0;32m   1145\u001b[0m     \u001b[38;5;28;01mif\u001b[39;00m \u001b[38;5;28mself\u001b[39m\u001b[38;5;241m.\u001b[39m_is_scalar_access(key):\n\u001b[0;32m   1146\u001b[0m         \u001b[38;5;28;01mreturn\u001b[39;00m \u001b[38;5;28mself\u001b[39m\u001b[38;5;241m.\u001b[39mobj\u001b[38;5;241m.\u001b[39m_get_value(\u001b[38;5;241m*\u001b[39mkey, takeable\u001b[38;5;241m=\u001b[39m\u001b[38;5;28mself\u001b[39m\u001b[38;5;241m.\u001b[39m_takeable)\n\u001b[1;32m-> 1147\u001b[0m     \u001b[38;5;28;01mreturn\u001b[39;00m \u001b[38;5;28mself\u001b[39m\u001b[38;5;241m.\u001b[39m_getitem_tuple(key)\n\u001b[0;32m   1148\u001b[0m \u001b[38;5;28;01melse\u001b[39;00m:\n\u001b[0;32m   1149\u001b[0m     \u001b[38;5;66;03m# we by definition only have the 0th axis\u001b[39;00m\n\u001b[0;32m   1150\u001b[0m     axis \u001b[38;5;241m=\u001b[39m \u001b[38;5;28mself\u001b[39m\u001b[38;5;241m.\u001b[39maxis \u001b[38;5;129;01mor\u001b[39;00m \u001b[38;5;241m0\u001b[39m\n",
      "File \u001b[1;32m~\\anaconda3\\Lib\\site-packages\\pandas\\core\\indexing.py:1330\u001b[0m, in \u001b[0;36m_LocIndexer._getitem_tuple\u001b[1;34m(self, tup)\u001b[0m\n\u001b[0;32m   1328\u001b[0m \u001b[38;5;28;01mwith\u001b[39;00m suppress(IndexingError):\n\u001b[0;32m   1329\u001b[0m     tup \u001b[38;5;241m=\u001b[39m \u001b[38;5;28mself\u001b[39m\u001b[38;5;241m.\u001b[39m_expand_ellipsis(tup)\n\u001b[1;32m-> 1330\u001b[0m     \u001b[38;5;28;01mreturn\u001b[39;00m \u001b[38;5;28mself\u001b[39m\u001b[38;5;241m.\u001b[39m_getitem_lowerdim(tup)\n\u001b[0;32m   1332\u001b[0m \u001b[38;5;66;03m# no multi-index, so validate all of the indexers\u001b[39;00m\n\u001b[0;32m   1333\u001b[0m tup \u001b[38;5;241m=\u001b[39m \u001b[38;5;28mself\u001b[39m\u001b[38;5;241m.\u001b[39m_validate_tuple_indexer(tup)\n",
      "File \u001b[1;32m~\\anaconda3\\Lib\\site-packages\\pandas\\core\\indexing.py:1063\u001b[0m, in \u001b[0;36m_LocationIndexer._getitem_lowerdim\u001b[1;34m(self, tup)\u001b[0m\n\u001b[0;32m   1061\u001b[0m             \u001b[38;5;28;01mreturn\u001b[39;00m section\n\u001b[0;32m   1062\u001b[0m         \u001b[38;5;66;03m# This is an elided recursive call to iloc/loc\u001b[39;00m\n\u001b[1;32m-> 1063\u001b[0m         \u001b[38;5;28;01mreturn\u001b[39;00m \u001b[38;5;28mgetattr\u001b[39m(section, \u001b[38;5;28mself\u001b[39m\u001b[38;5;241m.\u001b[39mname)[new_key]\n\u001b[0;32m   1065\u001b[0m \u001b[38;5;28;01mraise\u001b[39;00m IndexingError(\u001b[38;5;124m\"\u001b[39m\u001b[38;5;124mnot applicable\u001b[39m\u001b[38;5;124m\"\u001b[39m)\n",
      "File \u001b[1;32m~\\anaconda3\\Lib\\site-packages\\pandas\\core\\indexing.py:1153\u001b[0m, in \u001b[0;36m_LocationIndexer.__getitem__\u001b[1;34m(self, key)\u001b[0m\n\u001b[0;32m   1150\u001b[0m axis \u001b[38;5;241m=\u001b[39m \u001b[38;5;28mself\u001b[39m\u001b[38;5;241m.\u001b[39maxis \u001b[38;5;129;01mor\u001b[39;00m \u001b[38;5;241m0\u001b[39m\n\u001b[0;32m   1152\u001b[0m maybe_callable \u001b[38;5;241m=\u001b[39m com\u001b[38;5;241m.\u001b[39mapply_if_callable(key, \u001b[38;5;28mself\u001b[39m\u001b[38;5;241m.\u001b[39mobj)\n\u001b[1;32m-> 1153\u001b[0m \u001b[38;5;28;01mreturn\u001b[39;00m \u001b[38;5;28mself\u001b[39m\u001b[38;5;241m.\u001b[39m_getitem_axis(maybe_callable, axis\u001b[38;5;241m=\u001b[39maxis)\n",
      "File \u001b[1;32m~\\anaconda3\\Lib\\site-packages\\pandas\\core\\indexing.py:1382\u001b[0m, in \u001b[0;36m_LocIndexer._getitem_axis\u001b[1;34m(self, key, axis)\u001b[0m\n\u001b[0;32m   1379\u001b[0m     \u001b[38;5;28;01mif\u001b[39;00m \u001b[38;5;28mhasattr\u001b[39m(key, \u001b[38;5;124m\"\u001b[39m\u001b[38;5;124mndim\u001b[39m\u001b[38;5;124m\"\u001b[39m) \u001b[38;5;129;01mand\u001b[39;00m key\u001b[38;5;241m.\u001b[39mndim \u001b[38;5;241m>\u001b[39m \u001b[38;5;241m1\u001b[39m:\n\u001b[0;32m   1380\u001b[0m         \u001b[38;5;28;01mraise\u001b[39;00m \u001b[38;5;167;01mValueError\u001b[39;00m(\u001b[38;5;124m\"\u001b[39m\u001b[38;5;124mCannot index with multidimensional key\u001b[39m\u001b[38;5;124m\"\u001b[39m)\n\u001b[1;32m-> 1382\u001b[0m     \u001b[38;5;28;01mreturn\u001b[39;00m \u001b[38;5;28mself\u001b[39m\u001b[38;5;241m.\u001b[39m_getitem_iterable(key, axis\u001b[38;5;241m=\u001b[39maxis)\n\u001b[0;32m   1384\u001b[0m \u001b[38;5;66;03m# nested tuple slicing\u001b[39;00m\n\u001b[0;32m   1385\u001b[0m \u001b[38;5;28;01mif\u001b[39;00m is_nested_tuple(key, labels):\n",
      "File \u001b[1;32m~\\anaconda3\\Lib\\site-packages\\pandas\\core\\indexing.py:1322\u001b[0m, in \u001b[0;36m_LocIndexer._getitem_iterable\u001b[1;34m(self, key, axis)\u001b[0m\n\u001b[0;32m   1319\u001b[0m \u001b[38;5;28mself\u001b[39m\u001b[38;5;241m.\u001b[39m_validate_key(key, axis)\n\u001b[0;32m   1321\u001b[0m \u001b[38;5;66;03m# A collection of keys\u001b[39;00m\n\u001b[1;32m-> 1322\u001b[0m keyarr, indexer \u001b[38;5;241m=\u001b[39m \u001b[38;5;28mself\u001b[39m\u001b[38;5;241m.\u001b[39m_get_listlike_indexer(key, axis)\n\u001b[0;32m   1323\u001b[0m \u001b[38;5;28;01mreturn\u001b[39;00m \u001b[38;5;28mself\u001b[39m\u001b[38;5;241m.\u001b[39mobj\u001b[38;5;241m.\u001b[39m_reindex_with_indexers(\n\u001b[0;32m   1324\u001b[0m     {axis: [keyarr, indexer]}, copy\u001b[38;5;241m=\u001b[39m\u001b[38;5;28;01mTrue\u001b[39;00m, allow_dups\u001b[38;5;241m=\u001b[39m\u001b[38;5;28;01mTrue\u001b[39;00m\n\u001b[0;32m   1325\u001b[0m )\n",
      "File \u001b[1;32m~\\anaconda3\\Lib\\site-packages\\pandas\\core\\indexing.py:1520\u001b[0m, in \u001b[0;36m_LocIndexer._get_listlike_indexer\u001b[1;34m(self, key, axis)\u001b[0m\n\u001b[0;32m   1517\u001b[0m ax \u001b[38;5;241m=\u001b[39m \u001b[38;5;28mself\u001b[39m\u001b[38;5;241m.\u001b[39mobj\u001b[38;5;241m.\u001b[39m_get_axis(axis)\n\u001b[0;32m   1518\u001b[0m axis_name \u001b[38;5;241m=\u001b[39m \u001b[38;5;28mself\u001b[39m\u001b[38;5;241m.\u001b[39mobj\u001b[38;5;241m.\u001b[39m_get_axis_name(axis)\n\u001b[1;32m-> 1520\u001b[0m keyarr, indexer \u001b[38;5;241m=\u001b[39m ax\u001b[38;5;241m.\u001b[39m_get_indexer_strict(key, axis_name)\n\u001b[0;32m   1522\u001b[0m \u001b[38;5;28;01mreturn\u001b[39;00m keyarr, indexer\n",
      "File \u001b[1;32m~\\anaconda3\\Lib\\site-packages\\pandas\\core\\indexes\\base.py:6115\u001b[0m, in \u001b[0;36mIndex._get_indexer_strict\u001b[1;34m(self, key, axis_name)\u001b[0m\n\u001b[0;32m   6112\u001b[0m \u001b[38;5;28;01melse\u001b[39;00m:\n\u001b[0;32m   6113\u001b[0m     keyarr, indexer, new_indexer \u001b[38;5;241m=\u001b[39m \u001b[38;5;28mself\u001b[39m\u001b[38;5;241m.\u001b[39m_reindex_non_unique(keyarr)\n\u001b[1;32m-> 6115\u001b[0m \u001b[38;5;28mself\u001b[39m\u001b[38;5;241m.\u001b[39m_raise_if_missing(keyarr, indexer, axis_name)\n\u001b[0;32m   6117\u001b[0m keyarr \u001b[38;5;241m=\u001b[39m \u001b[38;5;28mself\u001b[39m\u001b[38;5;241m.\u001b[39mtake(indexer)\n\u001b[0;32m   6118\u001b[0m \u001b[38;5;28;01mif\u001b[39;00m \u001b[38;5;28misinstance\u001b[39m(key, Index):\n\u001b[0;32m   6119\u001b[0m     \u001b[38;5;66;03m# GH 42790 - Preserve name from an Index\u001b[39;00m\n",
      "File \u001b[1;32m~\\anaconda3\\Lib\\site-packages\\pandas\\core\\indexes\\base.py:6176\u001b[0m, in \u001b[0;36mIndex._raise_if_missing\u001b[1;34m(self, key, indexer, axis_name)\u001b[0m\n\u001b[0;32m   6174\u001b[0m     \u001b[38;5;28;01mif\u001b[39;00m use_interval_msg:\n\u001b[0;32m   6175\u001b[0m         key \u001b[38;5;241m=\u001b[39m \u001b[38;5;28mlist\u001b[39m(key)\n\u001b[1;32m-> 6176\u001b[0m     \u001b[38;5;28;01mraise\u001b[39;00m \u001b[38;5;167;01mKeyError\u001b[39;00m(\u001b[38;5;124mf\u001b[39m\u001b[38;5;124m\"\u001b[39m\u001b[38;5;124mNone of [\u001b[39m\u001b[38;5;132;01m{\u001b[39;00mkey\u001b[38;5;132;01m}\u001b[39;00m\u001b[38;5;124m] are in the [\u001b[39m\u001b[38;5;132;01m{\u001b[39;00maxis_name\u001b[38;5;132;01m}\u001b[39;00m\u001b[38;5;124m]\u001b[39m\u001b[38;5;124m\"\u001b[39m)\n\u001b[0;32m   6178\u001b[0m not_found \u001b[38;5;241m=\u001b[39m \u001b[38;5;28mlist\u001b[39m(ensure_index(key)[missing_mask\u001b[38;5;241m.\u001b[39mnonzero()[\u001b[38;5;241m0\u001b[39m]]\u001b[38;5;241m.\u001b[39munique())\n\u001b[0;32m   6179\u001b[0m \u001b[38;5;28;01mraise\u001b[39;00m \u001b[38;5;167;01mKeyError\u001b[39;00m(\u001b[38;5;124mf\u001b[39m\u001b[38;5;124m\"\u001b[39m\u001b[38;5;132;01m{\u001b[39;00mnot_found\u001b[38;5;132;01m}\u001b[39;00m\u001b[38;5;124m not in index\u001b[39m\u001b[38;5;124m\"\u001b[39m)\n",
      "\u001b[1;31mKeyError\u001b[0m: \"None of [Index(['Fruit'], dtype='object')] are in the [index]\""
     ]
    }
   ],
   "source": [
    "fruit_data={'Fruit': ['Mango','Apple','Litchi','Grapes'],\n",
    "           'Price':['Yellow','Red','Red','Green'],\n",
    "           'Color':[200,180,80,130]}\n",
    "fdf=pd.DataFrame(fruit_data)\n",
    "print(\"The Fruits DataFrame:\\n\\n\",fdf)\n",
    "print(\"\\nError:the colums of Fruits DataFrame are mismatched...\")\n",
    "fdf=fdf.rename(columns={'Price':'Color', 'Color':'Cost'})\n",
    "print(\"\\nAfter correcting the mismatched The Fruits Dataframe is now :\\n\\n\",fdf)\n",
    "\n",
    "#lowering the column data \n",
    "fdf.columns=fdf.columns.str.lower()\n",
    "print(\"\\n\\nUpdating the case :\\n\\n\", fdf)\n",
    "\n",
    "#displaying specific data \n",
    "print(\"\\n\\ndisplaying specific value ---\\n\",fdf.loc[3])\n",
    "#updating at specific\n",
    "fdf.loc[3]=['Dragon Fruit', 'Purple', 250]\n",
    "print(\"\\n\\nafter updating the values --\\n\\n\", fdf)\n",
    "\n",
    "print(\"\\n\\naccessing specific value --\\n\\n\")\n",
    "print(fdf.loc[2, ['Fruit']])"
   ]
  },
  {
   "cell_type": "code",
   "execution_count": 56,
   "id": "986daf3c-eb51-494f-94a9-5d87e4569e67",
   "metadata": {},
   "outputs": [
    {
     "name": "stdout",
     "output_type": "stream",
     "text": [
      "The Fruits DataFrame:\n",
      "\n",
      "     Fruit   Color  Cost\n",
      "0   Mango  Yellow   200\n",
      "1   Apple     Red   180\n",
      "2  Litchi     Red    80\n",
      "3  Grapes   Green   130\n",
      "\n",
      "\n",
      "Updated DataFrame is :\n",
      "\n",
      "     Fruit   Color  Cost        Remarks\n",
      "0   Mango  Yellow   200      Expensive\n",
      "1   Apple     Red   180  Not Expensive\n",
      "2  Litchi     Red    80  Not Expensive\n",
      "3  Grapes   Green   130  Not Expensive\n"
     ]
    }
   ],
   "source": [
    "fruit_data={'Fruit': ['Mango','Apple','Litchi','Grapes'],\n",
    "           'Color':['Yellow','Red','Red','Green'],\n",
    "           'Cost':[200,180,80,130]}\n",
    "fdf=pd.DataFrame(fruit_data)\n",
    "print(\"The Fruits DataFrame:\\n\\n\",fdf)\n",
    "\n",
    "#updating with new colomn 'Remarks '\n",
    "fdf.loc[fdf['Cost']>190 , 'Remarks']='Expensive'\n",
    "fdf.loc[fdf['Cost']<190 , 'Remarks']='Not Expensive'\n",
    "print(\"\\n\\nUpdated DataFrame is :\\n\\n\",fdf)"
   ]
  },
  {
   "cell_type": "code",
   "execution_count": 3,
   "id": "c83c4bf6-a9ea-4493-8a75-edb3be56bd13",
   "metadata": {},
   "outputs": [
    {
     "name": "stdout",
     "output_type": "stream",
     "text": [
      "Dataframe\n",
      "\n",
      "      Name  Age   Gender\n",
      "0   Dhruv   21      NYC\n",
      "1  Adarsh   28       LA\n",
      "2  Chhavi   16  Chicago\n",
      "3  Khushi   18   Boston\n"
     ]
    }
   ],
   "source": [
    "data ={'Name':['Dhruv', 'Adarsh', 'Chhavi', 'Khushi'],\n",
    "      'Age': [21,28,16,18],\n",
    "      'Gender':['NYC','LA', 'Chicago','Boston']}\n",
    "df=pd.DataFrame(data)\n",
    "print(\"Dataframe\\n\\n\",df)\n",
    "\n"
   ]
  },
  {
   "cell_type": "markdown",
   "id": "41d4fd3c-77f5-4d76-a939-81ea96a20c7b",
   "metadata": {},
   "source": [
    "### Delete A column "
   ]
  },
  {
   "cell_type": "code",
   "execution_count": 4,
   "id": "acf3d187-6eb7-4d2b-9d91-f3cb79a4bca4",
   "metadata": {},
   "outputs": [],
   "source": [
    "# drop column"
   ]
  },
  {
   "cell_type": "code",
   "execution_count": 5,
   "id": "eb55b823-61bb-48bf-8aa8-40e220873735",
   "metadata": {},
   "outputs": [
    {
     "name": "stdout",
     "output_type": "stream",
     "text": [
      "     Name  Age   Gender\n",
      "0   Dhruv   21      NYC\n",
      "1  Adarsh   28       LA\n",
      "2  Chhavi   16  Chicago\n",
      "3  Khushi   18   Boston\n"
     ]
    }
   ],
   "source": [
    "print(df)"
   ]
  },
  {
   "cell_type": "code",
   "execution_count": 6,
   "id": "842636bc-55a2-42dc-b374-3eb071de4d42",
   "metadata": {},
   "outputs": [
    {
     "data": {
      "text/html": [
       "<div>\n",
       "<style scoped>\n",
       "    .dataframe tbody tr th:only-of-type {\n",
       "        vertical-align: middle;\n",
       "    }\n",
       "\n",
       "    .dataframe tbody tr th {\n",
       "        vertical-align: top;\n",
       "    }\n",
       "\n",
       "    .dataframe thead th {\n",
       "        text-align: right;\n",
       "    }\n",
       "</style>\n",
       "<table border=\"1\" class=\"dataframe\">\n",
       "  <thead>\n",
       "    <tr style=\"text-align: right;\">\n",
       "      <th></th>\n",
       "      <th>Name</th>\n",
       "      <th>Gender</th>\n",
       "    </tr>\n",
       "  </thead>\n",
       "  <tbody>\n",
       "    <tr>\n",
       "      <th>0</th>\n",
       "      <td>Dhruv</td>\n",
       "      <td>NYC</td>\n",
       "    </tr>\n",
       "    <tr>\n",
       "      <th>1</th>\n",
       "      <td>Adarsh</td>\n",
       "      <td>LA</td>\n",
       "    </tr>\n",
       "    <tr>\n",
       "      <th>2</th>\n",
       "      <td>Chhavi</td>\n",
       "      <td>Chicago</td>\n",
       "    </tr>\n",
       "    <tr>\n",
       "      <th>3</th>\n",
       "      <td>Khushi</td>\n",
       "      <td>Boston</td>\n",
       "    </tr>\n",
       "  </tbody>\n",
       "</table>\n",
       "</div>"
      ],
      "text/plain": [
       "     Name   Gender\n",
       "0   Dhruv      NYC\n",
       "1  Adarsh       LA\n",
       "2  Chhavi  Chicago\n",
       "3  Khushi   Boston"
      ]
     },
     "execution_count": 6,
     "metadata": {},
     "output_type": "execute_result"
    }
   ],
   "source": [
    "df.drop(\"Age\",axis=1)"
   ]
  },
  {
   "cell_type": "code",
   "execution_count": 12,
   "id": "29b7ba4a-a05a-4d63-bb1b-f9065dbb11f7",
   "metadata": {},
   "outputs": [
    {
     "name": "stdout",
     "output_type": "stream",
     "text": [
      "   OID Product  Quantity     Status\n",
      "0    1  widget        10   shipped \n",
      "1    2  gadget        20  cancelled\n",
      "2    3  widget        10  cancelled\n",
      "3    4  Doodad         5    shipped\n",
      "4    5  widget        15    shipped \n",
      "\n",
      "\n",
      "   OID Product  Quantity     Status\n",
      "1    2  gadget        20  cancelled\n",
      "2    3  widget        10  cancelled\n"
     ]
    }
   ],
   "source": [
    "data={\n",
    "    'OID':[1,2,3,4,5],\n",
    "    'Product':['widget', 'gadget','widget','Doodad','widget'],\n",
    "    'Quantity':[10,20,10,5,15],\n",
    "    'Status':['shipped ', 'cancelled','cancelled','shipped','shipped']\n",
    "}\n",
    "df=pd.DataFrame(data)\n",
    "print(df,\"\\n\\n\")\n",
    "print(df[df['Status']=='cancelled'])"
   ]
  },
  {
   "cell_type": "code",
   "execution_count": null,
   "id": "76a5f355-b77a-4577-908b-c51746ca9396",
   "metadata": {},
   "outputs": [],
   "source": []
  },
  {
   "cell_type": "markdown",
   "id": "9983fa3d-6d25-4f89-89ef-5dc77aea23d4",
   "metadata": {},
   "source": [
    "### CSV Files "
   ]
  },
  {
   "cell_type": "code",
   "execution_count": 13,
   "id": "82812a59-bfa4-41ad-971e-182efe20bc00",
   "metadata": {},
   "outputs": [],
   "source": [
    "#to_csv() \n",
    "#to convert the data into csv files "
   ]
  },
  {
   "cell_type": "code",
   "execution_count": 20,
   "id": "242417d2-b556-4057-a47d-84fea32868c9",
   "metadata": {},
   "outputs": [
    {
     "name": "stdout",
     "output_type": "stream",
     "text": [
      "data has been written\n"
     ]
    }
   ],
   "source": [
    "data={\n",
    "    'OID':[1,2,3,4,5],\n",
    "    'Product':['widget', 'gadget','widget','Doodad','widget'],\n",
    "    'Quantity':[10,20,10,5,15],\n",
    "    'Status':['shipped ', 'cancelled','cancelled','shipped','shipped']\n",
    "}\n",
    "df=pd.DataFrame(data)\n",
    "csv_file='output.csv'\n",
    "df.to_csv(csv_file,index=False )\n",
    "print(\"data has been written\")"
   ]
  },
  {
   "cell_type": "code",
   "execution_count": 22,
   "id": "3bd20a30-d71c-4d2e-b0a5-031d7b7ccaaa",
   "metadata": {},
   "outputs": [
    {
     "name": "stdout",
     "output_type": "stream",
     "text": [
      "   OID Product  Quantity     Status\n",
      "0    1  widget        10   shipped \n",
      "1    2  gadget        20  cancelled\n",
      "2    3  widget        10  cancelled\n",
      "3    4  Doodad         5    shipped\n",
      "4    5  widget        15    shipped\n"
     ]
    }
   ],
   "source": [
    "read_csv=pd.read_csv('output.csv')\n",
    "print(read_csv)"
   ]
  },
  {
   "cell_type": "code",
   "execution_count": null,
   "id": "bfdc2388-75bb-47bd-bf9f-65be77ca6768",
   "metadata": {},
   "outputs": [],
   "source": []
  },
  {
   "cell_type": "markdown",
   "id": "5e9e7612-30c5-4484-a535-265542756eb4",
   "metadata": {},
   "source": [
    "### getting limited rows "
   ]
  },
  {
   "cell_type": "code",
   "execution_count": 23,
   "id": "1c9bd4ba-833c-415d-a07f-fba7e4625c86",
   "metadata": {},
   "outputs": [
    {
     "data": {
      "text/html": [
       "<div>\n",
       "<style scoped>\n",
       "    .dataframe tbody tr th:only-of-type {\n",
       "        vertical-align: middle;\n",
       "    }\n",
       "\n",
       "    .dataframe tbody tr th {\n",
       "        vertical-align: top;\n",
       "    }\n",
       "\n",
       "    .dataframe thead th {\n",
       "        text-align: right;\n",
       "    }\n",
       "</style>\n",
       "<table border=\"1\" class=\"dataframe\">\n",
       "  <thead>\n",
       "    <tr style=\"text-align: right;\">\n",
       "      <th></th>\n",
       "      <th>OID</th>\n",
       "      <th>Product</th>\n",
       "      <th>Quantity</th>\n",
       "      <th>Status</th>\n",
       "    </tr>\n",
       "  </thead>\n",
       "  <tbody>\n",
       "    <tr>\n",
       "      <th>0</th>\n",
       "      <td>1</td>\n",
       "      <td>widget</td>\n",
       "      <td>10</td>\n",
       "      <td>shipped</td>\n",
       "    </tr>\n",
       "    <tr>\n",
       "      <th>1</th>\n",
       "      <td>2</td>\n",
       "      <td>gadget</td>\n",
       "      <td>20</td>\n",
       "      <td>cancelled</td>\n",
       "    </tr>\n",
       "    <tr>\n",
       "      <th>2</th>\n",
       "      <td>3</td>\n",
       "      <td>widget</td>\n",
       "      <td>10</td>\n",
       "      <td>cancelled</td>\n",
       "    </tr>\n",
       "  </tbody>\n",
       "</table>\n",
       "</div>"
      ],
      "text/plain": [
       "   OID Product  Quantity     Status\n",
       "0    1  widget        10   shipped \n",
       "1    2  gadget        20  cancelled\n",
       "2    3  widget        10  cancelled"
      ]
     },
     "execution_count": 23,
     "metadata": {},
     "output_type": "execute_result"
    }
   ],
   "source": [
    "data=pd.read_csv('output.csv',nrows=3)\n",
    "data"
   ]
  },
  {
   "cell_type": "code",
   "execution_count": null,
   "id": "134c223c-655b-46b2-b6a2-677c045ca9ab",
   "metadata": {},
   "outputs": [],
   "source": []
  },
  {
   "cell_type": "markdown",
   "id": "ffa94d20-914b-4e24-ba80-f329c9674c0d",
   "metadata": {},
   "source": [
    "### usecol "
   ]
  },
  {
   "cell_type": "code",
   "execution_count": 36,
   "id": "a46e3df7-81c5-4206-81d9-4261b731992e",
   "metadata": {},
   "outputs": [
    {
     "data": {
      "text/html": [
       "<div>\n",
       "<style scoped>\n",
       "    .dataframe tbody tr th:only-of-type {\n",
       "        vertical-align: middle;\n",
       "    }\n",
       "\n",
       "    .dataframe tbody tr th {\n",
       "        vertical-align: top;\n",
       "    }\n",
       "\n",
       "    .dataframe thead th {\n",
       "        text-align: right;\n",
       "    }\n",
       "</style>\n",
       "<table border=\"1\" class=\"dataframe\">\n",
       "  <thead>\n",
       "    <tr style=\"text-align: right;\">\n",
       "      <th></th>\n",
       "      <th>OID</th>\n",
       "      <th>Product</th>\n",
       "      <th>Status</th>\n",
       "    </tr>\n",
       "  </thead>\n",
       "  <tbody>\n",
       "    <tr>\n",
       "      <th>0</th>\n",
       "      <td>1</td>\n",
       "      <td>widget</td>\n",
       "      <td>shipped</td>\n",
       "    </tr>\n",
       "    <tr>\n",
       "      <th>1</th>\n",
       "      <td>2</td>\n",
       "      <td>gadget</td>\n",
       "      <td>cancelled</td>\n",
       "    </tr>\n",
       "    <tr>\n",
       "      <th>2</th>\n",
       "      <td>3</td>\n",
       "      <td>widget</td>\n",
       "      <td>cancelled</td>\n",
       "    </tr>\n",
       "  </tbody>\n",
       "</table>\n",
       "</div>"
      ],
      "text/plain": [
       "   OID Product     Status\n",
       "0    1  widget   shipped \n",
       "1    2  gadget  cancelled\n",
       "2    3  widget  cancelled"
      ]
     },
     "execution_count": 36,
     "metadata": {},
     "output_type": "execute_result"
    }
   ],
   "source": [
    "data=pd.read_csv('output.csv',nrows=3,usecols=(0,1,3))\n",
    "data"
   ]
  },
  {
   "cell_type": "code",
   "execution_count": 34,
   "id": "2783ac1e-30e9-4506-bcf2-6319d3339106",
   "metadata": {},
   "outputs": [
    {
     "data": {
      "text/html": [
       "<div>\n",
       "<style scoped>\n",
       "    .dataframe tbody tr th:only-of-type {\n",
       "        vertical-align: middle;\n",
       "    }\n",
       "\n",
       "    .dataframe tbody tr th {\n",
       "        vertical-align: top;\n",
       "    }\n",
       "\n",
       "    .dataframe thead th {\n",
       "        text-align: right;\n",
       "    }\n",
       "</style>\n",
       "<table border=\"1\" class=\"dataframe\">\n",
       "  <thead>\n",
       "    <tr style=\"text-align: right;\">\n",
       "      <th></th>\n",
       "      <th>Product</th>\n",
       "      <th>Status</th>\n",
       "    </tr>\n",
       "  </thead>\n",
       "  <tbody>\n",
       "    <tr>\n",
       "      <th>0</th>\n",
       "      <td>widget</td>\n",
       "      <td>shipped</td>\n",
       "    </tr>\n",
       "    <tr>\n",
       "      <th>1</th>\n",
       "      <td>gadget</td>\n",
       "      <td>cancelled</td>\n",
       "    </tr>\n",
       "    <tr>\n",
       "      <th>2</th>\n",
       "      <td>widget</td>\n",
       "      <td>cancelled</td>\n",
       "    </tr>\n",
       "  </tbody>\n",
       "</table>\n",
       "</div>"
      ],
      "text/plain": [
       "  Product     Status\n",
       "0  widget   shipped \n",
       "1  gadget  cancelled\n",
       "2  widget  cancelled"
      ]
     },
     "execution_count": 34,
     "metadata": {},
     "output_type": "execute_result"
    }
   ],
   "source": [
    "data=pd.read_csv('output.csv',nrows=3,usecols=['Status','Product'])\n",
    "data"
   ]
  },
  {
   "cell_type": "code",
   "execution_count": null,
   "id": "e972c1ae-992f-4f26-9bdf-ea4ce6d4c8ed",
   "metadata": {},
   "outputs": [],
   "source": []
  },
  {
   "cell_type": "markdown",
   "id": "32600e92-c539-45a2-b2d3-e81f2e4375e0",
   "metadata": {},
   "source": [
    "### Changing Index cols "
   ]
  },
  {
   "cell_type": "code",
   "execution_count": 38,
   "id": "155cbefa-0e46-4d45-a924-191d8e38a4ac",
   "metadata": {},
   "outputs": [
    {
     "name": "stdout",
     "output_type": "stream",
     "text": [
      "    Product  Quantity     Status\n",
      "OID                             \n",
      "1    widget        10   shipped \n",
      "2    gadget        20  cancelled\n",
      "3    widget        10  cancelled\n",
      "4    Doodad         5    shipped\n",
      "5    widget        15    shipped\n"
     ]
    }
   ],
   "source": [
    "data=pd.read_csv('output.csv', index_col='OID')\n",
    "print(data)"
   ]
  },
  {
   "cell_type": "code",
   "execution_count": null,
   "id": "47135525-5501-423e-beeb-21c0ec15c5a0",
   "metadata": {},
   "outputs": [],
   "source": []
  },
  {
   "cell_type": "markdown",
   "id": "2de2c84b-dcbf-475d-9fb2-b677b296311e",
   "metadata": {},
   "source": [
    "### Changing Header "
   ]
  },
  {
   "cell_type": "code",
   "execution_count": 44,
   "id": "775e8905-5e4f-4ea6-bcc5-4d7a0caf32ee",
   "metadata": {},
   "outputs": [
    {
     "data": {
      "text/html": [
       "<div>\n",
       "<style scoped>\n",
       "    .dataframe tbody tr th:only-of-type {\n",
       "        vertical-align: middle;\n",
       "    }\n",
       "\n",
       "    .dataframe tbody tr th {\n",
       "        vertical-align: top;\n",
       "    }\n",
       "\n",
       "    .dataframe thead th {\n",
       "        text-align: right;\n",
       "    }\n",
       "</style>\n",
       "<table border=\"1\" class=\"dataframe\">\n",
       "  <thead>\n",
       "    <tr style=\"text-align: right;\">\n",
       "      <th></th>\n",
       "      <th>OrderID</th>\n",
       "      <th>Products</th>\n",
       "      <th>Units</th>\n",
       "      <th>Status</th>\n",
       "    </tr>\n",
       "  </thead>\n",
       "  <tbody>\n",
       "    <tr>\n",
       "      <th>0</th>\n",
       "      <td>OID</td>\n",
       "      <td>Product</td>\n",
       "      <td>Quantity</td>\n",
       "      <td>Status</td>\n",
       "    </tr>\n",
       "    <tr>\n",
       "      <th>1</th>\n",
       "      <td>1</td>\n",
       "      <td>widget</td>\n",
       "      <td>10</td>\n",
       "      <td>shipped</td>\n",
       "    </tr>\n",
       "    <tr>\n",
       "      <th>2</th>\n",
       "      <td>2</td>\n",
       "      <td>gadget</td>\n",
       "      <td>20</td>\n",
       "      <td>cancelled</td>\n",
       "    </tr>\n",
       "    <tr>\n",
       "      <th>3</th>\n",
       "      <td>3</td>\n",
       "      <td>widget</td>\n",
       "      <td>10</td>\n",
       "      <td>cancelled</td>\n",
       "    </tr>\n",
       "    <tr>\n",
       "      <th>4</th>\n",
       "      <td>4</td>\n",
       "      <td>Doodad</td>\n",
       "      <td>5</td>\n",
       "      <td>shipped</td>\n",
       "    </tr>\n",
       "    <tr>\n",
       "      <th>5</th>\n",
       "      <td>5</td>\n",
       "      <td>widget</td>\n",
       "      <td>15</td>\n",
       "      <td>shipped</td>\n",
       "    </tr>\n",
       "  </tbody>\n",
       "</table>\n",
       "</div>"
      ],
      "text/plain": [
       "  OrderID Products     Units     Status\n",
       "0     OID  Product  Quantity     Status\n",
       "1       1   widget        10   shipped \n",
       "2       2   gadget        20  cancelled\n",
       "3       3   widget        10  cancelled\n",
       "4       4   Doodad         5    shipped\n",
       "5       5   widget        15    shipped"
      ]
     },
     "execution_count": 44,
     "metadata": {},
     "output_type": "execute_result"
    }
   ],
   "source": [
    "data1=pd.read_csv('output.csv', names=['OrderID','Products','Units','Status'])\n",
    "data1"
   ]
  },
  {
   "cell_type": "code",
   "execution_count": 55,
   "id": "d5dea6ae-a3f6-4e96-aa43-a2f7aab763d9",
   "metadata": {},
   "outputs": [
    {
     "data": {
      "text/plain": [
       "RangeIndex(start=0, stop=6, step=1)"
      ]
     },
     "execution_count": 55,
     "metadata": {},
     "output_type": "execute_result"
    }
   ],
   "source": [
    "data1.index"
   ]
  },
  {
   "cell_type": "code",
   "execution_count": 46,
   "id": "2c045f28-e283-4677-882c-c8cb5bb3b897",
   "metadata": {},
   "outputs": [
    {
     "data": {
      "text/plain": [
       "<NumpyExtensionArray>\n",
       "[0, 1, 2, 3, 4, 5]\n",
       "Length: 6, dtype: int64"
      ]
     },
     "execution_count": 46,
     "metadata": {},
     "output_type": "execute_result"
    }
   ],
   "source": [
    "data1.index.array"
   ]
  },
  {
   "cell_type": "code",
   "execution_count": 48,
   "id": "54c7b475-8e04-4ef0-a4ab-f6170fe11b9d",
   "metadata": {},
   "outputs": [
    {
     "data": {
      "text/html": [
       "<div>\n",
       "<style scoped>\n",
       "    .dataframe tbody tr th:only-of-type {\n",
       "        vertical-align: middle;\n",
       "    }\n",
       "\n",
       "    .dataframe tbody tr th {\n",
       "        vertical-align: top;\n",
       "    }\n",
       "\n",
       "    .dataframe thead th {\n",
       "        text-align: right;\n",
       "    }\n",
       "</style>\n",
       "<table border=\"1\" class=\"dataframe\">\n",
       "  <thead>\n",
       "    <tr style=\"text-align: right;\">\n",
       "      <th></th>\n",
       "      <th>OrderID</th>\n",
       "      <th>Products</th>\n",
       "      <th>Units</th>\n",
       "      <th>Status</th>\n",
       "    </tr>\n",
       "  </thead>\n",
       "  <tbody>\n",
       "    <tr>\n",
       "      <th>count</th>\n",
       "      <td>6</td>\n",
       "      <td>6</td>\n",
       "      <td>6</td>\n",
       "      <td>6</td>\n",
       "    </tr>\n",
       "    <tr>\n",
       "      <th>unique</th>\n",
       "      <td>6</td>\n",
       "      <td>4</td>\n",
       "      <td>5</td>\n",
       "      <td>4</td>\n",
       "    </tr>\n",
       "    <tr>\n",
       "      <th>top</th>\n",
       "      <td>OID</td>\n",
       "      <td>widget</td>\n",
       "      <td>10</td>\n",
       "      <td>cancelled</td>\n",
       "    </tr>\n",
       "    <tr>\n",
       "      <th>freq</th>\n",
       "      <td>1</td>\n",
       "      <td>3</td>\n",
       "      <td>2</td>\n",
       "      <td>2</td>\n",
       "    </tr>\n",
       "  </tbody>\n",
       "</table>\n",
       "</div>"
      ],
      "text/plain": [
       "       OrderID Products Units     Status\n",
       "count        6        6     6          6\n",
       "unique       6        4     5          4\n",
       "top        OID   widget    10  cancelled\n",
       "freq         1        3     2          2"
      ]
     },
     "execution_count": 48,
     "metadata": {},
     "output_type": "execute_result"
    }
   ],
   "source": [
    "data1.describe()"
   ]
  },
  {
   "cell_type": "code",
   "execution_count": 50,
   "id": "9f42bd22-a28c-4ab7-9737-7a6dd1e75478",
   "metadata": {},
   "outputs": [
    {
     "data": {
      "text/plain": [
       "Index(['OrderID', 'Products', 'Units', 'Status'], dtype='object')"
      ]
     },
     "execution_count": 50,
     "metadata": {},
     "output_type": "execute_result"
    }
   ],
   "source": [
    "data1.columns"
   ]
  },
  {
   "cell_type": "code",
   "execution_count": 54,
   "id": "ffe74f36-d39e-4df0-9714-30142a5fd76d",
   "metadata": {},
   "outputs": [
    {
     "data": {
      "text/html": [
       "<div>\n",
       "<style scoped>\n",
       "    .dataframe tbody tr th:only-of-type {\n",
       "        vertical-align: middle;\n",
       "    }\n",
       "\n",
       "    .dataframe tbody tr th {\n",
       "        vertical-align: top;\n",
       "    }\n",
       "\n",
       "    .dataframe thead th {\n",
       "        text-align: right;\n",
       "    }\n",
       "</style>\n",
       "<table border=\"1\" class=\"dataframe\">\n",
       "  <thead>\n",
       "    <tr style=\"text-align: right;\">\n",
       "      <th></th>\n",
       "      <th>OrderID</th>\n",
       "      <th>Products</th>\n",
       "      <th>Units</th>\n",
       "      <th>Status</th>\n",
       "    </tr>\n",
       "  </thead>\n",
       "  <tbody>\n",
       "    <tr>\n",
       "      <th>0</th>\n",
       "      <td>OID</td>\n",
       "      <td>Product</td>\n",
       "      <td>Quantity</td>\n",
       "      <td>Status</td>\n",
       "    </tr>\n",
       "    <tr>\n",
       "      <th>1</th>\n",
       "      <td>1</td>\n",
       "      <td>widget</td>\n",
       "      <td>10</td>\n",
       "      <td>shipped</td>\n",
       "    </tr>\n",
       "    <tr>\n",
       "      <th>2</th>\n",
       "      <td>2</td>\n",
       "      <td>gadget</td>\n",
       "      <td>20</td>\n",
       "      <td>cancelled</td>\n",
       "    </tr>\n",
       "    <tr>\n",
       "      <th>3</th>\n",
       "      <td>3</td>\n",
       "      <td>widget</td>\n",
       "      <td>10</td>\n",
       "      <td>cancelled</td>\n",
       "    </tr>\n",
       "    <tr>\n",
       "      <th>4</th>\n",
       "      <td>4</td>\n",
       "      <td>Doodad</td>\n",
       "      <td>5</td>\n",
       "      <td>shipped</td>\n",
       "    </tr>\n",
       "  </tbody>\n",
       "</table>\n",
       "</div>"
      ],
      "text/plain": [
       "  OrderID Products     Units     Status\n",
       "0     OID  Product  Quantity     Status\n",
       "1       1   widget        10   shipped \n",
       "2       2   gadget        20  cancelled\n",
       "3       3   widget        10  cancelled\n",
       "4       4   Doodad         5    shipped"
      ]
     },
     "execution_count": 54,
     "metadata": {},
     "output_type": "execute_result"
    }
   ],
   "source": [
    "data1.head()"
   ]
  },
  {
   "cell_type": "code",
   "execution_count": 52,
   "id": "72ef0714-5dd8-4331-bac5-db218948bb3b",
   "metadata": {},
   "outputs": [
    {
     "data": {
      "text/html": [
       "<div>\n",
       "<style scoped>\n",
       "    .dataframe tbody tr th:only-of-type {\n",
       "        vertical-align: middle;\n",
       "    }\n",
       "\n",
       "    .dataframe tbody tr th {\n",
       "        vertical-align: top;\n",
       "    }\n",
       "\n",
       "    .dataframe thead th {\n",
       "        text-align: right;\n",
       "    }\n",
       "</style>\n",
       "<table border=\"1\" class=\"dataframe\">\n",
       "  <thead>\n",
       "    <tr style=\"text-align: right;\">\n",
       "      <th></th>\n",
       "      <th>OrderID</th>\n",
       "      <th>Products</th>\n",
       "      <th>Units</th>\n",
       "      <th>Status</th>\n",
       "    </tr>\n",
       "  </thead>\n",
       "  <tbody>\n",
       "    <tr>\n",
       "      <th>1</th>\n",
       "      <td>1</td>\n",
       "      <td>widget</td>\n",
       "      <td>10</td>\n",
       "      <td>shipped</td>\n",
       "    </tr>\n",
       "    <tr>\n",
       "      <th>2</th>\n",
       "      <td>2</td>\n",
       "      <td>gadget</td>\n",
       "      <td>20</td>\n",
       "      <td>cancelled</td>\n",
       "    </tr>\n",
       "    <tr>\n",
       "      <th>3</th>\n",
       "      <td>3</td>\n",
       "      <td>widget</td>\n",
       "      <td>10</td>\n",
       "      <td>cancelled</td>\n",
       "    </tr>\n",
       "    <tr>\n",
       "      <th>4</th>\n",
       "      <td>4</td>\n",
       "      <td>Doodad</td>\n",
       "      <td>5</td>\n",
       "      <td>shipped</td>\n",
       "    </tr>\n",
       "    <tr>\n",
       "      <th>5</th>\n",
       "      <td>5</td>\n",
       "      <td>widget</td>\n",
       "      <td>15</td>\n",
       "      <td>shipped</td>\n",
       "    </tr>\n",
       "  </tbody>\n",
       "</table>\n",
       "</div>"
      ],
      "text/plain": [
       "  OrderID Products Units     Status\n",
       "1       1   widget    10   shipped \n",
       "2       2   gadget    20  cancelled\n",
       "3       3   widget    10  cancelled\n",
       "4       4   Doodad     5    shipped\n",
       "5       5   widget    15    shipped"
      ]
     },
     "execution_count": 52,
     "metadata": {},
     "output_type": "execute_result"
    }
   ],
   "source": [
    "data1.tail()"
   ]
  },
  {
   "cell_type": "code",
   "execution_count": 56,
   "id": "a3926787-0018-447c-88f4-39aaf0503296",
   "metadata": {},
   "outputs": [
    {
     "name": "stdout",
     "output_type": "stream",
     "text": [
      "<class 'pandas.core.frame.DataFrame'>\n",
      "RangeIndex: 5 entries, 0 to 4\n",
      "Data columns (total 4 columns):\n",
      " #   Column    Non-Null Count  Dtype \n",
      "---  ------    --------------  ----- \n",
      " 0   OID       5 non-null      int64 \n",
      " 1   Product   5 non-null      object\n",
      " 2   Quantity  5 non-null      int64 \n",
      " 3   Status    5 non-null      object\n",
      "dtypes: int64(2), object(2)\n",
      "memory usage: 292.0+ bytes\n"
     ]
    }
   ],
   "source": [
    "df.info()"
   ]
  },
  {
   "cell_type": "code",
   "execution_count": 58,
   "id": "f1a6cce3-51c1-44a6-a40d-05a82243d70a",
   "metadata": {},
   "outputs": [
    {
     "data": {
      "text/plain": [
       "0    4\n",
       "1    4\n",
       "2    4\n",
       "3    4\n",
       "4    4\n",
       "dtype: int64"
      ]
     },
     "execution_count": 58,
     "metadata": {},
     "output_type": "execute_result"
    }
   ],
   "source": [
    "df.count(axis=1)"
   ]
  },
  {
   "cell_type": "code",
   "execution_count": 61,
   "id": "32d042c3-72c8-493e-afa6-5fbb6a487ced",
   "metadata": {},
   "outputs": [
    {
     "data": {
      "text/html": [
       "<div>\n",
       "<style scoped>\n",
       "    .dataframe tbody tr th:only-of-type {\n",
       "        vertical-align: middle;\n",
       "    }\n",
       "\n",
       "    .dataframe tbody tr th {\n",
       "        vertical-align: top;\n",
       "    }\n",
       "\n",
       "    .dataframe thead th {\n",
       "        text-align: right;\n",
       "    }\n",
       "</style>\n",
       "<table border=\"1\" class=\"dataframe\">\n",
       "  <thead>\n",
       "    <tr style=\"text-align: right;\">\n",
       "      <th></th>\n",
       "      <th>OID</th>\n",
       "      <th>Product</th>\n",
       "      <th>Quantity</th>\n",
       "      <th>Status</th>\n",
       "    </tr>\n",
       "  </thead>\n",
       "  <tbody>\n",
       "    <tr>\n",
       "      <th>0</th>\n",
       "      <td>1</td>\n",
       "      <td>widget</td>\n",
       "      <td>10</td>\n",
       "      <td>shipped</td>\n",
       "    </tr>\n",
       "    <tr>\n",
       "      <th>1</th>\n",
       "      <td>2</td>\n",
       "      <td>gadget</td>\n",
       "      <td>20</td>\n",
       "      <td>cancelled</td>\n",
       "    </tr>\n",
       "    <tr>\n",
       "      <th>2</th>\n",
       "      <td>3</td>\n",
       "      <td>widget</td>\n",
       "      <td>10</td>\n",
       "      <td>cancelled</td>\n",
       "    </tr>\n",
       "    <tr>\n",
       "      <th>3</th>\n",
       "      <td>4</td>\n",
       "      <td>Doodad</td>\n",
       "      <td>5</td>\n",
       "      <td>shipped</td>\n",
       "    </tr>\n",
       "    <tr>\n",
       "      <th>4</th>\n",
       "      <td>5</td>\n",
       "      <td>widget</td>\n",
       "      <td>15</td>\n",
       "      <td>shipped</td>\n",
       "    </tr>\n",
       "  </tbody>\n",
       "</table>\n",
       "</div>"
      ],
      "text/plain": [
       "   OID Product  Quantity     Status\n",
       "0    1  widget        10   shipped \n",
       "1    2  gadget        20  cancelled\n",
       "2    3  widget        10  cancelled\n",
       "3    4  Doodad         5    shipped\n",
       "4    5  widget        15    shipped"
      ]
     },
     "execution_count": 61,
     "metadata": {},
     "output_type": "execute_result"
    }
   ],
   "source": [
    "df.dropna() #it produces new data frame "
   ]
  },
  {
   "cell_type": "code",
   "execution_count": 62,
   "id": "3f6adc61-a9db-430f-a591-a99cd7a78cad",
   "metadata": {},
   "outputs": [],
   "source": [
    "df.dropna(inplace=True) # this will provide a new dataframe without na values "
   ]
  },
  {
   "cell_type": "markdown",
   "id": "a0d5bdbf-5f3c-4652-9f1e-64eae517b8e4",
   "metadata": {},
   "source": [
    "#### Duplicate values "
   ]
  },
  {
   "cell_type": "code",
   "execution_count": 66,
   "id": "34e9e02a-9fe4-43b2-9144-43ed3c0a0217",
   "metadata": {},
   "outputs": [
    {
     "name": "stdout",
     "output_type": "stream",
     "text": [
      "the duplicated rows :\n",
      "\n",
      " 0    False\n",
      "1    False\n",
      "2    False\n",
      "3    False\n",
      "4    False\n",
      "5    False\n",
      "dtype: bool\n"
     ]
    }
   ],
   "source": [
    "print(\"the duplicated rows :\\n\\n\",data1.duplicated())"
   ]
  },
  {
   "cell_type": "code",
   "execution_count": null,
   "id": "0d6c15a4-8b8c-45f5-bddd-d55a410d3fb2",
   "metadata": {},
   "outputs": [],
   "source": [
    "drop , to_csv, read_csv, dropna, info , nrows , count, value_counts , head, tail \n",
    "describe , index , index.array ,\n"
   ]
  },
  {
   "cell_type": "code",
   "execution_count": null,
   "id": "bc52daca-c71b-4ef4-8812-e40ca64c9a87",
   "metadata": {},
   "outputs": [],
   "source": []
  },
  {
   "cell_type": "code",
   "execution_count": 1,
   "id": "006e3fa2-a247-4a5a-8525-108b22aa0ba0",
   "metadata": {},
   "outputs": [],
   "source": [
    "import pandas as pd "
   ]
  },
  {
   "cell_type": "code",
   "execution_count": 10,
   "id": "80ff437d-a857-4b4d-99bb-dc2058ca4eb3",
   "metadata": {},
   "outputs": [
    {
     "name": "stdout",
     "output_type": "stream",
     "text": [
      "before\n",
      " (5, 4) \n",
      "    StdID Name, Age  Grade      Major\n",
      "0      1    widget     10   shipped \n",
      "1      2    gadget     20  cancelled\n",
      "2      3    widget     10  cancelled\n",
      "3      4    Doodad      5    shipped\n",
      "4      5    widget     15    shipped\n",
      "\n",
      "after\n",
      "    StdID Name, Age  Grade      Major\n",
      "0      1    widget     10   shipped \n",
      "1      2    gadget     20  cancelled\n",
      "2      3    widget     10  cancelled\n",
      "3      4    Doodad      5    shipped\n",
      "4      5    widget     15    shipped\n",
      "after dropping na \n",
      "    StdID Name, Age  Grade      Major\n",
      "0      1    widget     10   shipped \n",
      "1      2    gadget     20  cancelled\n",
      "2      3    widget     10  cancelled\n",
      "3      4    Doodad      5    shipped\n",
      "4      5    widget     15    shipped\n"
     ]
    }
   ],
   "source": [
    "col_name=['StdID','Name, Age', 'Grade','Major']\n",
    "data=pd.read_csv('output.csv',names=col_name,header=0)\n",
    "print(\"before\\n\",data.shape,\"\\n\",data)\n",
    "\n",
    "data.drop_duplicates(inplace=True)\n",
    "print(\"\\nafter\\n\",data)\n",
    "\n",
    "data.dropna(inplace=True)\n",
    "print(\"after dropping na \\n\", data)\n"
   ]
  },
  {
   "cell_type": "code",
   "execution_count": 11,
   "id": "ec70fc89-6dd5-4f4d-bc44-932a9debfd9a",
   "metadata": {},
   "outputs": [
    {
     "name": "stdout",
     "output_type": "stream",
     "text": [
      "Original DataFrame:\n",
      "    Student_ID     Name  Age Gender Grade  Score\n",
      "0            1    Alice   20      F     A     85\n",
      "1            2      Bob   21      M     B     78\n",
      "2            3  Charlie   19      M     A     92\n",
      "3            4    David   20      M     C     67\n",
      "4            5      Eva   22      F     B     75\n",
      "5            6    Frank   21      M     A     88\n",
      "6            7    Grace   23      F     B     90\n",
      "7            8    Helen   22      F     A     85\n",
      "8            9      Ivy   21      F     C     76\n",
      "9           10     Jack   19      M     B     79\n",
      "10           3  Charlie   19      M     A     92\n",
      "\n",
      "Shape of the DataFrame:\n",
      "(10, 6)\n",
      "\n",
      "Information about the DataFrame:\n",
      "<class 'pandas.core.frame.DataFrame'>\n",
      "Index: 10 entries, 0 to 9\n",
      "Data columns (total 6 columns):\n",
      " #   Column      Non-Null Count  Dtype \n",
      "---  ------      --------------  ----- \n",
      " 0   Student_ID  10 non-null     int64 \n",
      " 1   Name        10 non-null     object\n",
      " 2   Age         10 non-null     int64 \n",
      " 3   Gender      10 non-null     object\n",
      " 4   Grade       10 non-null     object\n",
      " 5   Score       10 non-null     int64 \n",
      "dtypes: int64(3), object(3)\n",
      "memory usage: 560.0+ bytes\n",
      "None\n",
      "\n",
      "Statistical description of the DataFrame:\n",
      "       Student_ID        Age      Score\n",
      "count    10.00000  10.000000  10.000000\n",
      "mean      5.50000  20.800000  81.500000\n",
      "std       3.02765   1.316561   7.820912\n",
      "min       1.00000  19.000000  67.000000\n",
      "25%       3.25000  20.000000  76.500000\n",
      "50%       5.50000  21.000000  82.000000\n",
      "75%       7.75000  21.750000  87.250000\n",
      "max      10.00000  23.000000  92.000000\n",
      "\n",
      "Cleaned DataFrame:\n",
      "   Student_ID     Name  Age Gender Grade  Score\n",
      "0           1    Alice   20      F     A     85\n",
      "1           2      Bob   21      M     B     78\n",
      "2           3  Charlie   19      M     A     92\n",
      "3           4    David   20      M     C     67\n",
      "4           5      Eva   22      F     B     75\n",
      "5           6    Frank   21      M     A     88\n",
      "6           7    Grace   23      F     B     90\n",
      "7           8    Helen   22      F     A     85\n",
      "8           9      Ivy   21      F     C     76\n",
      "9          10     Jack   19      M     B     79\n"
     ]
    }
   ],
   "source": [
    "import pandas as pd\n",
    "import numpy as np\n",
    "\n",
    "# Generate dummy data\n",
    "data = {\n",
    "    'Student_ID': [1, 2, 3, 4, 5, 6, 7, 8, 9, 10, 3],\n",
    "    'Name': ['Alice', 'Bob', 'Charlie', 'David', 'Eva', 'Frank', 'Grace', 'Helen', 'Ivy', 'Jack', 'Charlie'],\n",
    "    'Age': [20, 21, 19, 20, 22, 21, 23, 22, 21, 19, 19],\n",
    "    'Gender': ['F', 'M', 'M', 'M', 'F', 'M', 'F', 'F', 'F', 'M', 'M'],\n",
    "    'Grade': ['A', 'B', 'A', 'C', 'B', 'A', 'B', 'A', 'C', 'B', 'A'],\n",
    "    'Score': [85, 78, 92, 67, 75, 88, 90, 85, 76, 79, 92]\n",
    "}\n",
    "\n",
    "# Create a DataFrame\n",
    "df = pd.DataFrame(data)\n",
    "\n",
    "# Display the original DataFrame\n",
    "print(\"Original DataFrame:\")\n",
    "print(df)\n",
    "\n",
    "# Drop duplicate values based on Student_ID\n",
    "df = df.drop_duplicates(subset='Student_ID')\n",
    "\n",
    "# Display the shape of the DataFrame\n",
    "print(\"\\nShape of the DataFrame:\")\n",
    "print(df.shape)\n",
    "\n",
    "# Display information about the DataFrame\n",
    "print(\"\\nInformation about the DataFrame:\")\n",
    "print(df.info())\n",
    "\n",
    "# Display statistical description of the DataFrame\n",
    "print(\"\\nStatistical description of the DataFrame:\")\n",
    "print(df.describe())\n",
    "\n",
    "# Display the cleaned DataFrame\n",
    "print(\"\\nCleaned DataFrame:\")\n",
    "print(df)\n"
   ]
  },
  {
   "cell_type": "code",
   "execution_count": 13,
   "id": "5da5a92e-b789-4d39-987e-7f533ed1683a",
   "metadata": {},
   "outputs": [
    {
     "data": {
      "text/html": [
       "<div>\n",
       "<style scoped>\n",
       "    .dataframe tbody tr th:only-of-type {\n",
       "        vertical-align: middle;\n",
       "    }\n",
       "\n",
       "    .dataframe tbody tr th {\n",
       "        vertical-align: top;\n",
       "    }\n",
       "\n",
       "    .dataframe thead th {\n",
       "        text-align: right;\n",
       "    }\n",
       "</style>\n",
       "<table border=\"1\" class=\"dataframe\">\n",
       "  <thead>\n",
       "    <tr style=\"text-align: right;\">\n",
       "      <th></th>\n",
       "      <th>Student_ID</th>\n",
       "      <th>Age</th>\n",
       "      <th>Score</th>\n",
       "    </tr>\n",
       "  </thead>\n",
       "  <tbody>\n",
       "    <tr>\n",
       "      <th>count</th>\n",
       "      <td>10.00000</td>\n",
       "      <td>10.000000</td>\n",
       "      <td>10.000000</td>\n",
       "    </tr>\n",
       "    <tr>\n",
       "      <th>mean</th>\n",
       "      <td>5.50000</td>\n",
       "      <td>20.800000</td>\n",
       "      <td>81.500000</td>\n",
       "    </tr>\n",
       "    <tr>\n",
       "      <th>std</th>\n",
       "      <td>3.02765</td>\n",
       "      <td>1.316561</td>\n",
       "      <td>7.820912</td>\n",
       "    </tr>\n",
       "    <tr>\n",
       "      <th>min</th>\n",
       "      <td>1.00000</td>\n",
       "      <td>19.000000</td>\n",
       "      <td>67.000000</td>\n",
       "    </tr>\n",
       "    <tr>\n",
       "      <th>25%</th>\n",
       "      <td>3.25000</td>\n",
       "      <td>20.000000</td>\n",
       "      <td>76.500000</td>\n",
       "    </tr>\n",
       "    <tr>\n",
       "      <th>50%</th>\n",
       "      <td>5.50000</td>\n",
       "      <td>21.000000</td>\n",
       "      <td>82.000000</td>\n",
       "    </tr>\n",
       "    <tr>\n",
       "      <th>75%</th>\n",
       "      <td>7.75000</td>\n",
       "      <td>21.750000</td>\n",
       "      <td>87.250000</td>\n",
       "    </tr>\n",
       "    <tr>\n",
       "      <th>max</th>\n",
       "      <td>10.00000</td>\n",
       "      <td>23.000000</td>\n",
       "      <td>92.000000</td>\n",
       "    </tr>\n",
       "  </tbody>\n",
       "</table>\n",
       "</div>"
      ],
      "text/plain": [
       "       Student_ID        Age      Score\n",
       "count    10.00000  10.000000  10.000000\n",
       "mean      5.50000  20.800000  81.500000\n",
       "std       3.02765   1.316561   7.820912\n",
       "min       1.00000  19.000000  67.000000\n",
       "25%       3.25000  20.000000  76.500000\n",
       "50%       5.50000  21.000000  82.000000\n",
       "75%       7.75000  21.750000  87.250000\n",
       "max      10.00000  23.000000  92.000000"
      ]
     },
     "execution_count": 13,
     "metadata": {},
     "output_type": "execute_result"
    }
   ],
   "source": [
    "df.describe()"
   ]
  },
  {
   "cell_type": "code",
   "execution_count": 14,
   "id": "3b3e0193-a39b-4cf0-8cf6-1f77b979c024",
   "metadata": {},
   "outputs": [
    {
     "data": {
      "text/html": [
       "<div>\n",
       "<style scoped>\n",
       "    .dataframe tbody tr th:only-of-type {\n",
       "        vertical-align: middle;\n",
       "    }\n",
       "\n",
       "    .dataframe tbody tr th {\n",
       "        vertical-align: top;\n",
       "    }\n",
       "\n",
       "    .dataframe thead th {\n",
       "        text-align: right;\n",
       "    }\n",
       "</style>\n",
       "<table border=\"1\" class=\"dataframe\">\n",
       "  <thead>\n",
       "    <tr style=\"text-align: right;\">\n",
       "      <th></th>\n",
       "      <th>count</th>\n",
       "      <th>mean</th>\n",
       "      <th>std</th>\n",
       "      <th>min</th>\n",
       "      <th>25%</th>\n",
       "      <th>50%</th>\n",
       "      <th>75%</th>\n",
       "      <th>max</th>\n",
       "    </tr>\n",
       "  </thead>\n",
       "  <tbody>\n",
       "    <tr>\n",
       "      <th>Student_ID</th>\n",
       "      <td>10.0</td>\n",
       "      <td>5.5</td>\n",
       "      <td>3.027650</td>\n",
       "      <td>1.0</td>\n",
       "      <td>3.25</td>\n",
       "      <td>5.5</td>\n",
       "      <td>7.75</td>\n",
       "      <td>10.0</td>\n",
       "    </tr>\n",
       "    <tr>\n",
       "      <th>Age</th>\n",
       "      <td>10.0</td>\n",
       "      <td>20.8</td>\n",
       "      <td>1.316561</td>\n",
       "      <td>19.0</td>\n",
       "      <td>20.00</td>\n",
       "      <td>21.0</td>\n",
       "      <td>21.75</td>\n",
       "      <td>23.0</td>\n",
       "    </tr>\n",
       "    <tr>\n",
       "      <th>Score</th>\n",
       "      <td>10.0</td>\n",
       "      <td>81.5</td>\n",
       "      <td>7.820912</td>\n",
       "      <td>67.0</td>\n",
       "      <td>76.50</td>\n",
       "      <td>82.0</td>\n",
       "      <td>87.25</td>\n",
       "      <td>92.0</td>\n",
       "    </tr>\n",
       "  </tbody>\n",
       "</table>\n",
       "</div>"
      ],
      "text/plain": [
       "            count  mean       std   min    25%   50%    75%   max\n",
       "Student_ID   10.0   5.5  3.027650   1.0   3.25   5.5   7.75  10.0\n",
       "Age          10.0  20.8  1.316561  19.0  20.00  21.0  21.75  23.0\n",
       "Score        10.0  81.5  7.820912  67.0  76.50  82.0  87.25  92.0"
      ]
     },
     "execution_count": 14,
     "metadata": {},
     "output_type": "execute_result"
    }
   ],
   "source": [
    "df.describe().T"
   ]
  },
  {
   "cell_type": "code",
   "execution_count": 16,
   "id": "cdb58bcf-9707-4b65-994d-8da95f5821db",
   "metadata": {},
   "outputs": [
    {
     "data": {
      "text/html": [
       "<div>\n",
       "<style scoped>\n",
       "    .dataframe tbody tr th:only-of-type {\n",
       "        vertical-align: middle;\n",
       "    }\n",
       "\n",
       "    .dataframe tbody tr th {\n",
       "        vertical-align: top;\n",
       "    }\n",
       "\n",
       "    .dataframe thead th {\n",
       "        text-align: right;\n",
       "    }\n",
       "</style>\n",
       "<table border=\"1\" class=\"dataframe\">\n",
       "  <thead>\n",
       "    <tr style=\"text-align: right;\">\n",
       "      <th></th>\n",
       "      <th>Student_ID</th>\n",
       "      <th>Name</th>\n",
       "      <th>Age</th>\n",
       "      <th>Gender</th>\n",
       "      <th>Grade</th>\n",
       "      <th>Score</th>\n",
       "    </tr>\n",
       "  </thead>\n",
       "  <tbody>\n",
       "    <tr>\n",
       "      <th>0</th>\n",
       "      <td>1</td>\n",
       "      <td>Alice</td>\n",
       "      <td>20</td>\n",
       "      <td>F</td>\n",
       "      <td>A</td>\n",
       "      <td>85</td>\n",
       "    </tr>\n",
       "    <tr>\n",
       "      <th>1</th>\n",
       "      <td>2</td>\n",
       "      <td>Bob</td>\n",
       "      <td>21</td>\n",
       "      <td>M</td>\n",
       "      <td>B</td>\n",
       "      <td>78</td>\n",
       "    </tr>\n",
       "    <tr>\n",
       "      <th>2</th>\n",
       "      <td>3</td>\n",
       "      <td>Charlie</td>\n",
       "      <td>19</td>\n",
       "      <td>M</td>\n",
       "      <td>A</td>\n",
       "      <td>92</td>\n",
       "    </tr>\n",
       "    <tr>\n",
       "      <th>3</th>\n",
       "      <td>4</td>\n",
       "      <td>David</td>\n",
       "      <td>20</td>\n",
       "      <td>M</td>\n",
       "      <td>C</td>\n",
       "      <td>67</td>\n",
       "    </tr>\n",
       "    <tr>\n",
       "      <th>4</th>\n",
       "      <td>5</td>\n",
       "      <td>Eva</td>\n",
       "      <td>22</td>\n",
       "      <td>F</td>\n",
       "      <td>B</td>\n",
       "      <td>75</td>\n",
       "    </tr>\n",
       "    <tr>\n",
       "      <th>5</th>\n",
       "      <td>6</td>\n",
       "      <td>Frank</td>\n",
       "      <td>21</td>\n",
       "      <td>M</td>\n",
       "      <td>A</td>\n",
       "      <td>88</td>\n",
       "    </tr>\n",
       "    <tr>\n",
       "      <th>6</th>\n",
       "      <td>7</td>\n",
       "      <td>Grace</td>\n",
       "      <td>23</td>\n",
       "      <td>F</td>\n",
       "      <td>B</td>\n",
       "      <td>90</td>\n",
       "    </tr>\n",
       "    <tr>\n",
       "      <th>7</th>\n",
       "      <td>8</td>\n",
       "      <td>Helen</td>\n",
       "      <td>22</td>\n",
       "      <td>F</td>\n",
       "      <td>A</td>\n",
       "      <td>85</td>\n",
       "    </tr>\n",
       "    <tr>\n",
       "      <th>8</th>\n",
       "      <td>9</td>\n",
       "      <td>Ivy</td>\n",
       "      <td>21</td>\n",
       "      <td>F</td>\n",
       "      <td>C</td>\n",
       "      <td>76</td>\n",
       "    </tr>\n",
       "    <tr>\n",
       "      <th>9</th>\n",
       "      <td>10</td>\n",
       "      <td>Jack</td>\n",
       "      <td>19</td>\n",
       "      <td>M</td>\n",
       "      <td>B</td>\n",
       "      <td>79</td>\n",
       "    </tr>\n",
       "  </tbody>\n",
       "</table>\n",
       "</div>"
      ],
      "text/plain": [
       "   Student_ID     Name  Age Gender Grade  Score\n",
       "0           1    Alice   20      F     A     85\n",
       "1           2      Bob   21      M     B     78\n",
       "2           3  Charlie   19      M     A     92\n",
       "3           4    David   20      M     C     67\n",
       "4           5      Eva   22      F     B     75\n",
       "5           6    Frank   21      M     A     88\n",
       "6           7    Grace   23      F     B     90\n",
       "7           8    Helen   22      F     A     85\n",
       "8           9      Ivy   21      F     C     76\n",
       "9          10     Jack   19      M     B     79"
      ]
     },
     "execution_count": 16,
     "metadata": {},
     "output_type": "execute_result"
    }
   ],
   "source": [
    "df"
   ]
  },
  {
   "cell_type": "code",
   "execution_count": 19,
   "id": "61bf2eed-75ff-4cd5-8168-b459fc958a83",
   "metadata": {},
   "outputs": [
    {
     "name": "stdout",
     "output_type": "stream",
     "text": [
      "Mean of Score : 81.5\n",
      "Median of Age:21.0\n",
      "Mod of Score : 0    A\n",
      "1    B\n",
      "Name: Grade, dtype: object\n",
      "Standard deviation of Score : 7.820912137766711\n",
      "Minimum of Score : 67\n",
      "Maximum of Score : 92\n"
     ]
    }
   ],
   "source": [
    "mean=df['Score'].mean()\n",
    "median=df['Age'].median()\n",
    "mod=df['Grade'].mode()\n",
    "standard_dev=df['Score'].std()\n",
    "min=df['Score'].min()\n",
    "max=df['Score'].max()\n",
    "print(f\"Mean of Score : {mean}\")\n",
    "print(f\"Median of Age:{median}\")\n",
    "print(f\"Mod of Score : {mod}\")\n",
    "print(f\"Standard deviation of Score : {standard_dev}\")\n",
    "print(f\"Minimum of Score : {min}\")\n",
    "print(f\"Maximum of Score : {max}\")\n"
   ]
  },
  {
   "cell_type": "code",
   "execution_count": 21,
   "id": "72434c8f-156b-423d-bf2a-589125ec634e",
   "metadata": {},
   "outputs": [
    {
     "name": "stdout",
     "output_type": "stream",
     "text": [
      "[85 78 92 67 75 88 90 76 79]\n"
     ]
    }
   ],
   "source": [
    "print(df['Score'].unique())"
   ]
  },
  {
   "cell_type": "code",
   "execution_count": 22,
   "id": "1cb4a9e4-d5c7-4c17-9041-7da7bd54c5b0",
   "metadata": {},
   "outputs": [
    {
     "name": "stdout",
     "output_type": "stream",
     "text": [
      "9\n"
     ]
    }
   ],
   "source": [
    "print(df['Score'].nunique())"
   ]
  },
  {
   "cell_type": "code",
   "execution_count": 25,
   "id": "e01f0a0c-6f33-4c21-a3d5-c4c8a9289817",
   "metadata": {},
   "outputs": [
    {
     "data": {
      "text/html": [
       "<div>\n",
       "<style scoped>\n",
       "    .dataframe tbody tr th:only-of-type {\n",
       "        vertical-align: middle;\n",
       "    }\n",
       "\n",
       "    .dataframe tbody tr th {\n",
       "        vertical-align: top;\n",
       "    }\n",
       "\n",
       "    .dataframe thead th {\n",
       "        text-align: right;\n",
       "    }\n",
       "</style>\n",
       "<table border=\"1\" class=\"dataframe\">\n",
       "  <thead>\n",
       "    <tr style=\"text-align: right;\">\n",
       "      <th></th>\n",
       "      <th>Student_ID</th>\n",
       "      <th>Name</th>\n",
       "      <th>Age</th>\n",
       "      <th>Gender</th>\n",
       "      <th>Grade</th>\n",
       "      <th>Score</th>\n",
       "    </tr>\n",
       "  </thead>\n",
       "  <tbody>\n",
       "    <tr>\n",
       "      <th>2</th>\n",
       "      <td>3</td>\n",
       "      <td>Charlie</td>\n",
       "      <td>19</td>\n",
       "      <td>M</td>\n",
       "      <td>A</td>\n",
       "      <td>92</td>\n",
       "    </tr>\n",
       "    <tr>\n",
       "      <th>6</th>\n",
       "      <td>7</td>\n",
       "      <td>Grace</td>\n",
       "      <td>23</td>\n",
       "      <td>F</td>\n",
       "      <td>B</td>\n",
       "      <td>90</td>\n",
       "    </tr>\n",
       "  </tbody>\n",
       "</table>\n",
       "</div>"
      ],
      "text/plain": [
       "   Student_ID     Name  Age Gender Grade  Score\n",
       "2           3  Charlie   19      M     A     92\n",
       "6           7    Grace   23      F     B     90"
      ]
     },
     "execution_count": 25,
     "metadata": {},
     "output_type": "execute_result"
    }
   ],
   "source": [
    "df.sort_values(by='Score',ascending =False ).head(2)"
   ]
  },
  {
   "cell_type": "code",
   "execution_count": 26,
   "id": "41ac1168-36f8-4631-b44d-a2b0d2c4fa0d",
   "metadata": {},
   "outputs": [
    {
     "data": {
      "text/html": [
       "<div>\n",
       "<style scoped>\n",
       "    .dataframe tbody tr th:only-of-type {\n",
       "        vertical-align: middle;\n",
       "    }\n",
       "\n",
       "    .dataframe tbody tr th {\n",
       "        vertical-align: top;\n",
       "    }\n",
       "\n",
       "    .dataframe thead th {\n",
       "        text-align: right;\n",
       "    }\n",
       "</style>\n",
       "<table border=\"1\" class=\"dataframe\">\n",
       "  <thead>\n",
       "    <tr style=\"text-align: right;\">\n",
       "      <th></th>\n",
       "      <th>Student_ID</th>\n",
       "      <th>Name</th>\n",
       "      <th>Age</th>\n",
       "      <th>Gender</th>\n",
       "      <th>Grade</th>\n",
       "      <th>Score</th>\n",
       "    </tr>\n",
       "  </thead>\n",
       "  <tbody>\n",
       "    <tr>\n",
       "      <th>2</th>\n",
       "      <td>3</td>\n",
       "      <td>Charlie</td>\n",
       "      <td>19</td>\n",
       "      <td>M</td>\n",
       "      <td>A</td>\n",
       "      <td>92</td>\n",
       "    </tr>\n",
       "    <tr>\n",
       "      <th>6</th>\n",
       "      <td>7</td>\n",
       "      <td>Grace</td>\n",
       "      <td>23</td>\n",
       "      <td>F</td>\n",
       "      <td>B</td>\n",
       "      <td>90</td>\n",
       "    </tr>\n",
       "    <tr>\n",
       "      <th>5</th>\n",
       "      <td>6</td>\n",
       "      <td>Frank</td>\n",
       "      <td>21</td>\n",
       "      <td>M</td>\n",
       "      <td>A</td>\n",
       "      <td>88</td>\n",
       "    </tr>\n",
       "    <tr>\n",
       "      <th>0</th>\n",
       "      <td>1</td>\n",
       "      <td>Alice</td>\n",
       "      <td>20</td>\n",
       "      <td>F</td>\n",
       "      <td>A</td>\n",
       "      <td>85</td>\n",
       "    </tr>\n",
       "  </tbody>\n",
       "</table>\n",
       "</div>"
      ],
      "text/plain": [
       "   Student_ID     Name  Age Gender Grade  Score\n",
       "2           3  Charlie   19      M     A     92\n",
       "6           7    Grace   23      F     B     90\n",
       "5           6    Frank   21      M     A     88\n",
       "0           1    Alice   20      F     A     85"
      ]
     },
     "execution_count": 26,
     "metadata": {},
     "output_type": "execute_result"
    }
   ],
   "source": [
    "df.nlargest(4,'Score')"
   ]
  },
  {
   "cell_type": "code",
   "execution_count": 27,
   "id": "805f0224-caa5-48ee-b055-475c96a0a44b",
   "metadata": {},
   "outputs": [
    {
     "data": {
      "text/html": [
       "<div>\n",
       "<style scoped>\n",
       "    .dataframe tbody tr th:only-of-type {\n",
       "        vertical-align: middle;\n",
       "    }\n",
       "\n",
       "    .dataframe tbody tr th {\n",
       "        vertical-align: top;\n",
       "    }\n",
       "\n",
       "    .dataframe thead th {\n",
       "        text-align: right;\n",
       "    }\n",
       "</style>\n",
       "<table border=\"1\" class=\"dataframe\">\n",
       "  <thead>\n",
       "    <tr style=\"text-align: right;\">\n",
       "      <th></th>\n",
       "      <th>Student_ID</th>\n",
       "      <th>Name</th>\n",
       "      <th>Age</th>\n",
       "      <th>Gender</th>\n",
       "      <th>Grade</th>\n",
       "      <th>Score</th>\n",
       "    </tr>\n",
       "  </thead>\n",
       "  <tbody>\n",
       "    <tr>\n",
       "      <th>3</th>\n",
       "      <td>4</td>\n",
       "      <td>David</td>\n",
       "      <td>20</td>\n",
       "      <td>M</td>\n",
       "      <td>C</td>\n",
       "      <td>67</td>\n",
       "    </tr>\n",
       "    <tr>\n",
       "      <th>4</th>\n",
       "      <td>5</td>\n",
       "      <td>Eva</td>\n",
       "      <td>22</td>\n",
       "      <td>F</td>\n",
       "      <td>B</td>\n",
       "      <td>75</td>\n",
       "    </tr>\n",
       "    <tr>\n",
       "      <th>8</th>\n",
       "      <td>9</td>\n",
       "      <td>Ivy</td>\n",
       "      <td>21</td>\n",
       "      <td>F</td>\n",
       "      <td>C</td>\n",
       "      <td>76</td>\n",
       "    </tr>\n",
       "  </tbody>\n",
       "</table>\n",
       "</div>"
      ],
      "text/plain": [
       "   Student_ID   Name  Age Gender Grade  Score\n",
       "3           4  David   20      M     C     67\n",
       "4           5    Eva   22      F     B     75\n",
       "8           9    Ivy   21      F     C     76"
      ]
     },
     "execution_count": 27,
     "metadata": {},
     "output_type": "execute_result"
    }
   ],
   "source": [
    "df.nsmallest(3,'Score')"
   ]
  },
  {
   "cell_type": "code",
   "execution_count": 41,
   "id": "4d26de25-1694-4351-882b-964214939383",
   "metadata": {},
   "outputs": [
    {
     "data": {
      "text/html": [
       "<div>\n",
       "<style scoped>\n",
       "    .dataframe tbody tr th:only-of-type {\n",
       "        vertical-align: middle;\n",
       "    }\n",
       "\n",
       "    .dataframe tbody tr th {\n",
       "        vertical-align: top;\n",
       "    }\n",
       "\n",
       "    .dataframe thead th {\n",
       "        text-align: right;\n",
       "    }\n",
       "</style>\n",
       "<table border=\"1\" class=\"dataframe\">\n",
       "  <thead>\n",
       "    <tr style=\"text-align: right;\">\n",
       "      <th></th>\n",
       "      <th>Student_ID</th>\n",
       "      <th>Name</th>\n",
       "      <th>Age</th>\n",
       "      <th>Gender</th>\n",
       "      <th>Grade</th>\n",
       "      <th>Score</th>\n",
       "    </tr>\n",
       "  </thead>\n",
       "  <tbody>\n",
       "    <tr>\n",
       "      <th>0</th>\n",
       "      <td>1</td>\n",
       "      <td>Alice</td>\n",
       "      <td>20</td>\n",
       "      <td>F</td>\n",
       "      <td>A</td>\n",
       "      <td>85</td>\n",
       "    </tr>\n",
       "    <tr>\n",
       "      <th>7</th>\n",
       "      <td>8</td>\n",
       "      <td>Helen</td>\n",
       "      <td>22</td>\n",
       "      <td>F</td>\n",
       "      <td>A</td>\n",
       "      <td>85</td>\n",
       "    </tr>\n",
       "  </tbody>\n",
       "</table>\n",
       "</div>"
      ],
      "text/plain": [
       "   Student_ID   Name  Age Gender Grade  Score\n",
       "0           1  Alice   20      F     A     85\n",
       "7           8  Helen   22      F     A     85"
      ]
     },
     "execution_count": 41,
     "metadata": {},
     "output_type": "execute_result"
    }
   ],
   "source": [
    "female=df['Gender']=='F'\n",
    "Topper=df['Grade']=='A'\n",
    "df[female & Topper]\n"
   ]
  },
  {
   "cell_type": "code",
   "execution_count": null,
   "id": "a7c2639d-54fe-4425-9fff-9d1760466b00",
   "metadata": {},
   "outputs": [],
   "source": []
  },
  {
   "cell_type": "code",
   "execution_count": 5,
   "id": "32665655-054b-44a3-a8fa-3875ca02162b",
   "metadata": {},
   "outputs": [
    {
     "data": {
      "text/plain": [
       "<Axes: xlabel='Months'>"
      ]
     },
     "execution_count": 5,
     "metadata": {},
     "output_type": "execute_result"
    },
    {
     "data": {
      "image/png": "[encoded data removed]",
      "text/plain": [
       "<Figure size 640x480 with 1 Axes>"
      ]
     },
     "metadata": {},
     "output_type": "display_data"
    }
   ],
   "source": [
    "data={\n",
    "    'Months': ['jan', 'feb','mar','apr','may'],\n",
    "    'Sales':[1345,2000,3000,2400,1500]\n",
    "    \n",
    "}\n",
    "df=pd.DataFrame(data)\n",
    "df.set_index('Months', inplace=True )\n",
    "df.plot(kind=\"line\")\n",
    "\n",
    "\n"
   ]
  },
  {
   "cell_type": "code",
   "execution_count": null,
   "id": "6f37a881-beee-408e-b055-aa42899c8b0d",
   "metadata": {},
   "outputs": [],
   "source": []
  },
  {
   "cell_type": "code",
   "execution_count": 6,
   "id": "40c7ef37-77e3-4d4b-9886-71f227beeee3",
   "metadata": {},
   "outputs": [
    {
     "data": {
      "text/plain": [
       "<Axes: ylabel='Sales'>"
      ]
     },
     "execution_count": 6,
     "metadata": {},
     "output_type": "execute_result"
    },
    {
     "data": {
      "image/png": "[encoded data removed]",
      "text/plain": [
       "<Figure size 640x480 with 1 Axes>"
      ]
     },
     "metadata": {},
     "output_type": "display_data"
    }
   ],
   "source": [
    "dat=pd.DataFrame(data)\n",
    "dat['Sales'].value_counts().plot(kind='barh')"
   ]
  },
  {
   "cell_type": "code",
   "execution_count": 7,
   "id": "d2759216-6fc2-4889-b975-721ff876174f",
   "metadata": {},
   "outputs": [
    {
     "data": {
      "text/plain": [
       "Months    5\n",
       "Sales     5\n",
       "dtype: int64"
      ]
     },
     "execution_count": 7,
     "metadata": {},
     "output_type": "execute_result"
    }
   ],
   "source": [
    "dat.count()"
   ]
  },
  {
   "cell_type": "code",
   "execution_count": 8,
   "id": "528d874f-c420-4e2e-a3a6-2d9ca0e72fe4",
   "metadata": {},
   "outputs": [
    {
     "data": {
      "text/plain": [
       "Months  Sales\n",
       "apr     2400     1\n",
       "feb     2000     1\n",
       "jan     1345     1\n",
       "mar     3000     1\n",
       "may     1500     1\n",
       "Name: count, dtype: int64"
      ]
     },
     "execution_count": 8,
     "metadata": {},
     "output_type": "execute_result"
    }
   ],
   "source": [
    "dat.value_counts()"
   ]
  },
  {
   "cell_type": "code",
   "execution_count": 9,
   "id": "dd2f4ef0-b19e-448e-bcec-8010beb7f3d4",
   "metadata": {},
   "outputs": [
    {
     "data": {
      "text/plain": [
       "<Axes: ylabel='count'>"
      ]
     },
     "execution_count": 9,
     "metadata": {},
     "output_type": "execute_result"
    },
    {
     "data": {
      "image/png": "[encoded data removed]",
      "text/plain": [
       "<Figure size 640x480 with 1 Axes>"
      ]
     },
     "metadata": {},
     "output_type": "display_data"
    }
   ],
   "source": [
    "dat['Sales'].value_counts().plot(kind='pie')"
   ]
  },
  {
   "cell_type": "code",
   "execution_count": 18,
   "id": "8426cea7-39ec-4ead-9073-c85200eb1557",
   "metadata": {},
   "outputs": [
    {
     "data": {
      "text/html": [
       "<div>\n",
       "<style scoped>\n",
       "    .dataframe tbody tr th:only-of-type {\n",
       "        vertical-align: middle;\n",
       "    }\n",
       "\n",
       "    .dataframe tbody tr th {\n",
       "        vertical-align: top;\n",
       "    }\n",
       "\n",
       "    .dataframe thead tr th {\n",
       "        text-align: left;\n",
       "    }\n",
       "\n",
       "    .dataframe thead tr:last-of-type th {\n",
       "        text-align: right;\n",
       "    }\n",
       "</style>\n",
       "<table border=\"1\" class=\"dataframe\">\n",
       "  <thead>\n",
       "    <tr>\n",
       "      <th></th>\n",
       "      <th colspan=\"3\" halign=\"left\">sales</th>\n",
       "    </tr>\n",
       "    <tr>\n",
       "      <th>category</th>\n",
       "      <th>A</th>\n",
       "      <th>B</th>\n",
       "      <th>Total</th>\n",
       "    </tr>\n",
       "    <tr>\n",
       "      <th>Date</th>\n",
       "      <th></th>\n",
       "      <th></th>\n",
       "      <th></th>\n",
       "    </tr>\n",
       "  </thead>\n",
       "  <tbody>\n",
       "    <tr>\n",
       "      <th>2024-01-01</th>\n",
       "      <td>100</td>\n",
       "      <td>150</td>\n",
       "      <td>250</td>\n",
       "    </tr>\n",
       "    <tr>\n",
       "      <th>2024-01-02</th>\n",
       "      <td>250</td>\n",
       "      <td>300</td>\n",
       "      <td>550</td>\n",
       "    </tr>\n",
       "    <tr>\n",
       "      <th>2024-01-03</th>\n",
       "      <td>250</td>\n",
       "      <td>0</td>\n",
       "      <td>250</td>\n",
       "    </tr>\n",
       "    <tr>\n",
       "      <th>Total</th>\n",
       "      <td>600</td>\n",
       "      <td>450</td>\n",
       "      <td>1050</td>\n",
       "    </tr>\n",
       "  </tbody>\n",
       "</table>\n",
       "</div>"
      ],
      "text/plain": [
       "           sales           \n",
       "category       A    B Total\n",
       "Date                       \n",
       "2024-01-01   100  150   250\n",
       "2024-01-02   250  300   550\n",
       "2024-01-03   250    0   250\n",
       "Total        600  450  1050"
      ]
     },
     "execution_count": 18,
     "metadata": {},
     "output_type": "execute_result"
    }
   ],
   "source": [
    "import pandas as pd\n",
    "import numpy as np \n",
    "data={\n",
    "    'Date':['2024-01-01','2024-01-01','2024-01-02','2024-01-02','2024-01-03'],\n",
    "    'category':['A','B','A','B','A'],\n",
    "    'sales':[100,150,250,300,250],\n",
    "    'quantity':[10,20,15,25,30]\n",
    "}\n",
    "\n",
    "df=pd.DataFrame(data)\n",
    "pivot_table=np.round(pd.pivot_table(df,\n",
    "        values=['sales'],\n",
    "        index=['Date'],\n",
    "        columns=['category'],\n",
    "        aggfunc={'sales':'sum'},                      \n",
    "        fill_value=0,\n",
    "        dropna=False,\n",
    "        margins=True,                  \n",
    "        margins_name='Total'                  \n",
    "),2)\n",
    "pivot_table"
   ]
  },
  {
   "cell_type": "code",
   "execution_count": null,
   "id": "41792aa7-9761-45e2-9095-bf5dbcfe835f",
   "metadata": {},
   "outputs": [],
   "source": []
  },
  {
   "cell_type": "code",
   "execution_count": 21,
   "id": "a68499cf-6756-4b3c-843a-8c60dfc6a3e0",
   "metadata": {},
   "outputs": [
    {
     "name": "stdout",
     "output_type": "stream",
     "text": [
      "original dataframe:\n",
      "\n",
      "    A   B    C\n",
      "0  1  10  foo\n",
      "1  2  20  bar\n",
      "2  3  30  bar\n",
      "3  4  40  gas\n",
      "4  5  50  huu\n",
      "\n",
      "filtered DataFrame where A>2:\n",
      "   A   B    C\n",
      "2  3  30  bar\n",
      "3  4  40  gas\n"
     ]
    }
   ],
   "source": [
    "df=pd.DataFrame({\n",
    "    'A':[1,2,3,4,5],\n",
    "    'B':[10,20,30,40,50],\n",
    "    'C':['foo','bar','bar','gas','huu']\n",
    "    \n",
    "})\n",
    "print(\"original dataframe:\\n\\n\",df)\n",
    "df.query('A>2 and A<=4', inplace=True)\n",
    "print(\"\\nfiltered DataFrame where A>2:\")\n",
    "print(df)"
   ]
  },
  {
   "cell_type": "code",
   "execution_count": 24,
   "id": "1f56e38d-1a59-4ab7-a5b4-9e043086bbd1",
   "metadata": {},
   "outputs": [
    {
     "name": "stdout",
     "output_type": "stream",
     "text": [
      "   OID Product  Quantity     Status\n",
      "0    1  widget        10   shipped \n",
      "1    2  gadget        20  cancelled\n",
      "2    3  widget        10  cancelled\n",
      "3    4  Doodad         5    shipped\n",
      "4    5  widget        15    shipped\n",
      "original dataframe:\n",
      "\n",
      "    OID Product  Quantity     Status\n",
      "0    1  widget        10   shipped \n",
      "1    2  gadget        20  cancelled\n",
      "2    3  widget        10  cancelled\n",
      "3    4  Doodad         5    shipped\n",
      "4    5  widget        15    shipped\n",
      "\n",
      "filtered DataFrame where OID>2:\n",
      "   OID Product  Quantity     Status\n",
      "2    3  widget        10  cancelled\n",
      "3    4  Doodad         5    shipped\n"
     ]
    }
   ],
   "source": [
    "data=pd.read_csv('output.csv')\n",
    "print(data)\n",
    "print(\"original dataframe:\\n\\n\",data)\n",
    "data.query('OID>2 and OID<=4', inplace=True)\n",
    "print(\"\\nfiltered DataFrame where OID>2:\")\n",
    "print(data)"
   ]
  },
  {
   "cell_type": "code",
   "execution_count": null,
   "id": "bb75402c-3b2e-4ebb-9e15-7b196a2842db",
   "metadata": {},
   "outputs": [],
   "source": []
  }
 ],
 "metadata": {
  "kernelspec": {
   "display_name": "Python 3 (ipykernel)",
   "language": "python",
   "name": "python3"
  },
  "language_info": {
   "codemirror_mode": {
    "name": "ipython",
    "version": 3
   },
   "file_extension": ".py",
   "mimetype": "text/x-python",
   "name": "python",
   "nbconvert_exporter": "python",
   "pygments_lexer": "ipython3",
   "version": "3.11.7"
  }
 },
 "nbformat": 4,
 "nbformat_minor": 5
}
