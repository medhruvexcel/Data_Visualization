{
 "cells": [
  {
   "cell_type": "markdown",
   "id": "e34fa20a-7338-4876-8cb4-9bdba6203ec2",
   "metadata": {},
   "source": [
    "# TRAINING SESSIONS"
   ]
  },
  {
   "cell_type": "code",
   "execution_count": null,
   "id": "23156d76-36f8-4360-8329-c9d2c750e27c",
   "metadata": {},
   "outputs": [],
   "source": []
  },
  {
   "cell_type": "markdown",
   "id": "e2a41f62-0f86-4e91-95a8-1246d43d1cbe",
   "metadata": {},
   "source": [
    "## CONDITIONAL STATEMENTS"
   ]
  },
  {
   "cell_type": "code",
   "execution_count": null,
   "id": "89052b73-ef30-42cd-8f52-2d633404d203",
   "metadata": {},
   "outputs": [],
   "source": [
    "hr=1\n",
    "min=2\n",
    "sec=4\n",
    "time=[hr,min,sec]\n",
    "print(time)"
   ]
  },
  {
   "cell_type": "markdown",
   "id": "1cbd2057-a4bd-47ff-ab3c-cfda6ec87ccc",
   "metadata": {},
   "source": [
    "#### to input time in seconds and convert it into hr: min: sec"
   ]
  },
  {
   "cell_type": "code",
   "execution_count": 33,
   "id": "0deaa235-3955-4f97-b91d-95a7b6f94791",
   "metadata": {},
   "outputs": [
    {
     "name": "stdin",
     "output_type": "stream",
     "text": [
      "enter the time in seconds 3599\n"
     ]
    },
    {
     "name": "stdout",
     "output_type": "stream",
     "text": [
      "59 minutes :  59  seconds\n"
     ]
    }
   ],
   "source": [
    "time= int(input(\"enter the time in seconds\"))\n",
    "if time>0 :\n",
    "\n",
    "        hr= time // 3600\n",
    "        min = (time % 3600) // 60\n",
    "        rem_sec = time % 60\n",
    "        if(time<60):\n",
    "            print(time , \"secomds\")\n",
    "        \n",
    "        elif (time >=60) & (time<3600):\n",
    "            print(min , \"minutes : \" , rem_sec , \" seconds\")\n",
    "        \n",
    "        elif time >=3600 : \n",
    "            print(hr ,\" hours : \" , min ,\"minutes:\" , rem_sec ,\"seconds\")\n",
    "else :\n",
    "    print(\"time must be positive\")\n",
    "    \n",
    "    \n"
   ]
  },
  {
   "cell_type": "code",
   "execution_count": null,
   "id": "0094b934-d6de-40b7-8b40-5fd7e38c5149",
   "metadata": {},
   "outputs": [],
   "source": [
    "x=int(input(\"enter first number\"))\n",
    "y=int(input(\"enter second number\"))\n",
    "if x==y:\n",
    "    print(\"both are equal\")\n",
    "elif x>y:\n",
    "    print(\"first number\", x , \" is greater\")\n",
    "else :\n",
    "    print(\"second number\", y , \" is greater\")\n"
   ]
  },
  {
   "cell_type": "code",
   "execution_count": null,
   "id": "51f409f8-5838-47ab-8520-54a37eec083a",
   "metadata": {},
   "outputs": [],
   "source": []
  },
  {
   "cell_type": "code",
   "execution_count": null,
   "id": "45d8efc2-82b7-4e7e-9510-95652ed05144",
   "metadata": {},
   "outputs": [],
   "source": []
  },
  {
   "cell_type": "code",
   "execution_count": 47,
   "id": "a7c54da2-0830-467a-a100-7300d07f88ce",
   "metadata": {},
   "outputs": [
    {
     "name": "stdin",
     "output_type": "stream",
     "text": [
      "enter the cost price 23\n",
      "enter the selling price 31\n"
     ]
    },
    {
     "name": "stdout",
     "output_type": "stream",
     "text": [
      "profit : rs  8.0\n"
     ]
    }
   ],
   "source": [
    "cp= float(input(\"enter the cost price\"))\n",
    "sp=float(input(\"enter the selling price\"))\n",
    "if(cp<0) & (sp<0):\n",
    "         print(\"invalid values of prices \")\n",
    "else :\n",
    "    if(sp>cp):\n",
    "        print(\"profit : rs \", (sp-cp))\n",
    "    elif(cp>sp):\n",
    "        print(\"Loss : rs \" , (cp-sp))\n",
    "    else :\n",
    "        print(\"no profit no loss\")"
   ]
  },
  {
   "cell_type": "code",
   "execution_count": 3,
   "id": "3294b5d9-149d-4f74-a20d-2748e81c7df9",
   "metadata": {},
   "outputs": [
    {
     "name": "stdout",
     "output_type": "stream",
     "text": [
      "20\n",
      "40\n",
      "30\n"
     ]
    }
   ],
   "source": [
    "list=[20,40,30]\n",
    "for i in list:\n",
    "    print(i)"
   ]
  },
  {
   "cell_type": "code",
   "execution_count": 17,
   "id": "ac8d3eee-98d2-4c21-b4c8-61568067fd8a",
   "metadata": {},
   "outputs": [
    {
     "name": "stdout",
     "output_type": "stream",
     "text": [
      "the sum is  496\n",
      "the average is  62.0\n"
     ]
    }
   ],
   "source": [
    "sum=0\n",
    "list=[80,90,30,20,70,80,39,87]\n",
    "for i in list :\n",
    "    sum=sum+i\n",
    "print(\"the sum is \", sum)\n",
    "average=sum/len(list)\n",
    "print(\"the average is \", average) \n",
    "\n"
   ]
  },
  {
   "cell_type": "code",
   "execution_count": 18,
   "id": "2e2e2670-e1ee-426c-87cc-0a19222d3f41",
   "metadata": {},
   "outputs": [
    {
     "data": {
      "text/plain": [
       "float"
      ]
     },
     "execution_count": 18,
     "metadata": {},
     "output_type": "execute_result"
    }
   ],
   "source": [
    "type(list)\n",
    "type(average)"
   ]
  },
  {
   "cell_type": "code",
   "execution_count": null,
   "id": "f2f08990-2c2b-4845-a280-11353bef63cb",
   "metadata": {},
   "outputs": [],
   "source": []
  },
  {
   "cell_type": "markdown",
   "id": "d082c3db-547e-4a6c-a0d4-38e9d6d3215a",
   "metadata": {},
   "source": [
    "## LOOPS "
   ]
  },
  {
   "cell_type": "code",
   "execution_count": 19,
   "id": "62e7d082-19b7-4407-bd72-203a0ccf7342",
   "metadata": {},
   "outputs": [
    {
     "name": "stdout",
     "output_type": "stream",
     "text": [
      "<class 'list'>\n",
      "<class 'float'>\n",
      "<class 'int'>\n"
     ]
    }
   ],
   "source": [
    "type_list=[list, average, x ]\n",
    "for i in type_list:\n",
    "    print(type(i))"
   ]
  },
  {
   "cell_type": "code",
   "execution_count": 26,
   "id": "a532a795-1cdd-4f40-8eff-6bd0f7912293",
   "metadata": {},
   "outputs": [
    {
     "name": "stdout",
     "output_type": "stream",
     "text": [
      "Help on class range in module builtins:\n",
      "\n",
      "class range(object)\n",
      " |  range(stop) -> range object\n",
      " |  range(start, stop[, step]) -> range object\n",
      " |  \n",
      " |  Return an object that produces a sequence of integers from start (inclusive)\n",
      " |  to stop (exclusive) by step.  range(i, j) produces i, i+1, i+2, ..., j-1.\n",
      " |  start defaults to 0, and stop is omitted!  range(4) produces 0, 1, 2, 3.\n",
      " |  These are exactly the valid indices for a list of 4 elements.\n",
      " |  When step is given, it specifies the increment (or decrement).\n",
      " |  \n",
      " |  Methods defined here:\n",
      " |  \n",
      " |  __bool__(self, /)\n",
      " |      True if self else False\n",
      " |  \n",
      " |  __contains__(self, key, /)\n",
      " |      Return key in self.\n",
      " |  \n",
      " |  __eq__(self, value, /)\n",
      " |      Return self==value.\n",
      " |  \n",
      " |  __ge__(self, value, /)\n",
      " |      Return self>=value.\n",
      " |  \n",
      " |  __getattribute__(self, name, /)\n",
      " |      Return getattr(self, name).\n",
      " |  \n",
      " |  __getitem__(self, key, /)\n",
      " |      Return self[key].\n",
      " |  \n",
      " |  __gt__(self, value, /)\n",
      " |      Return self>value.\n",
      " |  \n",
      " |  __hash__(self, /)\n",
      " |      Return hash(self).\n",
      " |  \n",
      " |  __iter__(self, /)\n",
      " |      Implement iter(self).\n",
      " |  \n",
      " |  __le__(self, value, /)\n",
      " |      Return self<=value.\n",
      " |  \n",
      " |  __len__(self, /)\n",
      " |      Return len(self).\n",
      " |  \n",
      " |  __lt__(self, value, /)\n",
      " |      Return self<value.\n",
      " |  \n",
      " |  __ne__(self, value, /)\n",
      " |      Return self!=value.\n",
      " |  \n",
      " |  __reduce__(...)\n",
      " |      Helper for pickle.\n",
      " |  \n",
      " |  __repr__(self, /)\n",
      " |      Return repr(self).\n",
      " |  \n",
      " |  __reversed__(...)\n",
      " |      Return a reverse iterator.\n",
      " |  \n",
      " |  count(...)\n",
      " |      rangeobject.count(value) -> integer -- return number of occurrences of value\n",
      " |  \n",
      " |  index(...)\n",
      " |      rangeobject.index(value) -> integer -- return index of value.\n",
      " |      Raise ValueError if the value is not present.\n",
      " |  \n",
      " |  ----------------------------------------------------------------------\n",
      " |  Static methods defined here:\n",
      " |  \n",
      " |  __new__(*args, **kwargs) from builtins.type\n",
      " |      Create and return a new object.  See help(type) for accurate signature.\n",
      " |  \n",
      " |  ----------------------------------------------------------------------\n",
      " |  Data descriptors defined here:\n",
      " |  \n",
      " |  start\n",
      " |  \n",
      " |  step\n",
      " |  \n",
      " |  stop\n",
      "\n"
     ]
    }
   ],
   "source": [
    "help(range)"
   ]
  },
  {
   "cell_type": "code",
   "execution_count": 28,
   "id": "02707fa9-d8e4-4341-bb01-7ef8d87ba3e6",
   "metadata": {},
   "outputs": [
    {
     "name": "stdout",
     "output_type": "stream",
     "text": [
      "2\n",
      "4\n",
      "6\n",
      "8\n"
     ]
    }
   ],
   "source": [
    "for i in range (2,10, 2):\n",
    "    print(i)"
   ]
  },
  {
   "cell_type": "code",
   "execution_count": 32,
   "id": "f0112acb-f17c-4bb7-b1db-c441c264c35b",
   "metadata": {},
   "outputs": [
    {
     "name": "stdout",
     "output_type": "stream",
     "text": [
      "70\n",
      "140\n",
      "210\n",
      "280\n",
      "350\n",
      "420\n",
      "490\n"
     ]
    }
   ],
   "source": [
    "#to generate or display the number to 10 - 500 divisible by both 10 and 7 \n",
    "\n",
    "for i in range (10 , 500 ):\n",
    "    if (i%10==0) and (i%7==0):\n",
    "        print(i)"
   ]
  },
  {
   "cell_type": "code",
   "execution_count": 37,
   "id": "fcd32ed9-42e0-4a09-9719-8c9a4baa5609",
   "metadata": {},
   "outputs": [
    {
     "name": "stdout",
     "output_type": "stream",
     "text": [
      "[14, 21, 28, 35, 42, 49, 56, 63, 70, 77, 84, 91, 98, 105, 112, 119, 126, 133, 140, 147, 154, 161, 168, 175, 182, 189, 196, 203, 210, 217, 224, 231, 238, 245, 252, 259, 266, 273, 280, 287, 294, 301, 308, 315, 322, 329, 336, 343, 350, 357, 364, 371, 378, 385, 392, 399, 406, 413, 420, 427, 434, 441, 448, 455, 462, 469, 476, 483, 490, 497]\n"
     ]
    }
   ],
   "source": [
    "seven_div=[]\n",
    "for i in range (10 , 500):\n",
    "    if(i%7==0):\n",
    "        seven_div.append(i)\n",
    "print(seven_div)"
   ]
  },
  {
   "cell_type": "code",
   "execution_count": 33,
   "id": "864918fb-76b7-423a-84ba-8875f655e3e2",
   "metadata": {},
   "outputs": [
    {
     "name": "stdout",
     "output_type": "stream",
     "text": [
      "Help on list object:\n",
      "\n",
      "class list(object)\n",
      " |  list(iterable=(), /)\n",
      " |  \n",
      " |  Built-in mutable sequence.\n",
      " |  \n",
      " |  If no argument is given, the constructor creates a new empty list.\n",
      " |  The argument must be an iterable if specified.\n",
      " |  \n",
      " |  Methods defined here:\n",
      " |  \n",
      " |  __add__(self, value, /)\n",
      " |      Return self+value.\n",
      " |  \n",
      " |  __contains__(self, key, /)\n",
      " |      Return key in self.\n",
      " |  \n",
      " |  __delitem__(self, key, /)\n",
      " |      Delete self[key].\n",
      " |  \n",
      " |  __eq__(self, value, /)\n",
      " |      Return self==value.\n",
      " |  \n",
      " |  __ge__(self, value, /)\n",
      " |      Return self>=value.\n",
      " |  \n",
      " |  __getattribute__(self, name, /)\n",
      " |      Return getattr(self, name).\n",
      " |  \n",
      " |  __getitem__(...)\n",
      " |      x.__getitem__(y) <==> x[y]\n",
      " |  \n",
      " |  __gt__(self, value, /)\n",
      " |      Return self>value.\n",
      " |  \n",
      " |  __iadd__(self, value, /)\n",
      " |      Implement self+=value.\n",
      " |  \n",
      " |  __imul__(self, value, /)\n",
      " |      Implement self*=value.\n",
      " |  \n",
      " |  __init__(self, /, *args, **kwargs)\n",
      " |      Initialize self.  See help(type(self)) for accurate signature.\n",
      " |  \n",
      " |  __iter__(self, /)\n",
      " |      Implement iter(self).\n",
      " |  \n",
      " |  __le__(self, value, /)\n",
      " |      Return self<=value.\n",
      " |  \n",
      " |  __len__(self, /)\n",
      " |      Return len(self).\n",
      " |  \n",
      " |  __lt__(self, value, /)\n",
      " |      Return self<value.\n",
      " |  \n",
      " |  __mul__(self, value, /)\n",
      " |      Return self*value.\n",
      " |  \n",
      " |  __ne__(self, value, /)\n",
      " |      Return self!=value.\n",
      " |  \n",
      " |  __repr__(self, /)\n",
      " |      Return repr(self).\n",
      " |  \n",
      " |  __reversed__(self, /)\n",
      " |      Return a reverse iterator over the list.\n",
      " |  \n",
      " |  __rmul__(self, value, /)\n",
      " |      Return value*self.\n",
      " |  \n",
      " |  __setitem__(self, key, value, /)\n",
      " |      Set self[key] to value.\n",
      " |  \n",
      " |  __sizeof__(self, /)\n",
      " |      Return the size of the list in memory, in bytes.\n",
      " |  \n",
      " |  append(self, object, /)\n",
      " |      Append object to the end of the list.\n",
      " |  \n",
      " |  clear(self, /)\n",
      " |      Remove all items from list.\n",
      " |  \n",
      " |  copy(self, /)\n",
      " |      Return a shallow copy of the list.\n",
      " |  \n",
      " |  count(self, value, /)\n",
      " |      Return number of occurrences of value.\n",
      " |  \n",
      " |  extend(self, iterable, /)\n",
      " |      Extend list by appending elements from the iterable.\n",
      " |  \n",
      " |  index(self, value, start=0, stop=9223372036854775807, /)\n",
      " |      Return first index of value.\n",
      " |      \n",
      " |      Raises ValueError if the value is not present.\n",
      " |  \n",
      " |  insert(self, index, object, /)\n",
      " |      Insert object before index.\n",
      " |  \n",
      " |  pop(self, index=-1, /)\n",
      " |      Remove and return item at index (default last).\n",
      " |      \n",
      " |      Raises IndexError if list is empty or index is out of range.\n",
      " |  \n",
      " |  remove(self, value, /)\n",
      " |      Remove first occurrence of value.\n",
      " |      \n",
      " |      Raises ValueError if the value is not present.\n",
      " |  \n",
      " |  reverse(self, /)\n",
      " |      Reverse *IN PLACE*.\n",
      " |  \n",
      " |  sort(self, /, *, key=None, reverse=False)\n",
      " |      Sort the list in ascending order and return None.\n",
      " |      \n",
      " |      The sort is in-place (i.e. the list itself is modified) and stable (i.e. the\n",
      " |      order of two equal elements is maintained).\n",
      " |      \n",
      " |      If a key function is given, apply it once to each list item and sort them,\n",
      " |      ascending or descending, according to their function values.\n",
      " |      \n",
      " |      The reverse flag can be set to sort in descending order.\n",
      " |  \n",
      " |  ----------------------------------------------------------------------\n",
      " |  Class methods defined here:\n",
      " |  \n",
      " |  __class_getitem__(...) from builtins.type\n",
      " |      See PEP 585\n",
      " |  \n",
      " |  ----------------------------------------------------------------------\n",
      " |  Static methods defined here:\n",
      " |  \n",
      " |  __new__(*args, **kwargs) from builtins.type\n",
      " |      Create and return a new object.  See help(type) for accurate signature.\n",
      " |  \n",
      " |  ----------------------------------------------------------------------\n",
      " |  Data and other attributes defined here:\n",
      " |  \n",
      " |  __hash__ = None\n",
      "\n"
     ]
    }
   ],
   "source": [
    "help(list)"
   ]
  },
  {
   "cell_type": "code",
   "execution_count": 53,
   "id": "3da24b51-f5fd-4257-a30c-023bc13dc82d",
   "metadata": {},
   "outputs": [
    {
     "name": "stdout",
     "output_type": "stream",
     "text": [
      "the number count between 100 to 1000 which are even and divisble by 3 are :  150\n"
     ]
    }
   ],
   "source": [
    "even=[]\n",
    "count=0\n",
    "final=[]\n",
    "for i in range(100, 1000):\n",
    "    if (i %2==0 ) :\n",
    "        even.append(i)\n",
    "for i in even:\n",
    "    if i%3==0:\n",
    "        count+=1\n",
    "          \n",
    "\n",
    "print(\"the number count between 100 to 1000 which are even and divisble by 3 are : \" ,count)"
   ]
  },
  {
   "cell_type": "code",
   "execution_count": 69,
   "id": "9e1e4cd4-5627-4e3d-bed4-22bdbed31adb",
   "metadata": {},
   "outputs": [
    {
     "name": "stdout",
     "output_type": "stream",
     "text": [
      "102, 108, 114, 120, 126, 132, 138, 144, 150, 156, 162, 168, 174, 180, 186, 192, 198, 204, 210, 216, 222, 228, 234, 240, 246, 252, 258, 264, 270, 276, 282, 288, 294, 300, 306, 312, 318, 324, 330, 336, 342, 348, 354, 360, 366, 372, 378, 384, 390, 396, 402, 408, 414, 420, 426, 432, 438, 444, 450, 456, 462, 468, 474, 480, 486, 492, 498, 504, 510, 516, 522, 528, 534, 540, 546, 552, 558, 564, 570, 576, 582, 588, 594, 600, 606, 612, 618, 624, 630, 636, 642, 648, 654, 660, 666, 672, 678, 684, 690, 696, 702, 708, 714, 720, 726, 732, 738, 744, 750, 756, 762, 768, 774, 780, 786, 792, 798, 804, 810, 816, 822, 828, 834, 840, 846, 852, 858, 864, 870, 876, 882, 888, 894, 900, 906, 912, 918, 924, 930, 936, 942, 948, 954, 960, 966, 972, 978, 984, 990, 996, \n",
      "--------------------------------------------------------------------------------------->\n",
      "the number count between 100 to 1000 which are even and divisble by 3 are :  150\n"
     ]
    }
   ],
   "source": [
    "count=0\n",
    "final=[]\n",
    "for i in range(100, 1000):\n",
    "    if (i %2==0 )and(i%3==0) :\n",
    "        count+=1\n",
    "        final.append(i)\n",
    "        print(i,end=', ')\n",
    "#print(final)  \n",
    "print('\\n--------------------------------------------------------------------------------------->')\n",
    "print(\"the number count between 100 to 1000 which are even and divisble by 3 are : \" ,count)"
   ]
  },
  {
   "cell_type": "code",
   "execution_count": null,
   "id": "0e91efdf-055c-4d6f-bf1e-e82395242842",
   "metadata": {},
   "outputs": [],
   "source": [
    "count=0\n",
    "final=[]\n",
    "for i in range(100, 1000):\n",
    "    if (i %2==0 )and(i%3==0) :\n",
    "        count+=1\n",
    "        final.append(i)\n",
    "print(final)  \n",
    "\n",
    "print(\"\\nthe number count between 100 to 1000 which are even and divisble by 3 are : \" ,count)"
   ]
  },
  {
   "cell_type": "code",
   "execution_count": null,
   "id": "9dc6920f-54af-4ba6-a26e-7728affab0a2",
   "metadata": {},
   "outputs": [],
   "source": []
  },
  {
   "cell_type": "code",
   "execution_count": null,
   "id": "876d279a-a314-410f-ac64-44841ecc8af9",
   "metadata": {},
   "outputs": [],
   "source": []
  },
  {
   "cell_type": "code",
   "execution_count": 73,
   "id": "0fa9c6f2-7c97-4af4-a935-ba2ed38aa46e",
   "metadata": {},
   "outputs": [
    {
     "name": "stdout",
     "output_type": "stream",
     "text": [
      "0\n",
      "1\n",
      "2\n",
      "3\n",
      "4\n",
      "5\n",
      "6\n",
      "7\n",
      "8\n",
      "9\n",
      "10\n",
      "end---/\n"
     ]
    }
   ],
   "source": [
    "i=0\n",
    "while(i<=10):\n",
    "    print(i)\n",
    "    i+=1\n",
    "print('end---/')"
   ]
  },
  {
   "cell_type": "code",
   "execution_count": 78,
   "id": "f863afbe-b568-4d28-bdbb-3bbb3f1257e4",
   "metadata": {},
   "outputs": [
    {
     "name": "stdout",
     "output_type": "stream",
     "text": [
      "102, 108, 114, 120, 126, 132, 138, 144, 150, 156, 162, 168, 174, 180, 186, 192, 198, 204, 210, 216, 222, 228, 234, 240, 246, 252, 258, 264, 270, 276, 282, 288, 294, 300, 306, 312, 318, 324, 330, 336, 342, 348, 354, 360, 366, 372, 378, 384, 390, 396, 402, 408, 414, 420, 426, 432, 438, 444, 450, 456, 462, 468, 474, 480, 486, 492, 498, 504, 510, 516, 522, 528, 534, 540, 546, 552, 558, 564, 570, 576, 582, 588, 594, 600, 606, 612, 618, 624, 630, 636, 642, 648, 654, 660, 666, 672, 678, 684, 690, 696, 702, 708, 714, 720, 726, 732, 738, 744, 750, 756, 762, 768, 774, 780, 786, 792, 798, 804, 810, 816, 822, 828, 834, 840, 846, 852, 858, 864, 870, 876, 882, 888, 894, 900, 906, 912, 918, 924, 930, 936, 942, 948, 954, 960, 966, 972, 978, 984, 990, 996, \n",
      "------------->\n",
      "the total numbers between 100 and 1000 that are even and divisible by 3 are 150\n"
     ]
    }
   ],
   "source": [
    "i=100\n",
    "count=0\n",
    "while(i<1000):\n",
    "    if(i%2==0)and (i%3==0):\n",
    "        print(i, end=', ')\n",
    "        count+=1\n",
    "    i+=1\n",
    "print('\\n------------->')\n",
    "print(\"the total numbers between 100 and 1000 that are even and divisible by 3 are\" , count)"
   ]
  },
  {
   "cell_type": "markdown",
   "id": "473e5709-a226-4645-b426-3ceef84ba5c8",
   "metadata": {},
   "source": [
    "## LIST"
   ]
  },
  {
   "cell_type": "code",
   "execution_count": 35,
   "id": "41290a42-c4bf-452f-af3e-bba7b6804207",
   "metadata": {},
   "outputs": [
    {
     "name": "stdout",
     "output_type": "stream",
     "text": [
      "[20, 30, 10, 'hi', 40]\n",
      "20 30 10 hi 40\n"
     ]
    }
   ],
   "source": [
    "f_list=[20,30,10, 'hi', 40]\n",
    "\n",
    "print(f_list)\n",
    "print(*f_list) #no formatting function * "
   ]
  },
  {
   "cell_type": "code",
   "execution_count": 36,
   "id": "21e04ae5-c520-4147-adb8-bc9102900d78",
   "metadata": {},
   "outputs": [],
   "source": [
    "#list with for loop "
   ]
  },
  {
   "cell_type": "code",
   "execution_count": 40,
   "id": "c99b14cf-2f31-42de-b945-c1744b5aa90f",
   "metadata": {},
   "outputs": [
    {
     "name": "stdout",
     "output_type": "stream",
     "text": [
      "5\n"
     ]
    }
   ],
   "source": [
    "count=0\n",
    "for i in f_list:\n",
    "    count+=1\n",
    "print(count)"
   ]
  },
  {
   "cell_type": "code",
   "execution_count": 56,
   "id": "6826ce37-4e96-47dc-bf66-1f4709cea4af",
   "metadata": {},
   "outputs": [
    {
     "name": "stdout",
     "output_type": "stream",
     "text": [
      "20\n",
      "10\n",
      "40\n"
     ]
    }
   ],
   "source": [
    "sub_list=f_list[0:len(f_list):2]\n",
    "for i in range (0,len(sub_list)):\n",
    "    print(sub_list[i])"
   ]
  },
  {
   "cell_type": "code",
   "execution_count": 64,
   "id": "4b944fff-d480-4949-b45b-e9eb5a989f91",
   "metadata": {},
   "outputs": [
    {
     "name": "stdout",
     "output_type": "stream",
     "text": [
      "the full list is : 20 30 10 hi 40\n",
      "accessing any element : 10\n",
      "accessing form last : 10\n",
      "fetching elements in between : [10, 'hi', 40]\n",
      "alternate elements from 1 to last :  [30, 'hi']\n"
     ]
    }
   ],
   "source": [
    "print(\"the full list is :\" ,* f_list)\n",
    "#accessing any element \n",
    "print(\"accessing any element :\",f_list[2])\n",
    "#accessing form last \n",
    "print(\"accessing form last :\", f_list[-3])\n",
    "#fetching elements in between \n",
    "print(\"fetching elements in between :\" , f_list[2:5])\n",
    "print(\"alternate elements from 1 to last : \" , f_list[1:len(f_list): 2])"
   ]
  },
  {
   "cell_type": "code",
   "execution_count": 80,
   "id": "82701250-6a51-454f-8c28-052f8ea532a3",
   "metadata": {},
   "outputs": [
    {
     "name": "stdin",
     "output_type": "stream",
     "text": [
      "enter number 1\n",
      "enter number 2\n",
      "enter number 3\n",
      "enter number 4\n"
     ]
    },
    {
     "name": "stdout",
     "output_type": "stream",
     "text": [
      "[1, 2, 3, 4]\n",
      "[]\n"
     ]
    }
   ],
   "source": [
    "#create a list of 20 numbers and print the elements in backward direction using forward index \n",
    "listf=[]\n",
    "\n",
    "for i in range (0, 4):\n",
    "    x=int(input(\"enter number\"))\n",
    "    listf.append(x)\n",
    "print(listf)\n",
    "length=len(listf)\n",
    "print(listf[length:])\n"
   ]
  },
  {
   "cell_type": "code",
   "execution_count": null,
   "id": "a85dd209-c372-433a-9e71-aedfccb5c623",
   "metadata": {},
   "outputs": [],
   "source": [
    "f_list=[]\n",
    "for i in range(0,4):\n",
    "    x=int(input(\"enter no \")\n",
    "    f_list.append(x)\n",
    "for i in range (len(f_list)):\n",
    "    print(f_list[len(f_list):"
   ]
  },
  {
   "cell_type": "code",
   "execution_count": 85,
   "id": "5daea525-6775-46ce-9828-d0eaca63d803",
   "metadata": {},
   "outputs": [
    {
     "name": "stdout",
     "output_type": "stream",
     "text": [
      "[1, 2, 3, 4]\n"
     ]
    }
   ],
   "source": [
    "listof=[1,2,3,4]\n",
    "for i in range(3,4):\n",
    "    print(listof)"
   ]
  },
  {
   "cell_type": "code",
   "execution_count": 93,
   "id": "e7eaae3d-e036-4342-bddc-9e937cb2276e",
   "metadata": {},
   "outputs": [
    {
     "name": "stdin",
     "output_type": "stream",
     "text": [
      "input:  1\n",
      "input:  2\n",
      "input:  3\n",
      "input:  4\n"
     ]
    },
    {
     "name": "stdout",
     "output_type": "stream",
     "text": [
      "[10, 20, 30, 40, 1, 2, 3, 4]\n",
      "4, 3, 2, 1, 40, 30, 20, 10, "
     ]
    }
   ],
   "source": [
    "numlist=[10,20,30,40]\n",
    "\n",
    "for i in range(0,4):\n",
    "    y=int(input(\"input: \"))\n",
    "    numlist.append(y)\n",
    "print(numlist)\n",
    "n=len(numlist)-1\n",
    "for i in range(n,-1,-1):\n",
    "    print(numlist[i], end=', ')"
   ]
  },
  {
   "cell_type": "code",
   "execution_count": 92,
   "id": "cab46722-ec33-483e-9795-268e9ad34e9f",
   "metadata": {},
   "outputs": [
    {
     "name": "stdin",
     "output_type": "stream",
     "text": [
      "input:  1\n",
      "input:  2\n",
      "input:  3\n",
      "input:  4\n"
     ]
    },
    {
     "name": "stdout",
     "output_type": "stream",
     "text": [
      "4, 3, 2, 1, "
     ]
    }
   ],
   "source": [
    "num2=[]\n",
    "for i in range(0,4):\n",
    "    y=int(input(\"input: \"))\n",
    "    num2.append(y)\n",
    "n=len(num2)-1\n",
    "for i in range(n,-1,-1):\n",
    "    print(num2[i], end=', ')"
   ]
  },
  {
   "cell_type": "code",
   "execution_count": null,
   "id": "f996294c-0c3e-4b0b-abea-f931f21872ff",
   "metadata": {},
   "outputs": [],
   "source": []
  },
  {
   "cell_type": "markdown",
   "id": "ce0ee881-5fd3-469d-8b92-e904f285603d",
   "metadata": {},
   "source": [
    "### extend function "
   ]
  },
  {
   "cell_type": "code",
   "execution_count": 99,
   "id": "dc0095d0-fa60-4410-acd1-1754e3be75aa",
   "metadata": {},
   "outputs": [
    {
     "name": "stdout",
     "output_type": "stream",
     "text": [
      "[20, 30, 40, 50, 60, 70, 80, 100]\n"
     ]
    }
   ],
   "source": [
    "list=[20,30,40,50]\n",
    "ext=[60,70,80,100]\n",
    "ext2=[1,2,3,4]\n",
    "list.extend(ext)\n",
    "print(list)"
   ]
  },
  {
   "cell_type": "markdown",
   "id": "b3c15ddc-af96-4e94-a3c6-adf1589b3f5f",
   "metadata": {},
   "source": [
    "#### inserting at a particular position "
   ]
  },
  {
   "cell_type": "code",
   "execution_count": 107,
   "id": "3acb78a6-2b1e-44eb-b43e-27ac95d90864",
   "metadata": {},
   "outputs": [
    {
     "name": "stdout",
     "output_type": "stream",
     "text": [
      "after inserting the value at specified index : the list :\n",
      "[15, 20, 25, 30]\n"
     ]
    }
   ],
   "source": [
    "#inserting at specified\n",
    "#using insert function \n",
    "list=[15,20,30]\n",
    "list.insert(2,25)\n",
    "print(\"after inserting the value at specified index : the list :\")\n",
    "print(list)"
   ]
  },
  {
   "cell_type": "code",
   "execution_count": 120,
   "id": "9288df5e-ac1b-4fb0-aed4-e4fa830f37c8",
   "metadata": {},
   "outputs": [
    {
     "name": "stdin",
     "output_type": "stream",
     "text": [
      "enter the value 1\n",
      "enter the value 2\n",
      "enter the value 3\n"
     ]
    },
    {
     "name": "stdout",
     "output_type": "stream",
     "text": [
      "['1', '2', '3']\n",
      "[10, 20, 30, ['1', '2', '3']]\n"
     ]
    }
   ],
   "source": [
    "list=[10,20,30]\n",
    "list2=[]\n",
    "for i in range(0,3) :\n",
    "    \n",
    "    x=input(\"enter the value\")\n",
    "    list2.append(x)\n",
    "print(list2)\n",
    "n=len(list)\n",
    "list.insert(n,list2)\n",
    "print(list)"
   ]
  },
  {
   "cell_type": "code",
   "execution_count": 123,
   "id": "22bf8cc0-5e6c-4c91-99e1-901a647d81d7",
   "metadata": {},
   "outputs": [
    {
     "name": "stdout",
     "output_type": "stream",
     "text": [
      "the list before insertion-->\n",
      "[10, 20, 30]\n",
      "the list after insertion at index  2  is :  [10, 20, 50, 40, 30, 30]\n"
     ]
    }
   ],
   "source": [
    "list=[10,20,30]\n",
    "list2=[30,40,50]\n",
    "print(\"the list before insertion-->\")\n",
    "print(list)\n",
    "index=2\n",
    "for x in list2:\n",
    "    list.insert(index, x)\n",
    "    x+=1\n",
    "print(\"the list after insertion at index \" , index , \" is : \", list)"
   ]
  },
  {
   "cell_type": "code",
   "execution_count": null,
   "id": "8b5d6f29-b2e1-44af-a195-d265311c7cac",
   "metadata": {},
   "outputs": [],
   "source": []
  },
  {
   "cell_type": "markdown",
   "id": "54015c59-5914-4b85-80e1-1a2eee012806",
   "metadata": {},
   "source": [
    "#### removal of elements from list "
   ]
  },
  {
   "cell_type": "code",
   "execution_count": null,
   "id": "26f13925-207a-40c8-b3e4-60136d843f77",
   "metadata": {},
   "outputs": [],
   "source": []
  },
  {
   "cell_type": "code",
   "execution_count": 129,
   "id": "817a996e-a3df-4030-8e6c-7badf1426cbc",
   "metadata": {},
   "outputs": [
    {
     "name": "stdout",
     "output_type": "stream",
     "text": [
      "[20, 30, 50]\n"
     ]
    }
   ],
   "source": [
    "#1. using pop function pop()\n",
    "\n",
    "\n",
    "list3=[20,30,40,50]\n",
    "list3.pop(2)\n",
    "print(list3)"
   ]
  },
  {
   "cell_type": "code",
   "execution_count": 127,
   "id": "d46dd284-872f-4ea2-bfbe-d10d9b49d795",
   "metadata": {},
   "outputs": [
    {
     "name": "stdout",
     "output_type": "stream",
     "text": [
      "[20, 30, 50]\n"
     ]
    }
   ],
   "source": [
    "print(list3)"
   ]
  },
  {
   "cell_type": "code",
   "execution_count": 132,
   "id": "77029f82-9a2a-443f-96eb-15f9696933b7",
   "metadata": {},
   "outputs": [
    {
     "name": "stdout",
     "output_type": "stream",
     "text": [
      "[40, 50, 60, 66, 55]\n"
     ]
    }
   ],
   "source": [
    "#2. using remove function remove()\n",
    "#to delete specified element from the position of first occurence from the left most element \n",
    "list4=[40,50,55,60,66,55]\n",
    "list4.remove(55)\n",
    "print(list4)"
   ]
  },
  {
   "cell_type": "code",
   "execution_count": 133,
   "id": "a7ea485f-92d6-430d-a583-2eacab28d20a",
   "metadata": {},
   "outputs": [
    {
     "ename": "ValueError",
     "evalue": "list.remove(x): x not in list",
     "output_type": "error",
     "traceback": [
      "\u001b[1;31m---------------------------------------------------------------------------\u001b[0m",
      "\u001b[1;31mValueError\u001b[0m                                Traceback (most recent call last)",
      "Cell \u001b[1;32mIn[133], line 1\u001b[0m\n\u001b[1;32m----> 1\u001b[0m list4\u001b[38;5;241m.\u001b[39mremove(\u001b[38;5;241m80\u001b[39m)\n\u001b[0;32m      2\u001b[0m \u001b[38;5;28mprint\u001b[39m(list4)\n",
      "\u001b[1;31mValueError\u001b[0m: list.remove(x): x not in list"
     ]
    }
   ],
   "source": [
    "list4.remove(80)\n",
    "print(list4)"
   ]
  },
  {
   "cell_type": "code",
   "execution_count": 134,
   "id": "df9d59b3-c3a8-43a4-b00c-845af52cb6c0",
   "metadata": {},
   "outputs": [],
   "source": [
    "# hence the remove() will generate error if value isnt present "
   ]
  },
  {
   "cell_type": "code",
   "execution_count": 135,
   "id": "328f5f84-979d-4964-bece-0450b1bbf55d",
   "metadata": {},
   "outputs": [],
   "source": [
    "# 3 . clear() method "
   ]
  },
  {
   "cell_type": "code",
   "execution_count": 136,
   "id": "c69fbf0d-2207-429f-ba4c-da9a8d12acda",
   "metadata": {},
   "outputs": [
    {
     "name": "stdout",
     "output_type": "stream",
     "text": [
      "[]\n"
     ]
    }
   ],
   "source": [
    "list4.clear()\n",
    "print(list4)"
   ]
  },
  {
   "cell_type": "code",
   "execution_count": 137,
   "id": "743bb93b-eb82-46ed-93f2-8a96e3f62d00",
   "metadata": {},
   "outputs": [],
   "source": [
    "#now the list has been all cleared "
   ]
  },
  {
   "cell_type": "code",
   "execution_count": null,
   "id": "84c7dc40-1ce4-4cf6-b043-5334f7803663",
   "metadata": {},
   "outputs": [],
   "source": []
  },
  {
   "cell_type": "markdown",
   "id": "a0b46024-b6b3-4c5a-b411-ba7e82617fb1",
   "metadata": {},
   "source": [
    "## tabulate module "
   ]
  },
  {
   "cell_type": "code",
   "execution_count": 10,
   "id": "d48020c8-f412-4078-bad0-e57c3496c021",
   "metadata": {},
   "outputs": [],
   "source": [
    "#installing tabulate to convert list data into tabular form "
   ]
  },
  {
   "cell_type": "code",
   "execution_count": 1,
   "id": "03bc0402-5ee7-4922-aed5-dfa84a19844e",
   "metadata": {},
   "outputs": [
    {
     "name": "stdout",
     "output_type": "stream",
     "text": [
      "Requirement already satisfied: tabulate in c:\\users\\dhruv\\anaconda3\\lib\\site-packages (0.9.0)\n"
     ]
    }
   ],
   "source": [
    "!pip install tabulate "
   ]
  },
  {
   "cell_type": "code",
   "execution_count": 2,
   "id": "b5f32d0d-aeaf-4219-b1e3-867f527dde9a",
   "metadata": {},
   "outputs": [],
   "source": [
    "from tabulate import tabulate"
   ]
  },
  {
   "cell_type": "code",
   "execution_count": 35,
   "id": "68cba87c-c99b-4f8b-a541-25b92040d568",
   "metadata": {},
   "outputs": [
    {
     "name": "stdout",
     "output_type": "stream",
     "text": [
      "+---------+----------------+-------------+-------+---------+-----------+---------+-----------+------------+---------+\n",
      "| stdid   | stdname        |  Standard   |   age |   hindi |   english |   maths |   science |   computer |   total |\n",
      "+=========+================+=============+=======+=========+===========+=========+===========+============+=========+\n",
      "| std101  | Ashish Kumar   | 10th        |    15 |      67 |        89 |      87 |        89 |         90 |     422 |\n",
      "+---------+----------------+-------------+-------+---------+-----------+---------+-----------+------------+---------+\n",
      "| std102  | Abhishek Kumar | 10th        |    15 |      48 |        48 |      93 |        79 |         45 |     313 |\n",
      "+---------+----------------+-------------+-------+---------+-----------+---------+-----------+------------+---------+\n",
      "| std103  | Aman           | 10th        |    14 |      56 |        56 |      78 |        78 |         67 |     302 |\n",
      "+---------+----------------+-------------+-------+---------+-----------+---------+-----------+------------+---------+\n",
      "| std104  | Rahul          | 10th        |    13 |      67 |        89 |      45 |        78 |         89 |     368 |\n",
      "+---------+----------------+-------------+-------+---------+-----------+---------+-----------+------------+---------+\n",
      "| std105  | Ruby           | 10th        |    13 |      35 |        89 |      90 |        45 |         45 |     303 |\n",
      "+---------+----------------+-------------+-------+---------+-----------+---------+-----------+------------+---------+\n",
      "| std106  | Suman          | 10th        |    15 |      45 |        99 |      45 |        45 |         73 |     337 |\n",
      "+---------+----------------+-------------+-------+---------+-----------+---------+-----------+------------+---------+\n",
      "| std107  | Saurabh        | 10th        |    13 |      89 |        45 |      89 |        45 |         45 |     313 |\n",
      "+---------+----------------+-------------+-------+---------+-----------+---------+-----------+------------+---------+\n",
      "| std108  | Sumit          | 10th        |    15 |      12 |        78 |      78 |        99 |         36 |     303 |\n",
      "+---------+----------------+-------------+-------+---------+-----------+---------+-----------+------------+---------+\n",
      "| std109  | Kamlesh        | 10th        |    15 |      56 |        45 |      67 |        93 |         42 |     303 |\n",
      "+---------+----------------+-------------+-------+---------+-----------+---------+-----------+------------+---------+\n",
      "| std110  | Rohan          | 10th        |    15 |      34 |        24 |      45 |        45 |         56 |     171 |\n",
      "+---------+----------------+-------------+-------+---------+-----------+---------+-----------+------------+---------+\n",
      "\n",
      "\n",
      "Students with English marks greater than 50:\n",
      "+---------+--------------+-------------+-------+---------+-----------+---------+-----------+------------+---------+\n",
      "| stdid   | stdname      |  Standard   |   age |   hindi |   english |   maths |   science |   computer |   total |\n",
      "+=========+==============+=============+=======+=========+===========+=========+===========+============+=========+\n",
      "| std101  | Ashish Kumar | 10th        |    15 |      67 |        89 |      87 |        89 |         90 |     422 |\n",
      "+---------+--------------+-------------+-------+---------+-----------+---------+-----------+------------+---------+\n",
      "| std103  | Aman         | 10th        |    14 |      56 |        56 |      78 |        78 |         67 |     302 |\n",
      "+---------+--------------+-------------+-------+---------+-----------+---------+-----------+------------+---------+\n",
      "| std104  | Rahul        | 10th        |    13 |      67 |        89 |      45 |        78 |         89 |     368 |\n",
      "+---------+--------------+-------------+-------+---------+-----------+---------+-----------+------------+---------+\n",
      "| std105  | Ruby         | 10th        |    13 |      35 |        89 |      90 |        45 |         45 |     303 |\n",
      "+---------+--------------+-------------+-------+---------+-----------+---------+-----------+------------+---------+\n",
      "| std106  | Suman        | 10th        |    15 |      45 |        99 |      45 |        45 |         73 |     337 |\n",
      "+---------+--------------+-------------+-------+---------+-----------+---------+-----------+------------+---------+\n",
      "| std108  | Sumit        | 10th        |    15 |      12 |        78 |      78 |        99 |         36 |     303 |\n",
      "+---------+--------------+-------------+-------+---------+-----------+---------+-----------+------------+---------+\n",
      "\n",
      "\n",
      "\n",
      "Top 4 Students with Highest Marks in Maths and with their age :\n",
      "+--------------+-------+\n",
      "| stdname      |   age |\n",
      "+==============+=======+\n",
      "| Suman        |    15 |\n",
      "+--------------+-------+\n",
      "| Ashish Kumar |    15 |\n",
      "+--------------+-------+\n",
      "| Rahul        |    13 |\n",
      "+--------------+-------+\n",
      "| Ruby         |    13 |\n",
      "+--------------+-------+\n",
      "\n",
      "\n"
     ]
    }
   ],
   "source": [
    "student_records = [\n",
    "   \n",
    "    ['std101', 'Ashish Kumar', '10th', 15, 67, 89, 87, 89, 90, 422],\n",
    "    ['std102', 'Abhishek Kumar', '10th', 15, 48, 48, 93, 79, 45, 313],\n",
    "    ['std103', 'Aman', '10th', 14, 56, 56, 78, 78, 67, 302],\n",
    "    ['std104', 'Rahul', '10th', 13, 67, 89, 45, 78, 89, 368],\n",
    "    ['std105', 'Ruby', '10th', 13, 35, 89, 90, 45, 45, 303],\n",
    "    ['std106', 'Suman', '10th', 15, 45, 99, 45, 45, 73, 337],\n",
    "    ['std107', 'Saurabh', '10th', 13, 89, 45, 89, 45, 45, 313],\n",
    "    ['std108', 'Sumit', '10th', 15, 12, 78, 78, 99, 36, 303],\n",
    "    ['std109', 'Kamlesh', '10th', 15, 56, 45, 67, 93, 42, 303],\n",
    "    ['std110', 'Rohan', '10th', 15, 34, 24, 45, 45, 56, 171],\n",
    "]\n",
    "\n",
    "\n",
    "columns = [\"stdid\", \"stdname\", \" Standard\", \"age\", \"hindi\", \"english\", \"maths\", \"science\", \"computer\", \"total\"]\n",
    "\n",
    "print(tabulate(student_records, headers=columns, tablefmt=\"grid\"))\n",
    "\n",
    "\n",
    "print(\"\\n\\nStudents with English marks greater than 50:\")\n",
    "filtered_records = [record for record in student_records if record[5] > 50]\n",
    "print(tabulate(filtered_records, headers=columns, tablefmt=\"grid\"))\n",
    "\n",
    "print('\\n')\n",
    "\n",
    "top_math_students = sorted(student_records, key=lambda x: x[5], reverse=True)[:4]\n",
    "\n",
    "\n",
    "top_students = [(student[1], student[3]) for student in top_math_students]\n",
    "\n",
    "print(\"\\nTop 4 Students with Highest Marks in Maths and with their age :\")\n",
    "print(tabulate(top_students, headers=[\"stdname\", \"age\"], tablefmt=\"grid\"))\n",
    "\n",
    "\n",
    "print('\\n')\n",
    "\n"
   ]
  },
  {
   "cell_type": "code",
   "execution_count": 41,
   "id": "cb39fbd2-2c95-4a74-89c2-40869e7fd235",
   "metadata": {},
   "outputs": [
    {
     "name": "stdout",
     "output_type": "stream",
     "text": [
      "bottom 2 Students with lowest marks in computer  :\n",
      "+---------+-----------+-------+------------+\n",
      "| stdid   | stdname   |   age |   computer |\n",
      "+=========+===========+=======+============+\n",
      "| std105  | Ruby      |    13 |         45 |\n",
      "+---------+-----------+-------+------------+\n",
      "| std106  | Suman     |    15 |         45 |\n",
      "+---------+-----------+-------+------------+\n",
      "| std107  | Saurabh   |    13 |         45 |\n",
      "+---------+-----------+-------+------------+\n"
     ]
    }
   ],
   "source": [
    "computer_students = sorted(student_records, key=lambda x: x[7])[:3]\n",
    "\n",
    "\n",
    "low_students = [(student[0],student[1], student[3],student[7] ) for student in computer_students]\n",
    "\n",
    "print(\"bottom 2 Students with lowest marks in computer  :\")\n",
    "print(tabulate(low_students, headers=[\"stdid\", \"stdname\", \"age\",  \"computer\"], tablefmt=\"grid\"))\n"
   ]
  },
  {
   "cell_type": "code",
   "execution_count": null,
   "id": "09a690d8-1ce4-413a-93ba-052f1a290d85",
   "metadata": {},
   "outputs": [],
   "source": []
  },
  {
   "cell_type": "code",
   "execution_count": null,
   "id": "448a26e4-4170-4f9f-b5da-39b7b9cbc25a",
   "metadata": {},
   "outputs": [],
   "source": []
  },
  {
   "cell_type": "markdown",
   "id": "f430d6c2-7445-4d46-b182-a97951b7893d",
   "metadata": {},
   "source": [
    "## TUPLE"
   ]
  },
  {
   "cell_type": "code",
   "execution_count": 43,
   "id": "a2e66b9e-bbf5-474f-8021-154098df6a72",
   "metadata": {},
   "outputs": [
    {
     "name": "stdout",
     "output_type": "stream",
     "text": [
      "(11, 22, 33, 44)\n",
      "11 22 33 44\n"
     ]
    }
   ],
   "source": [
    "numbers=(11,22,33,44)\n",
    "print(numbers)\n",
    "print(*numbers)"
   ]
  },
  {
   "cell_type": "code",
   "execution_count": 49,
   "id": "498f5403-187c-4b40-b2c3-999638117ceb",
   "metadata": {},
   "outputs": [
    {
     "name": "stdout",
     "output_type": "stream",
     "text": [
      "11, 22, 33, 44, "
     ]
    }
   ],
   "source": [
    "for elements in numbers:\n",
    "    print( elements , end=\", \")"
   ]
  },
  {
   "cell_type": "code",
   "execution_count": 53,
   "id": "bdd9617d-2349-4b62-bee5-0ac1fea51d2f",
   "metadata": {},
   "outputs": [],
   "source": [
    "#printing backward using forward direction "
   ]
  },
  {
   "cell_type": "code",
   "execution_count": 52,
   "id": "37bd4f89-b4f6-45b5-9025-f4921f180ed9",
   "metadata": {},
   "outputs": [
    {
     "name": "stdout",
     "output_type": "stream",
     "text": [
      "44, 33, 22, 11, "
     ]
    }
   ],
   "source": [
    "n=len(numbers)-1\n",
    "for i in range(n,-1,-1):\n",
    "    print(numbers[i], end=', ')\n"
   ]
  },
  {
   "cell_type": "code",
   "execution_count": 59,
   "id": "258a2a8e-86ce-4fcf-bae5-94a15ad17a7b",
   "metadata": {},
   "outputs": [
    {
     "ename": "AttributeError",
     "evalue": "'tuple' object has no attribute 'sort'",
     "output_type": "error",
     "traceback": [
      "\u001b[1;31m---------------------------------------------------------------------------\u001b[0m",
      "\u001b[1;31mAttributeError\u001b[0m                            Traceback (most recent call last)",
      "Cell \u001b[1;32mIn[59], line 1\u001b[0m\n\u001b[1;32m----> 1\u001b[0m numbers\u001b[38;5;241m.\u001b[39msort()\n",
      "\u001b[1;31mAttributeError\u001b[0m: 'tuple' object has no attribute 'sort'"
     ]
    }
   ],
   "source": [
    "numbers.sort()\n",
    "#tuples cant be sorted as the updation isnt allowed in tuple"
   ]
  },
  {
   "cell_type": "code",
   "execution_count": null,
   "id": "bdf40e3e-0248-40cc-aff4-9f21f437ca53",
   "metadata": {},
   "outputs": [],
   "source": []
  },
  {
   "cell_type": "markdown",
   "id": "e214b59c-a29f-433f-95f6-0cd27e4b3884",
   "metadata": {},
   "source": [
    "## DICTIONARY"
   ]
  },
  {
   "cell_type": "code",
   "execution_count": 62,
   "id": "68f55681-0dd3-4ca1-9aae-79fca4467c8a",
   "metadata": {},
   "outputs": [],
   "source": [
    "#Indexing is the major issue in list thats why we have introduced dictionary , with the key value pairs \n",
    "#keys are unique and is immutable \n",
    "#values are muttable \n",
    "#dictionary_syntax= {\"key\": 'value' , \"key2\": 'value2'}\n"
   ]
  },
  {
   "cell_type": "code",
   "execution_count": 63,
   "id": "f15390b3-8d54-4ce7-ac69-b95ce4baa7c7",
   "metadata": {},
   "outputs": [],
   "source": [
    "#to insert keys and value in dictionary "
   ]
  },
  {
   "cell_type": "code",
   "execution_count": 64,
   "id": "a839724e-73b0-4339-b6e8-ed4d1c1166d1",
   "metadata": {},
   "outputs": [
    {
     "name": "stdout",
     "output_type": "stream",
     "text": [
      "{'name': 'Dhruv ', 'age ': 21}\n"
     ]
    }
   ],
   "source": [
    "dict={\"name\": 'Dhruv ' , \"age \": 21}\n",
    "print(dict)"
   ]
  },
  {
   "cell_type": "code",
   "execution_count": 78,
   "id": "3b0f5a28-8395-4d2c-bc21-1c95fdbdd33e",
   "metadata": {},
   "outputs": [],
   "source": [
    "dict[\"name\"]=\"dhruv1\"\n",
    "dict[\"name\"]=\"Dhruv\"\n"
   ]
  },
  {
   "cell_type": "code",
   "execution_count": 1,
   "id": "66c63595-0533-4233-bb9e-67a0908f9816",
   "metadata": {},
   "outputs": [
    {
     "ename": "AttributeError",
     "evalue": "type object 'dict' has no attribute 'insert'",
     "output_type": "error",
     "traceback": [
      "\u001b[1;31m---------------------------------------------------------------------------\u001b[0m",
      "\u001b[1;31mAttributeError\u001b[0m                            Traceback (most recent call last)",
      "Cell \u001b[1;32mIn[1], line 1\u001b[0m\n\u001b[1;32m----> 1\u001b[0m \u001b[38;5;28mdict\u001b[39m\u001b[38;5;241m.\u001b[39minsert(\u001b[38;5;241m1\u001b[39m, \u001b[38;5;124m\"\u001b[39m\u001b[38;5;124mDhruv2\u001b[39m\u001b[38;5;124m\"\u001b[39m)\n",
      "\u001b[1;31mAttributeError\u001b[0m: type object 'dict' has no attribute 'insert'"
     ]
    }
   ],
   "source": [
    "dict.insert(1, \"Dhruv2\")"
   ]
  },
  {
   "cell_type": "code",
   "execution_count": 79,
   "id": "1a9922fc-3e54-4972-84a3-5189d6bc0a13",
   "metadata": {},
   "outputs": [
    {
     "name": "stdout",
     "output_type": "stream",
     "text": [
      "name ,age  ,class ,"
     ]
    }
   ],
   "source": [
    "for elements in dict :\n",
    "    print(elements, end=' ,')"
   ]
  },
  {
   "cell_type": "code",
   "execution_count": null,
   "id": "00098ef1-b3c4-4337-9d36-e2c14d4ff36f",
   "metadata": {},
   "outputs": [],
   "source": []
  },
  {
   "cell_type": "code",
   "execution_count": 81,
   "id": "34a598fd-911a-47aa-be93-e4d39ebb88f7",
   "metadata": {},
   "outputs": [],
   "source": [
    "#retrieving value of element\n",
    "#variable= dictionary_name[key]\n"
   ]
  },
  {
   "cell_type": "code",
   "execution_count": 84,
   "id": "a51078e0-1a5d-4256-aa63-5e976a47e7ad",
   "metadata": {},
   "outputs": [
    {
     "name": "stdout",
     "output_type": "stream",
     "text": [
      "Dhruv"
     ]
    }
   ],
   "source": [
    "names= dict[\"name\"]\n",
    "for name in names :\n",
    "    print(name, end='')"
   ]
  },
  {
   "cell_type": "code",
   "execution_count": 96,
   "id": "7cd0dc73-ba72-46fb-9151-727a326d27ac",
   "metadata": {},
   "outputs": [
    {
     "name": "stdout",
     "output_type": "stream",
     "text": [
      "------  --\n",
      "Dhruv   21\n",
      "Dhruv1  21\n",
      "Dhruv2  21\n",
      "------  --\n"
     ]
    }
   ],
   "source": [
    "names= [\n",
    "    {\"name\": 'Dhruv ' , \"age \": 21},\n",
    "    {\"name\": 'Dhruv1 ' , \"age \": 21},\n",
    "    {\"name\": 'Dhruv2' , \"age \": 21}\n",
    "\n",
    "]\n",
    "print(tabulate(names , tablefmt='Grid'))\n"
   ]
  },
  {
   "cell_type": "code",
   "execution_count": 91,
   "id": "e2ae0e3f-2bca-4b27-9e64-92c2f47956ef",
   "metadata": {},
   "outputs": [
    {
     "name": "stdout",
     "output_type": "stream",
     "text": [
      "+---------+-----------+-------+---------+-----------+---------+-----------+------------+---------+\n",
      "|   stdid | stdname   |   age |   hindi |   english |   maths |   science |   computer |   total |\n",
      "+=========+===========+=======+=========+===========+=========+===========+============+=========+\n",
      "|       1 | Alice     |    14 |      78 |        88 |      95 |        89 |         90 |     440 |\n",
      "+---------+-----------+-------+---------+-----------+---------+-----------+------------+---------+\n",
      "|       2 | Bob       |    15 |      82 |        79 |      85 |        88 |         92 |     426 |\n",
      "+---------+-----------+-------+---------+-----------+---------+-----------+------------+---------+\n",
      "|       3 | Charlie   |    14 |      90 |        85 |      88 |        92 |         91 |     446 |\n",
      "+---------+-----------+-------+---------+-----------+---------+-----------+------------+---------+\n",
      "|       4 | David     |    15 |      70 |        80 |      78 |        85 |         87 |     400 |\n",
      "+---------+-----------+-------+---------+-----------+---------+-----------+------------+---------+\n",
      "|       5 | Eve       |    14 |      95 |        89 |      92 |        94 |         96 |     466 |\n",
      "+---------+-----------+-------+---------+-----------+---------+-----------+------------+---------+\n",
      "|       6 | Frank     |    15 |      60 |        70 |      68 |        75 |         80 |     353 |\n",
      "+---------+-----------+-------+---------+-----------+---------+-----------+------------+---------+\n",
      "|       7 | Grace     |    14 |      85 |        87 |      90 |        88 |         89 |     439 |\n",
      "+---------+-----------+-------+---------+-----------+---------+-----------+------------+---------+\n",
      "|       8 | Heidi     |    15 |      88 |        90 |      85 |        91 |         93 |     447 |\n",
      "+---------+-----------+-------+---------+-----------+---------+-----------+------------+---------+\n",
      "|       9 | Ivan      |    14 |      72 |        75 |      78 |        80 |         82 |     387 |\n",
      "+---------+-----------+-------+---------+-----------+---------+-----------+------------+---------+\n",
      "|      10 | Judy      |    15 |      89 |        92 |      91 |        90 |         94 |     456 |\n",
      "+---------+-----------+-------+---------+-----------+---------+-----------+------------+---------+\n",
      "\n",
      "students with English marks > 50 : \n",
      "+---------+-----------+-------+-----------+\n",
      "|   stdid | stdname   |   age |   english |\n",
      "+=========+===========+=======+===========+\n",
      "|       1 | Alice     |    14 |        88 |\n",
      "+---------+-----------+-------+-----------+\n",
      "|       2 | Bob       |    15 |        79 |\n",
      "+---------+-----------+-------+-----------+\n",
      "|       3 | Charlie   |    14 |        85 |\n",
      "+---------+-----------+-------+-----------+\n",
      "|       4 | David     |    15 |        80 |\n",
      "+---------+-----------+-------+-----------+\n",
      "|       5 | Eve       |    14 |        89 |\n",
      "+---------+-----------+-------+-----------+\n",
      "|       6 | Frank     |    15 |        70 |\n",
      "+---------+-----------+-------+-----------+\n",
      "|       7 | Grace     |    14 |        87 |\n",
      "+---------+-----------+-------+-----------+\n",
      "|       8 | Heidi     |    15 |        90 |\n",
      "+---------+-----------+-------+-----------+\n",
      "|       9 | Ivan      |    14 |        75 |\n",
      "+---------+-----------+-------+-----------+\n",
      "|      10 | Judy      |    15 |        92 |\n",
      "+---------+-----------+-------+-----------+\n",
      "\n",
      "\n",
      "Student Name      Age\n",
      "--------------  -----\n",
      "Alice              14\n",
      "Eve                14\n",
      "Judy               15\n",
      "Grace              14\n"
     ]
    }
   ],
   "source": [
    "from tabulate import tabulate\n",
    "\n",
    "# Define the student records\n",
    "student_records = [\n",
    "    \n",
    "\n",
    "    \n",
    "    {\"stdid\": 1, \"stdname\": \"Alice\", \"age\": 14, \"hindi\": 78, \"english\": 88, \"maths\": 95, \"science\": 89, \"computer\": 90, \"total\": 440},\n",
    "    {\"stdid\": 2, \"stdname\": \"Bob\", \"age\": 15, \"hindi\": 82, \"english\": 79, \"maths\": 85, \"science\": 88, \"computer\": 92, \"total\": 426},\n",
    "    {\"stdid\": 3, \"stdname\": \"Charlie\", \"age\": 14, \"hindi\": 90, \"english\": 85, \"maths\": 88, \"science\": 92, \"computer\": 91, \"total\": 446},\n",
    "    {\"stdid\": 4, \"stdname\": \"David\", \"age\": 15, \"hindi\": 70, \"english\": 80, \"maths\": 78, \"science\": 85, \"computer\": 87, \"total\": 400},\n",
    "    {\"stdid\": 5, \"stdname\": \"Eve\", \"age\": 14, \"hindi\": 95, \"english\": 89, \"maths\": 92, \"science\": 94, \"computer\": 96, \"total\": 466},\n",
    "    {\"stdid\": 6, \"stdname\": \"Frank\", \"age\": 15, \"hindi\": 60, \"english\": 70, \"maths\": 68, \"science\": 75, \"computer\": 80, \"total\": 353},\n",
    "    {\"stdid\": 7, \"stdname\": \"Grace\", \"age\": 14, \"hindi\": 85, \"english\": 87, \"maths\": 90, \"science\": 88, \"computer\": 89, \"total\": 439},\n",
    "    {\"stdid\": 8, \"stdname\": \"Heidi\", \"age\": 15, \"hindi\": 88, \"english\": 90, \"maths\": 85, \"science\": 91, \"computer\": 93, \"total\": 447},\n",
    "    {\"stdid\": 9, \"stdname\": \"Ivan\", \"age\": 14, \"hindi\": 72, \"english\": 75, \"maths\": 78, \"science\": 80, \"computer\": 82, \"total\": 387},\n",
    "    {\"stdid\": 10, \"stdname\": \"Judy\", \"age\": 15, \"hindi\": 89, \"english\": 92, \"maths\": 91, \"science\": 90, \"computer\": 94, \"total\": 456}\n",
    "\n",
    "\n",
    "]\n",
    "\n",
    "# Convert the list of dictionaries to a list of lists for tabulate\n",
    "table = []\n",
    "\n",
    "#table data\n",
    "for record in student_records:\n",
    "    row = [record[\"stdid\"], record[\"stdname\"], record[\"age\"], record[\"hindi\"], record[\"english\"], record[\"maths\"], record[\"science\"], record[\"computer\"], record[\"total\"]]\n",
    "    table.append(row)\n",
    "\n",
    "# Defining coloumn names\n",
    "columns = [\"stdid\", \"stdname\", \"age\", \"hindi\", \"english\", \"maths\", \"science\", \"computer\", \"total\"]\n",
    "\n",
    "# Displaying table \n",
    "print(tabulate(table, headers=columns, tablefmt=\"grid\"))\n",
    "\n",
    "\n",
    "\n",
    "columns1 = [\"stdid\", \"stdname\", \"age\", \"english\", ]\n",
    "#sudent with marks <50 in English\n",
    "print(\"\\nstudents with English marks > 50 : \")\n",
    "english_record= [student for student in student_records if student['english'] > 50]\n",
    "\n",
    "table = []\n",
    "for student in english_record:\n",
    "    table.append([student['stdid'], student['stdname'], student['age'], student['english']])\n",
    "\n",
    "print(tabulate(table, headers=columns1, tablefmt=\"grid\"))\n",
    "\n",
    "\n",
    "\n",
    "print('\\n')\n",
    "\n",
    "\n",
    "\n",
    "math_record = sorted(student_records, key=lambda x: x[\"maths\"], reverse=True)[:4]\n",
    "\n",
    "# Get the top 4 students\n",
    "\n",
    "\n",
    "# Extract the name and age\n",
    "math_record = [(student[\"stdname\"], student[\"age\"]) for student in math_record]\n",
    "\n",
    "# Display using tabulate\n",
    "print(tabulate(math_record , headers=['Student Name', 'Age'], tablefmt=\"Grid\"))\n",
    "\n",
    "\n",
    "\n"
   ]
  },
  {
   "cell_type": "code",
   "execution_count": null,
   "id": "01663fe9-9ff6-4f6a-8319-517d7c7a655f",
   "metadata": {},
   "outputs": [],
   "source": []
  },
  {
   "cell_type": "code",
   "execution_count": null,
   "id": "05160f4d-4835-4ef4-9b95-b8311c05afee",
   "metadata": {},
   "outputs": [],
   "source": []
  },
  {
   "cell_type": "markdown",
   "id": "6beeb855-7878-4cc3-a718-09367531145f",
   "metadata": {},
   "source": [
    "### pop() in dictionary"
   ]
  },
  {
   "cell_type": "code",
   "execution_count": 9,
   "id": "d493c97e-c4b9-4183-be9a-732933594356",
   "metadata": {},
   "outputs": [
    {
     "data": {
      "text/plain": [
       "'dhruv'"
      ]
     },
     "execution_count": 9,
     "metadata": {},
     "output_type": "execute_result"
    }
   ],
   "source": [
    "dict={'stdid': 11 , 'name': \"dhruv\"}\n",
    "dict.pop('name')"
   ]
  },
  {
   "cell_type": "code",
   "execution_count": 10,
   "id": "f5535a95-029c-42dc-a09f-6bef5d914da6",
   "metadata": {},
   "outputs": [
    {
     "data": {
      "text/plain": [
       "'stdid'"
      ]
     },
     "execution_count": 10,
     "metadata": {},
     "output_type": "execute_result"
    }
   ],
   "source": [
    "dict.pop('name', 'stdid')"
   ]
  },
  {
   "cell_type": "code",
   "execution_count": 11,
   "id": "bdc2807f-5fea-4d15-b5e9-128d5d779744",
   "metadata": {},
   "outputs": [
    {
     "name": "stdout",
     "output_type": "stream",
     "text": [
      "{'stdid': 11}\n"
     ]
    }
   ],
   "source": [
    "print(dict)"
   ]
  },
  {
   "cell_type": "code",
   "execution_count": 13,
   "id": "783690fd-da6d-4d39-af12-6f37b011aed6",
   "metadata": {},
   "outputs": [
    {
     "name": "stdout",
     "output_type": "stream",
     "text": [
      "{'stdid': 11, 'name': 'dhruv'}\n"
     ]
    }
   ],
   "source": [
    "dict={'stdid': 11 , 'name': 'dhruv'}\n",
    "print(dict)"
   ]
  },
  {
   "cell_type": "code",
   "execution_count": null,
   "id": "7019405a-633f-4733-9dd8-d624ab1f7ae6",
   "metadata": {},
   "outputs": [],
   "source": []
  },
  {
   "cell_type": "markdown",
   "id": "bab802fd-80de-48a3-a7ef-f2a9f24762dd",
   "metadata": {},
   "source": [
    "### popitem() in dictionary"
   ]
  },
  {
   "cell_type": "code",
   "execution_count": 14,
   "id": "aba2285a-cf83-43b4-bee7-2d96726d4585",
   "metadata": {},
   "outputs": [
    {
     "name": "stdout",
     "output_type": "stream",
     "text": [
      "{'stdid': 11}\n"
     ]
    }
   ],
   "source": [
    "dict.popitem(\n",
    ")\n",
    "print(dict)"
   ]
  },
  {
   "cell_type": "code",
   "execution_count": 15,
   "id": "8deadc6d-140e-46fa-bc8c-6ca6c6b795fb",
   "metadata": {},
   "outputs": [],
   "source": [
    "dict={'stdid': 11 , 'name': 'dhruv', 'course': 'Btech'}"
   ]
  },
  {
   "cell_type": "code",
   "execution_count": null,
   "id": "10dd2bef-a7ed-4067-810c-97242d2b4b8e",
   "metadata": {},
   "outputs": [],
   "source": []
  },
  {
   "cell_type": "markdown",
   "id": "c1718089-c47d-4db0-ab58-884e1fbdf7bf",
   "metadata": {},
   "source": [
    "### returning elements of dictionary "
   ]
  },
  {
   "cell_type": "code",
   "execution_count": 92,
   "id": "665cf05d-f6de-41ba-bdba-968018c064da",
   "metadata": {},
   "outputs": [
    {
     "name": "stdout",
     "output_type": "stream",
     "text": [
      "Btech\n"
     ]
    }
   ],
   "source": [
    "keys=dict.keys()\n",
    "print(elements)\n",
    "keys=dict.keys()"
   ]
  },
  {
   "cell_type": "code",
   "execution_count": 20,
   "id": "14ded9b9-c9bb-4666-b49c-44c5fad2c19e",
   "metadata": {},
   "outputs": [
    {
     "name": "stdout",
     "output_type": "stream",
     "text": [
      "dict_values([11, 'dhruv', 'Btech'])\n",
      "\n",
      "\n",
      "11 dhruv Btech\n"
     ]
    }
   ],
   "source": [
    "values=dict.values()\n",
    "print(values)\n",
    "print('\\n')\n",
    "print(* values)"
   ]
  },
  {
   "cell_type": "code",
   "execution_count": null,
   "id": "ffdc37b0-65c7-438d-8aba-2b85a8f02f60",
   "metadata": {},
   "outputs": [],
   "source": []
  },
  {
   "cell_type": "markdown",
   "id": "f1120035-eebe-4c53-adda-650502baaa41",
   "metadata": {},
   "source": [
    "### item() "
   ]
  },
  {
   "cell_type": "code",
   "execution_count": 23,
   "id": "6acf8906-bcca-4c37-9dc3-854b3354a437",
   "metadata": {},
   "outputs": [],
   "source": [
    "#return a list of items of each item will be in the form of tuple with two numbers ie key , value "
   ]
  },
  {
   "cell_type": "code",
   "execution_count": 93,
   "id": "f99094e5-8c66-4bbb-bfa3-722ab59dc872",
   "metadata": {},
   "outputs": [],
   "source": [
    "list=dict.items()"
   ]
  },
  {
   "cell_type": "code",
   "execution_count": 94,
   "id": "9f4b44b1-32b0-483e-9b04-0f3083a46524",
   "metadata": {},
   "outputs": [
    {
     "name": "stdout",
     "output_type": "stream",
     "text": [
      "dict_items([('stdid', 11), ('name', 'dhruv'), ('course', 'Btech')])\n"
     ]
    },
    {
     "data": {
      "text/plain": [
       "dict_items"
      ]
     },
     "execution_count": 94,
     "metadata": {},
     "output_type": "execute_result"
    }
   ],
   "source": [
    "print(list)\n",
    "type(list)"
   ]
  },
  {
   "cell_type": "code",
   "execution_count": 30,
   "id": "5e669c5b-caa3-40d3-a868-011de3bc9380",
   "metadata": {},
   "outputs": [
    {
     "name": "stdout",
     "output_type": "stream",
     "text": [
      "11,dhruv,Btech,"
     ]
    }
   ],
   "source": [
    "for elements in dict.values():\n",
    "    print(elements , end=\",\")"
   ]
  },
  {
   "cell_type": "code",
   "execution_count": 96,
   "id": "a0de7e2e-1709-41c9-a4dc-6140386cd8ea",
   "metadata": {},
   "outputs": [
    {
     "name": "stdout",
     "output_type": "stream",
     "text": [
      "dhruv\n"
     ]
    },
    {
     "data": {
      "text/plain": [
       "str"
      ]
     },
     "execution_count": 96,
     "metadata": {},
     "output_type": "execute_result"
    }
   ],
   "source": [
    "x= dict.get('name')\n",
    "print(x)\n",
    "type(x)"
   ]
  },
  {
   "cell_type": "code",
   "execution_count": 33,
   "id": "a1e1f4f7-2d60-413f-9afe-e9b88e7e1012",
   "metadata": {},
   "outputs": [
    {
     "name": "stdout",
     "output_type": "stream",
     "text": [
      "None\n"
     ]
    }
   ],
   "source": [
    "x=dict.get('english')\n",
    "print(x)"
   ]
  },
  {
   "cell_type": "code",
   "execution_count": 35,
   "id": "d9f218bb-4273-4994-928d-cdc5b74018d1",
   "metadata": {},
   "outputs": [
    {
     "name": "stdout",
     "output_type": "stream",
     "text": [
      "no element exist \n"
     ]
    }
   ],
   "source": [
    "x=dict.get('english', 'no element exist ')\n",
    "print(x)\n",
    "#the error msg or any msg can be passed in get method as a second argument of function get()"
   ]
  },
  {
   "cell_type": "code",
   "execution_count": 36,
   "id": "b5c49000-6b23-45d5-aa2a-e1954084e702",
   "metadata": {},
   "outputs": [],
   "source": [
    "# if you have to insert or update more than 1 element is .update()"
   ]
  },
  {
   "cell_type": "code",
   "execution_count": 41,
   "id": "44aba505-febd-4718-aa1c-078303e7d650",
   "metadata": {},
   "outputs": [
    {
     "name": "stdout",
     "output_type": "stream",
     "text": [
      "before adarsh advice -->\n",
      "{'stdid': 11, 'name': 'dhruv', 'course': 'Btech'}\n",
      "\n",
      "after adarsh advice--->\n",
      "{'stdid': 13, 'name': 'dhruv', 'course': 'Modeling'}\n"
     ]
    }
   ],
   "source": [
    "dict1={'stdid': 11 , 'name': 'dhruv', 'course': 'Btech'}\n",
    "dict2={'stdid': 13 , 'name': 'dhruv', 'course': 'Modeling'}\n",
    "\n",
    "print(\"before adarsh advice -->\")\n",
    "print(dict1)\n",
    "print(\"\\nafter adarsh advice--->\")\n",
    "dict1.update(dict2)\n",
    "\n",
    "print(dict1)"
   ]
  },
  {
   "cell_type": "code",
   "execution_count": 49,
   "id": "a0d7ebaf-2ac0-43a7-a4d2-dd6c2b185e50",
   "metadata": {},
   "outputs": [
    {
     "name": "stdout",
     "output_type": "stream",
     "text": [
      "the money element in the course  Btech :  None\n",
      "the money element in the course  Modeling :  unlimited\n"
     ]
    }
   ],
   "source": [
    "dict1={'stdid': 11 , 'name': 'dhruv', 'course': 'Btech'}\n",
    "dict2={'stdid': 13 , 'name': 'dhruv', 'course': 'Modeling' , \"money\": \"unlimited\"}\n",
    "print(\"the money element in the course \" , dict1.get(\"course\") , \": \" ,dict1.get('mnoney'))\n",
    "\n",
    "dict1.update(dict2)\n",
    "print(\"the money element in the course \",dict1.get(\"course\") , \": \" , dict1.get(\"money\"))"
   ]
  },
  {
   "cell_type": "code",
   "execution_count": null,
   "id": "ddd8ed76-6e36-4ec1-82fa-71bc3f14c04f",
   "metadata": {},
   "outputs": [],
   "source": []
  },
  {
   "cell_type": "code",
   "execution_count": null,
   "id": "b8e50f6a-ed6e-48d7-811e-0992015d9c5a",
   "metadata": {},
   "outputs": [],
   "source": []
  },
  {
   "cell_type": "markdown",
   "id": "22397000-42b6-4e27-b72c-be2cc23d7214",
   "metadata": {},
   "source": [
    "### fromkeys()"
   ]
  },
  {
   "cell_type": "code",
   "execution_count": 95,
   "id": "9dbd3ba3-094d-4acc-a104-3c389b25c3bb",
   "metadata": {},
   "outputs": [
    {
     "name": "stdout",
     "output_type": "stream",
     "text": [
      "{'stdid': dict_values([13, 'dhruv', 'Modeling', 'unlimited']), 'name': dict_values([13, 'dhruv', 'Modeling', 'unlimited']), 'course': dict_values([13, 'dhruv', 'Modeling', 'unlimited']), 'money': dict_values([13, 'dhruv', 'Modeling', 'unlimited'])}\n"
     ]
    },
    {
     "data": {
      "text/plain": [
       "dict"
      ]
     },
     "execution_count": 95,
     "metadata": {},
     "output_type": "execute_result"
    }
   ],
   "source": [
    "x=dict1.fromkeys(dict1.keys(), dict1.values())\n",
    "print(x)\n",
    "type(x)"
   ]
  },
  {
   "cell_type": "code",
   "execution_count": 59,
   "id": "1be607e6-25ef-4f57-89c5-9f2c71fce28d",
   "metadata": {},
   "outputs": [
    {
     "name": "stdout",
     "output_type": "stream",
     "text": [
      "{'stdid': 14, 'name': 14, 'course': 14, 'money': 14}\n"
     ]
    }
   ],
   "source": [
    "x=dict1.fromkeys(dict1.keys(), 14)\n",
    "print(x)"
   ]
  },
  {
   "cell_type": "code",
   "execution_count": null,
   "id": "efdcdc01-becc-476c-9617-f039918222a8",
   "metadata": {},
   "outputs": [],
   "source": []
  },
  {
   "cell_type": "markdown",
   "id": "8ce99368-8780-446c-b794-b9d9da6ea3fb",
   "metadata": {},
   "source": [
    "### to find number of elememts in dictionary "
   ]
  },
  {
   "cell_type": "code",
   "execution_count": 62,
   "id": "7fcf8f7c-6ccb-4722-91e9-2bd4332e4a32",
   "metadata": {},
   "outputs": [
    {
     "name": "stdout",
     "output_type": "stream",
     "text": [
      "{'stdid': 13, 'name': 'dhruv', 'course': 'Modeling', 'money': 'unlimited'}\n",
      "the length of the dictionary :  4\n"
     ]
    }
   ],
   "source": [
    "print(dict1)\n",
    "print(\"the length of the dictionary : \" , len(dict1))"
   ]
  },
  {
   "cell_type": "code",
   "execution_count": null,
   "id": "6cbb53ef-d68f-4a18-9542-5b42c30d1754",
   "metadata": {},
   "outputs": [],
   "source": []
  },
  {
   "cell_type": "code",
   "execution_count": null,
   "id": "bd4af8fc-e7a8-4980-b174-30a5b7197115",
   "metadata": {},
   "outputs": [],
   "source": []
  },
  {
   "cell_type": "markdown",
   "id": "b4e873c7-a68d-4afd-8423-16d6abac3ed1",
   "metadata": {},
   "source": [
    "## SET"
   ]
  },
  {
   "cell_type": "code",
   "execution_count": 1,
   "id": "b1c3f281-b3da-4195-97a7-74c1ad2691ec",
   "metadata": {},
   "outputs": [
    {
     "name": "stdout",
     "output_type": "stream",
     "text": [
      "{'jan', 'feb', 'mar'}\n",
      "{'aug', 'jan', 'feb', 'mar'}\n",
      "{'sep', 'jul', 'feb', 'mar', 'aug', 'jan'}\n"
     ]
    }
   ],
   "source": [
    "months ={\"jan\", \"feb\", \"mar\"}\n",
    "print(months)\n",
    "months.add(\"aug\")\n",
    "print(months)\n",
    "months.update([\"jul\", \"aug\",\"sep\"])\n",
    "print(months)"
   ]
  },
  {
   "cell_type": "code",
   "execution_count": null,
   "id": "4776a172-3a07-4cc9-a19c-082331cdd94a",
   "metadata": {},
   "outputs": [],
   "source": []
  },
  {
   "cell_type": "markdown",
   "id": "a2402275-c8b6-44b4-baac-fd862bc22486",
   "metadata": {},
   "source": [
    "### discard and remove method "
   ]
  },
  {
   "cell_type": "code",
   "execution_count": 2,
   "id": "ec5d09d5-cfcc-48c2-b716-085be68240d9",
   "metadata": {},
   "outputs": [],
   "source": [
    "#if the key has to be deete from the set using discard() doesnt exist in the set , python will not give the error "
   ]
  },
  {
   "cell_type": "markdown",
   "id": "9ad150ea-f144-41c6-b426-46188f23b3c4",
   "metadata": {},
   "source": [
    "### pop() "
   ]
  },
  {
   "cell_type": "code",
   "execution_count": 3,
   "id": "ee13346d-7e93-4d6f-a236-898723a153b2",
   "metadata": {},
   "outputs": [],
   "source": [
    "#remove the last element from the set , but its unordered"
   ]
  },
  {
   "cell_type": "markdown",
   "id": "8dc73cec-862c-4704-a197-9ec42252e65f",
   "metadata": {},
   "source": [
    "### clear() , copy()"
   ]
  },
  {
   "cell_type": "code",
   "execution_count": 7,
   "id": "eee5facc-acf0-42e5-b5e6-8557b6cc3684",
   "metadata": {},
   "outputs": [
    {
     "name": "stdout",
     "output_type": "stream",
     "text": [
      "set()\n"
     ]
    }
   ],
   "source": [
    "print(months )"
   ]
  },
  {
   "cell_type": "code",
   "execution_count": 5,
   "id": "78262aa0-afe2-4a2c-aaa6-57719a6b9d64",
   "metadata": {},
   "outputs": [],
   "source": [
    "months.clear()"
   ]
  },
  {
   "cell_type": "code",
   "execution_count": 6,
   "id": "f668dff5-e153-471f-9103-b47695d916c3",
   "metadata": {},
   "outputs": [
    {
     "name": "stdout",
     "output_type": "stream",
     "text": [
      "set()\n"
     ]
    }
   ],
   "source": [
    "print(months)"
   ]
  },
  {
   "cell_type": "code",
   "execution_count": 9,
   "id": "0f22857e-4267-465f-be88-e1c93ecdeb2a",
   "metadata": {},
   "outputs": [
    {
     "data": {
      "text/plain": [
       "{'aug', 'feb', 'jan', 'jul', 'mar', 'sep'}"
      ]
     },
     "execution_count": 9,
     "metadata": {},
     "output_type": "execute_result"
    }
   ],
   "source": [
    "months={'sep', 'jul', 'feb', 'mar', 'aug', 'jan'}\n",
    "months"
   ]
  },
  {
   "cell_type": "markdown",
   "id": "7ee6d3ad-a2fe-45ef-94bf-3e9fb110e8fb",
   "metadata": {},
   "source": [
    "### union "
   ]
  },
  {
   "cell_type": "code",
   "execution_count": 10,
   "id": "5ea8a958-77f4-42e4-bb31-03ca710cf2b4",
   "metadata": {},
   "outputs": [],
   "source": [
    "#combining multiple sets together "
   ]
  },
  {
   "cell_type": "code",
   "execution_count": null,
   "id": "995bf45a-fbbd-4f98-b7c6-c979acf0a5b0",
   "metadata": {},
   "outputs": [],
   "source": []
  },
  {
   "cell_type": "code",
   "execution_count": null,
   "id": "54b6eecf-361d-48a9-a5f9-75702b919f67",
   "metadata": {},
   "outputs": [],
   "source": []
  },
  {
   "cell_type": "markdown",
   "id": "5038ab37-9642-4203-914b-9c485ef90ab2",
   "metadata": {},
   "source": [
    "## STRING"
   ]
  },
  {
   "cell_type": "markdown",
   "id": "e96fefd6-86af-4aaa-9ad4-92a68e674f00",
   "metadata": {},
   "source": []
  },
  {
   "cell_type": "code",
   "execution_count": 16,
   "id": "7ebc8ac2-99b0-4f19-bc2b-917e4a02b40b",
   "metadata": {},
   "outputs": [
    {
     "name": "stdout",
     "output_type": "stream",
     "text": [
      "Dhruv\n",
      "Dhruv Walia\n"
     ]
    }
   ],
   "source": [
    "name=\"Dhruv\"\n",
    "print(name)\n",
    "name=name+\" Walia\"\n",
    "print(name)\n"
   ]
  },
  {
   "cell_type": "code",
   "execution_count": 18,
   "id": "1646a573-bc73-47f4-be14-2bfacb91c495",
   "metadata": {},
   "outputs": [
    {
     "ename": "TypeError",
     "evalue": "'str' object does not support item assignment",
     "output_type": "error",
     "traceback": [
      "\u001b[1;31m---------------------------------------------------------------------------\u001b[0m",
      "\u001b[1;31mTypeError\u001b[0m                                 Traceback (most recent call last)",
      "Cell \u001b[1;32mIn[18], line 1\u001b[0m\n\u001b[1;32m----> 1\u001b[0m name[\u001b[38;5;241m7\u001b[39m]\u001b[38;5;241m=\u001b[39m\u001b[38;5;124m'\u001b[39m\u001b[38;5;124mx\u001b[39m\u001b[38;5;124m'\u001b[39m\n",
      "\u001b[1;31mTypeError\u001b[0m: 'str' object does not support item assignment"
     ]
    }
   ],
   "source": [
    "name[7]='x'\n",
    "#we cant assign directly to same variable "
   ]
  },
  {
   "cell_type": "markdown",
   "id": "8e4f3896-3ee7-417a-b750-d58c172b0cc7",
   "metadata": {},
   "source": [
    "### slicing"
   ]
  },
  {
   "cell_type": "code",
   "execution_count": 21,
   "id": "7aa06a3f-7678-4705-9f3d-212bcd4f1882",
   "metadata": {},
   "outputs": [
    {
     "name": "stdout",
     "output_type": "stream",
     "text": [
      "Dhruv Walia\n",
      "hu a\n"
     ]
    }
   ],
   "source": [
    "print(name)\n",
    "print(name[1:8:2])"
   ]
  },
  {
   "cell_type": "code",
   "execution_count": 25,
   "id": "6f4786d9-f06b-4605-99a6-7218cac18dfe",
   "metadata": {},
   "outputs": [
    {
     "name": "stdout",
     "output_type": "stream",
     "text": [
      "i am a python developer \n",
      "string1[2:4] ---> am\n",
      "string1[5:9] ---> a py\n",
      "string1[:11] ---> i am a pyth\n",
      "string1[2:] ---> am a python developer \n",
      "string1[:] ---> i am a python developer \n",
      "string1[0:12:3] ---> im t\n",
      "string1[::] ---> i am a python developer \n",
      "string1[::-1] --->  repoleved nohtyp a ma i\n"
     ]
    }
   ],
   "source": [
    "string1=\"i am a python developer \"\n",
    "print(string1)\n",
    "print(\"string1[2:4] --->\",string1[2:4])\n",
    "print(\"string1[5:9] --->\",string1[5:9])\n",
    "print(\"string1[:11] --->\",string1[:11])\n",
    "print(\"string1[2:] --->\",string1[2:])\n",
    "print(\"string1[:] --->\",string1[:])\n",
    "print(\"string1[0:12:3] --->\",string1[0:12:3])\n",
    "print(\"string1[::] --->\",string1[::])\n",
    "print(\"string1[::-1] --->\",string1[::-1])"
   ]
  },
  {
   "cell_type": "code",
   "execution_count": null,
   "id": "a6e487ec-0cc9-4388-89b3-8cf089f7596b",
   "metadata": {},
   "outputs": [],
   "source": []
  },
  {
   "cell_type": "code",
   "execution_count": null,
   "id": "78c0856b-042a-489a-805c-1a4ac3d9cbd5",
   "metadata": {},
   "outputs": [],
   "source": []
  },
  {
   "cell_type": "markdown",
   "id": "8bb5e3a9-f7aa-4ace-95b3-360f6031f2d2",
   "metadata": {},
   "source": [
    "### deleting  del()"
   ]
  },
  {
   "cell_type": "code",
   "execution_count": 26,
   "id": "0864d9d8-5dfc-4d4d-a76c-9d87a026077f",
   "metadata": {},
   "outputs": [
    {
     "ename": "SyntaxError",
     "evalue": "invalid syntax (3056878185.py, line 2)",
     "output_type": "error",
     "traceback": [
      "\u001b[1;36m  Cell \u001b[1;32mIn[26], line 2\u001b[1;36m\u001b[0m\n\u001b[1;33m    string2.del([1])\u001b[0m\n\u001b[1;37m            ^\u001b[0m\n\u001b[1;31mSyntaxError\u001b[0m\u001b[1;31m:\u001b[0m invalid syntax\n"
     ]
    }
   ],
   "source": [
    "string2=\"i am a python\"\n",
    "del([1])"
   ]
  },
  {
   "cell_type": "code",
   "execution_count": 27,
   "id": "5c2c6896-a800-4c96-9327-7bf54a0c530a",
   "metadata": {},
   "outputs": [
    {
     "ename": "SyntaxError",
     "evalue": "invalid syntax (2488288678.py, line 1)",
     "output_type": "error",
     "traceback": [
      "\u001b[1;36m  Cell \u001b[1;32mIn[27], line 1\u001b[1;36m\u001b[0m\n\u001b[1;33m    string2.del()\u001b[0m\n\u001b[1;37m            ^\u001b[0m\n\u001b[1;31mSyntaxError\u001b[0m\u001b[1;31m:\u001b[0m invalid syntax\n"
     ]
    }
   ],
   "source": [
    "string2.del()"
   ]
  },
  {
   "cell_type": "code",
   "execution_count": null,
   "id": "fbe2c7e5-11c3-4493-9a4c-1677fc7c0e92",
   "metadata": {},
   "outputs": [],
   "source": []
  },
  {
   "cell_type": "code",
   "execution_count": null,
   "id": "f2b93dce-5468-4194-9004-79a073c2065f",
   "metadata": {},
   "outputs": [],
   "source": []
  },
  {
   "cell_type": "markdown",
   "id": "339e9522-d5c8-43ab-a1a1-743f2a2145c2",
   "metadata": {},
   "source": [
    "### is operator  "
   ]
  },
  {
   "cell_type": "code",
   "execution_count": 28,
   "id": "8769b31c-2354-4ab5-bc9d-79a2400f9d06",
   "metadata": {},
   "outputs": [
    {
     "name": "stdout",
     "output_type": "stream",
     "text": [
      "True\n",
      "False\n"
     ]
    }
   ],
   "source": [
    "x=[\"apple\", \"banana\"]\n",
    "y=[\"apple\", \"banana\"]\n",
    "z=x\n",
    "print(x is z )\n",
    "print(x is y )"
   ]
  },
  {
   "cell_type": "code",
   "execution_count": null,
   "id": "784357a7-2a84-4a86-92a0-cb088ba1b128",
   "metadata": {},
   "outputs": [],
   "source": []
  },
  {
   "cell_type": "markdown",
   "id": "b47b294b-acf5-45b9-93d6-049c76cb36e5",
   "metadata": {},
   "source": [
    "### capitalize()"
   ]
  },
  {
   "cell_type": "code",
   "execution_count": 39,
   "id": "2eb3b0b2-0e2e-45e1-89f6-1fae84f44fe5",
   "metadata": {},
   "outputs": [
    {
     "name": "stdout",
     "output_type": "stream",
     "text": [
      "dhruv\n",
      "2718161098416\n",
      "Dhruv\n",
      "2718204381360\n"
     ]
    }
   ],
   "source": [
    "str=\"dhruv\"\n",
    "print(str)\n",
    "print(id(str))\n",
    "str=str.capitalize()\n",
    "print(str)\n",
    "print(id(str))"
   ]
  },
  {
   "cell_type": "markdown",
   "id": "f6237a5e-7829-4eb9-931f-99b171e876ce",
   "metadata": {},
   "source": [
    "### Upper()"
   ]
  },
  {
   "cell_type": "code",
   "execution_count": 32,
   "id": "a86761ae-4b4a-4e1b-9826-2087cff8004c",
   "metadata": {},
   "outputs": [
    {
     "data": {
      "text/plain": [
       "'DHRUV '"
      ]
     },
     "execution_count": 32,
     "metadata": {},
     "output_type": "execute_result"
    }
   ],
   "source": [
    "str.upper()"
   ]
  },
  {
   "cell_type": "markdown",
   "id": "f430ee61-7b2e-46a3-a156-f7393fe70464",
   "metadata": {},
   "source": [
    "### Lower()"
   ]
  },
  {
   "cell_type": "code",
   "execution_count": 33,
   "id": "2d45e8ef-359f-4dc1-a65d-5f2c7d6a0cfc",
   "metadata": {},
   "outputs": [
    {
     "data": {
      "text/plain": [
       "'dhruv '"
      ]
     },
     "execution_count": 33,
     "metadata": {},
     "output_type": "execute_result"
    }
   ],
   "source": [
    "str.lower()"
   ]
  },
  {
   "cell_type": "code",
   "execution_count": null,
   "id": "4d3d2dca-3bd0-484b-8283-8d52c5543ac7",
   "metadata": {},
   "outputs": [],
   "source": []
  },
  {
   "cell_type": "markdown",
   "id": "2fa90b5b-6068-4521-9f53-96dbc03cba5b",
   "metadata": {},
   "source": [
    "### center()"
   ]
  },
  {
   "cell_type": "code",
   "execution_count": null,
   "id": "bc52fb55-0c03-4a2b-9335-7e6faa79b2e0",
   "metadata": {},
   "outputs": [],
   "source": [
    "#it by defalt add space and put the object in the center of the range\n",
    "# center() method alligns string to the center by filling padding left and right of the string . this method takes 2 parameters , first is width and second is a fillcahr which is optional\n",
    ".........................................."
   ]
  },
  {
   "cell_type": "code",
   "execution_count": 40,
   "id": "e75d40d5-b5a8-41fe-82da-4749f6d378ac",
   "metadata": {},
   "outputs": [
    {
     "name": "stdout",
     "output_type": "stream",
     "text": [
      "Dhruv\n",
      "after adding space \n",
      "     Dhruv     \n"
     ]
    }
   ],
   "source": [
    "str_center =str.center(15)\n",
    "print(str)\n",
    "print(\"after adding space \")\n",
    "print(str_center)"
   ]
  },
  {
   "cell_type": "code",
   "execution_count": 41,
   "id": "4224549c-2099-40c6-a4a5-d29f5948eddc",
   "metadata": {},
   "outputs": [
    {
     "name": "stdout",
     "output_type": "stream",
     "text": [
      "*****Dhruv*****\n"
     ]
    }
   ],
   "source": [
    "str_center=str.center(15,'*')\n",
    "print(str_center)"
   ]
  },
  {
   "cell_type": "code",
   "execution_count": null,
   "id": "3dd7d679-ec12-4504-882a-9e5a8be26a8a",
   "metadata": {},
   "outputs": [],
   "source": []
  },
  {
   "cell_type": "markdown",
   "id": "7cfb3dc4-fc1c-46d0-9bb0-29cc6556577b",
   "metadata": {},
   "source": [
    "### count()\n"
   ]
  },
  {
   "cell_type": "code",
   "execution_count": 48,
   "id": "fd65a088-a764-494d-ba65-54bee39fde8c",
   "metadata": {},
   "outputs": [
    {
     "name": "stdout",
     "output_type": "stream",
     "text": [
      "occurence :  9\n"
     ]
    }
   ],
   "source": [
    "str=\"hi i am dhruv walia\"\n",
    "str1=\"aa ab ac aaaa abbccc dddd \"\n",
    "count=str1.count('a', 0,len(str1))\n",
    "print(\"occurence : \", count) "
   ]
  },
  {
   "cell_type": "code",
   "execution_count": null,
   "id": "2b824110-3dc8-4129-92f0-ce41ac5bcbd5",
   "metadata": {},
   "outputs": [],
   "source": []
  },
  {
   "cell_type": "markdown",
   "id": "05473d56-6b10-4878-b1e5-aac807084276",
   "metadata": {},
   "source": [
    "### endswith()"
   ]
  },
  {
   "cell_type": "code",
   "execution_count": 53,
   "id": "47f07e3a-7216-41d8-a876-a20bec07b148",
   "metadata": {},
   "outputs": [
    {
     "name": "stdout",
     "output_type": "stream",
     "text": [
      "True ,  False  , False\n"
     ]
    }
   ],
   "source": [
    "str=\"second a index start and third\"\n",
    "isends = str.endswith(\"d\")\n",
    "isends2=str.endswith(\".\")\n",
    "isends3=str.endswith(\"rd\",0,13)\n",
    "print(isends,\", \" , isends2, \" ,\" , isends3)"
   ]
  },
  {
   "cell_type": "code",
   "execution_count": null,
   "id": "70dcaea5-2dd3-4e3f-a9c7-5c80bdedfc01",
   "metadata": {},
   "outputs": [],
   "source": []
  },
  {
   "cell_type": "markdown",
   "id": "e79c212e-8bbe-4a0e-a247-c8a44fb69f06",
   "metadata": {},
   "source": [
    "### Find()"
   ]
  },
  {
   "cell_type": "code",
   "execution_count": 58,
   "id": "185696b0-6e26-4a3d-98d0-c1c26225b9bc",
   "metadata": {},
   "outputs": [
    {
     "name": "stdout",
     "output_type": "stream",
     "text": [
      "11\n"
     ]
    }
   ],
   "source": [
    "str=\"hello i am dhruv\"\n",
    "str=str.find(\"dhruv\")\n",
    "print(str)\n",
    "\n"
   ]
  },
  {
   "cell_type": "code",
   "execution_count": 80,
   "id": "71001531-aadf-47c4-9f55-c9e6b3ea2638",
   "metadata": {},
   "outputs": [
    {
     "name": "stdout",
     "output_type": "stream",
     "text": [
      "-1\n"
     ]
    }
   ],
   "source": [
    "str3=str2.find(\"dhr\",0,len(str2))\n",
    "print(str3)"
   ]
  },
  {
   "cell_type": "code",
   "execution_count": null,
   "id": "eb8c942b-16ea-4320-9aaf-ab6932e9c448",
   "metadata": {},
   "outputs": [],
   "source": []
  },
  {
   "cell_type": "markdown",
   "id": "02ef650f-2144-49cf-b421-4913d1380e9e",
   "metadata": {},
   "source": [
    "### index()"
   ]
  },
  {
   "cell_type": "code",
   "execution_count": 60,
   "id": "65fa469d-1281-4d7a-90bc-46585d3a5846",
   "metadata": {},
   "outputs": [],
   "source": [
    "#it is same as find but it returns error on failue , returns first index occured "
   ]
  },
  {
   "cell_type": "code",
   "execution_count": 66,
   "id": "89c672eb-0260-4f03-99f2-3724561d287b",
   "metadata": {},
   "outputs": [
    {
     "name": "stdout",
     "output_type": "stream",
     "text": [
      "11\n"
     ]
    }
   ],
   "source": [
    "str2=\"hello i am dhruv \"\n",
    "str3=str2.index(\"dh\", 0 , len(str2))\n",
    "print(str3)"
   ]
  },
  {
   "cell_type": "code",
   "execution_count": null,
   "id": "d293db7f-65a2-4c8b-8806-25cddec41d84",
   "metadata": {},
   "outputs": [],
   "source": []
  },
  {
   "cell_type": "markdown",
   "id": "b9274439-d88d-448b-b4aa-3bc3b0d6c239",
   "metadata": {},
   "source": [
    "### isalnum()"
   ]
  },
  {
   "cell_type": "code",
   "execution_count": 72,
   "id": "0a9ea855-b817-472a-9b91-7603dc588b32",
   "metadata": {},
   "outputs": [
    {
     "name": "stdout",
     "output_type": "stream",
     "text": [
      "False\n",
      "False\n",
      "False\n",
      "True\n"
     ]
    }
   ],
   "source": [
    "str=\"hi there <3\"\n",
    "str2=\"hii i am dhruv.\"\n",
    "str3=\"are you there 007 ? \"\n",
    "str4=\"hellothere\"\n",
    "\n",
    "print(str.isalnum())\n",
    "print(str2.isalnum())\n",
    "print(str3.isalnum())\n",
    "print(str4.isalnum())\n",
    "\n",
    "#it provide False even if there exist space between "
   ]
  },
  {
   "cell_type": "code",
   "execution_count": null,
   "id": "ad5bcbfe-a9bc-466e-9c6d-e6abba1c880b",
   "metadata": {},
   "outputs": [],
   "source": []
  },
  {
   "cell_type": "markdown",
   "id": "94c5db37-a8b5-46c2-8239-afeb25552697",
   "metadata": {},
   "source": [
    "### isnumeric()"
   ]
  },
  {
   "cell_type": "code",
   "execution_count": 73,
   "id": "50284fd1-f13e-45ad-8458-473ff99c23af",
   "metadata": {},
   "outputs": [
    {
     "name": "stdout",
     "output_type": "stream",
     "text": [
      "True\n",
      "False\n",
      "False\n"
     ]
    }
   ],
   "source": [
    "str=\"23444\"\n",
    "str2=\"2233  44555 \"\n",
    "str3=\"aa bb 22333\"\n",
    "print(str.isnumeric())\n",
    "print(str2.isnumeric())\n",
    "print(str3.isnumeric())"
   ]
  },
  {
   "cell_type": "code",
   "execution_count": null,
   "id": "48e71073-167d-43c3-aa92-1ae68203371e",
   "metadata": {},
   "outputs": [],
   "source": []
  },
  {
   "cell_type": "markdown",
   "id": "2d7d4ea2-1b86-4cb6-b459-d8697cf3a7e9",
   "metadata": {},
   "source": [
    "### islower() , isupper() "
   ]
  },
  {
   "cell_type": "code",
   "execution_count": 75,
   "id": "879aa348-8cc3-49b6-b9f2-936559292313",
   "metadata": {},
   "outputs": [
    {
     "name": "stdout",
     "output_type": "stream",
     "text": [
      "for string  hi there im python chat\n",
      "True\n",
      "False\n",
      "\n",
      "\n",
      "for string  HII there im a python chat \n",
      "False\n",
      "False\n",
      "for string  HI THERE \n",
      "False\n",
      "True\n"
     ]
    }
   ],
   "source": [
    "str1=\"hi there im python chat\"\n",
    "str2=\"HII there im a python chat \"\n",
    "print(\"for string \", str1)\n",
    "print(str1.islower())\n",
    "print(str1.isupper())\n",
    "print(\"\\n\")\n",
    "print(\"for string \", str2)\n",
    "print(str2.islower())\n",
    "print(str2.isupper())\n",
    "\n",
    "str3=\"HI THERE \"\n",
    "print(\"for string \", str3)\n",
    "print(str3.islower())\n",
    "print(str3.isupper())"
   ]
  },
  {
   "cell_type": "code",
   "execution_count": null,
   "id": "9a05a7f3-f09a-461c-8a51-effd45fb3700",
   "metadata": {},
   "outputs": [],
   "source": []
  },
  {
   "cell_type": "code",
   "execution_count": null,
   "id": "4b21c933-e1ec-4640-ad38-d1ab9d8eb235",
   "metadata": {},
   "outputs": [],
   "source": []
  },
  {
   "cell_type": "markdown",
   "id": "a7efc2bf-cec1-4079-a50c-b6e82df95fdf",
   "metadata": {},
   "source": [
    "### Strip ()\n",
    "#### lstrip() , rstrip() , strip()"
   ]
  },
  {
   "cell_type": "code",
   "execution_count": 81,
   "id": "a663ca6e-0dce-4444-8e72-cd904aec209a",
   "metadata": {},
   "outputs": [],
   "source": [
    "#strip method removes all the space or miscellaneous "
   ]
  },
  {
   "cell_type": "code",
   "execution_count": 77,
   "id": "e7e2dd47-1d89-4825-9ae1-367ef78407bc",
   "metadata": {},
   "outputs": [
    {
     "name": "stdout",
     "output_type": "stream",
     "text": [
      "hi there i am dhruv  \n",
      "   hi there i am dhruv\n",
      "hi there i am dhruv\n",
      "\n",
      "\n",
      "\n",
      "python....\n",
      "....python\n",
      "python\n"
     ]
    }
   ],
   "source": [
    "str=\"   hi there i am dhruv  \"\n",
    "print(str.lstrip())\n",
    "print(str.rstrip())\n",
    "print(str.strip())\n",
    "print(\"\\n\\n\")\n",
    "str2= \"....python....\"\n",
    "print(str2.lstrip('.'))\n",
    "print(str2.rstrip('.'))\n",
    "print(str2.strip('.'))"
   ]
  },
  {
   "cell_type": "code",
   "execution_count": null,
   "id": "1b8f6238-106c-448e-ada6-657ef9bc59ce",
   "metadata": {},
   "outputs": [],
   "source": []
  },
  {
   "cell_type": "markdown",
   "id": "749a99e5-8b11-4987-8e3a-40f272acc694",
   "metadata": {},
   "source": [
    "### replace()"
   ]
  },
  {
   "cell_type": "code",
   "execution_count": 84,
   "id": "87023197-d760-4103-b27c-5aebb30b056e",
   "metadata": {},
   "outputs": [
    {
     "name": "stdout",
     "output_type": "stream",
     "text": [
      "hii i am a java developer \n",
      "hii i am a python developer \n"
     ]
    }
   ],
   "source": [
    "str=\"hii i am a java developer \"\n",
    "print(str)\n",
    "str2=str.replace(\"java\", \"python\")\n",
    "print(str2)"
   ]
  },
  {
   "cell_type": "code",
   "execution_count": null,
   "id": "ea99609e-938e-47b6-8267-96a839676947",
   "metadata": {},
   "outputs": [],
   "source": []
  },
  {
   "cell_type": "markdown",
   "id": "1862c685-4e8b-4ad8-beef-bc580421c0c6",
   "metadata": {},
   "source": [
    "### swapcase()"
   ]
  },
  {
   "cell_type": "code",
   "execution_count": 89,
   "id": "8549638d-8a71-4b01-b5b7-851dfd34f880",
   "metadata": {},
   "outputs": [
    {
     "name": "stdout",
     "output_type": "stream",
     "text": [
      "hello there !\n",
      "after swapping case:  HELLO THERE !\n",
      "after swapping case again:  HELLO THERE !\n"
     ]
    }
   ],
   "source": [
    "str=\"hello there !\"\n",
    "print(str)\n",
    "print(\"after swapping case: \", str.swapcase())\n",
    "str2=str\n",
    "print(\"after swapping case again: \", str.swapcase())"
   ]
  },
  {
   "cell_type": "code",
   "execution_count": null,
   "id": "316e79a2-0db5-4fbc-99a1-1b553e894d09",
   "metadata": {},
   "outputs": [],
   "source": []
  },
  {
   "cell_type": "markdown",
   "id": "39771c1d-681e-4287-84ce-5fc6a5d7f0b8",
   "metadata": {},
   "source": [
    "### titlecase() "
   ]
  },
  {
   "cell_type": "code",
   "execution_count": 90,
   "id": "bae95b17-0830-458f-9c56-c1496337370f",
   "metadata": {},
   "outputs": [
    {
     "ename": "AttributeError",
     "evalue": "'str' object has no attribute 'titlecase'",
     "output_type": "error",
     "traceback": [
      "\u001b[1;31m---------------------------------------------------------------------------\u001b[0m",
      "\u001b[1;31mAttributeError\u001b[0m                            Traceback (most recent call last)",
      "Cell \u001b[1;32mIn[90], line 1\u001b[0m\n\u001b[1;32m----> 1\u001b[0m \u001b[38;5;28mprint\u001b[39m(\u001b[38;5;28mstr\u001b[39m\u001b[38;5;241m.\u001b[39mtitlecase())\n",
      "\u001b[1;31mAttributeError\u001b[0m: 'str' object has no attribute 'titlecase'"
     ]
    }
   ],
   "source": [
    "print(str.titlecase())"
   ]
  },
  {
   "cell_type": "code",
   "execution_count": null,
   "id": "9d58291b-f092-4bdd-b8ef-194a2e59e457",
   "metadata": {},
   "outputs": [],
   "source": []
  }
 ],
 "metadata": {
  "kernelspec": {
   "display_name": "Python 3 (ipykernel)",
   "language": "python",
   "name": "python3"
  },
  "language_info": {
   "codemirror_mode": {
    "name": "ipython",
    "version": 3
   },
   "file_extension": ".py",
   "mimetype": "text/x-python",
   "name": "python",
   "nbconvert_exporter": "python",
   "pygments_lexer": "ipython3",
   "version": "3.11.7"
  }
 },
 "nbformat": 4,
 "nbformat_minor": 5
}
