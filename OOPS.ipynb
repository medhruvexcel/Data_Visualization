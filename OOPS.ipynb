{
 "cells": [
  {
   "cell_type": "markdown",
   "id": "e5745273-08b1-4b97-bdfb-626fc7781bd1",
   "metadata": {},
   "source": [
    "# OOPS"
   ]
  },
  {
   "cell_type": "code",
   "execution_count": 4,
   "id": "67de2d24-e60c-47b1-bce9-463e3fdb0971",
   "metadata": {},
   "outputs": [],
   "source": [
    "#basic code "
   ]
  },
  {
   "cell_type": "code",
   "execution_count": 3,
   "id": "961ee401-0896-4747-89bb-6bee3242e92c",
   "metadata": {},
   "outputs": [
    {
     "name": "stdout",
     "output_type": "stream",
     "text": [
      "Dhruv\n"
     ]
    }
   ],
   "source": [
    "class student:\n",
    "    name=\"Dhruv\"\n",
    "    age=21\n",
    "    def study(self):\n",
    "        print(self.name)\n",
    "std_name=student()\n",
    "std_name.study()"
   ]
  },
  {
   "cell_type": "code",
   "execution_count": null,
   "id": "9e1cf168-c721-40de-8a48-eb108d013073",
   "metadata": {},
   "outputs": [],
   "source": []
  },
  {
   "cell_type": "markdown",
   "id": "30725134-df1c-43e0-830e-6d6435595ce9",
   "metadata": {},
   "source": [
    "#### 3 cases "
   ]
  },
  {
   "cell_type": "code",
   "execution_count": 10,
   "id": "38d68358-98c6-4c03-a5a5-38c0f2d94391",
   "metadata": {},
   "outputs": [
    {
     "name": "stdout",
     "output_type": "stream",
     "text": [
      "3 hrs \n"
     ]
    }
   ],
   "source": [
    "class student:\n",
    "    name=\"dhruv\"\n",
    "    def study(self):\n",
    "        print(\"3 hrs \")\n",
    "        \n",
    "    def sleep(self):\n",
    "        print(\"sleep 8 hrs \")\n",
    "std=student()\n",
    "std.study()"
   ]
  },
  {
   "cell_type": "code",
   "execution_count": 11,
   "id": "49b48b91-a320-41d9-826a-c2bd5f2c093d",
   "metadata": {},
   "outputs": [
    {
     "name": "stdout",
     "output_type": "stream",
     "text": [
      "3 hrs \n",
      "sleep 8 hrs \n"
     ]
    }
   ],
   "source": [
    "class student:\n",
    "    name=\"dhruv\"\n",
    "    def study(self):\n",
    "        print(\"3 hrs \")\n",
    "        self.sleep()\n",
    "    def sleep(self):\n",
    "        print(\"sleep 8 hrs \")\n",
    "std=student()\n",
    "std.study()"
   ]
  },
  {
   "cell_type": "code",
   "execution_count": 12,
   "id": "f10a88ea-2e04-44f3-8888-0bec65825f14",
   "metadata": {},
   "outputs": [
    {
     "name": "stdout",
     "output_type": "stream",
     "text": [
      "3 hrs \n"
     ]
    }
   ],
   "source": [
    "class student:\n",
    "    name=\"dhruv\"\n",
    "    def study(self):\n",
    "        print(\"3 hrs \")\n",
    "        \n",
    "    def sleep(self):\n",
    "        print(\"sleep 8 hrs \")\n",
    "        study()\n",
    "std=student()\n",
    "std.study()"
   ]
  },
  {
   "cell_type": "code",
   "execution_count": null,
   "id": "dfefa625-ec84-40f6-9e73-7bb5a96abe30",
   "metadata": {},
   "outputs": [],
   "source": []
  },
  {
   "cell_type": "markdown",
   "id": "8b3fa960-789c-4046-b31d-fb7a56f71be8",
   "metadata": {},
   "source": [
    "## INHERITENCE"
   ]
  },
  {
   "cell_type": "code",
   "execution_count": 14,
   "id": "56c6b563-6bce-47a6-98ee-2f588a7ab84c",
   "metadata": {},
   "outputs": [
    {
     "name": "stdout",
     "output_type": "stream",
     "text": [
      "show method of class A\n"
     ]
    }
   ],
   "source": [
    "class A:\n",
    "    def show(self):\n",
    "        print(\"show method of class A\")\n",
    "class B(A):\n",
    "    pass\n",
    "class C(A):\n",
    "    pass\n",
    "obj=C()\n",
    "obj.show()"
   ]
  },
  {
   "cell_type": "code",
   "execution_count": null,
   "id": "a090e6e9-04f6-4bad-a606-946d1bfd4de9",
   "metadata": {},
   "outputs": [],
   "source": []
  },
  {
   "cell_type": "code",
   "execution_count": 17,
   "id": "436afa2a-54d0-4ca0-b499-783e78ab102e",
   "metadata": {},
   "outputs": [
    {
     "name": "stdout",
     "output_type": "stream",
     "text": [
      "show method of class A\n"
     ]
    }
   ],
   "source": [
    "class A:\n",
    "    def show(self):\n",
    "        print(\"show method of class A\")\n",
    "class B(A):\n",
    "    def dump(self):\n",
    "        print(\"this is dump method of class B \")\n",
    "class C(A):\n",
    "    pass\n",
    "obj=C()\n",
    "obj.show()\n",
    "#obj.dump()\n",
    "#here c is derived class and it is only inherited to A class "
   ]
  },
  {
   "cell_type": "code",
   "execution_count": null,
   "id": "493f8f26-09b8-4c97-bacd-abe75137c90f",
   "metadata": {},
   "outputs": [],
   "source": []
  },
  {
   "cell_type": "markdown",
   "id": "1e2f7bbe-ce15-4d23-8d41-e7bc4c99e436",
   "metadata": {},
   "source": [
    "## POLYMORPHISM"
   ]
  },
  {
   "cell_type": "code",
   "execution_count": 19,
   "id": "486f4530-733c-452e-8938-67df22259959",
   "metadata": {},
   "outputs": [],
   "source": [
    "#PYHTON  doesnt support method overloading \n",
    "#method overriding and method overloading "
   ]
  },
  {
   "cell_type": "code",
   "execution_count": 32,
   "id": "75902db5-73b2-4ac5-8b53-a9c9001dc405",
   "metadata": {},
   "outputs": [
    {
     "data": {
      "text/plain": [
       "\"Polymorphism lets us define methods in the child class that have the same name as the methods in the parent class. \\nIn inheritance, the child class inherits the methods from the parent class.\\nHowever, it is possible to modify a method in a child class that it has inherited from the parent class. \\nThis is particularly useful in cases where the method. Inherited from the parent class doesn't quite fit the child class. \\nIn such cases, we re-implement the method in the child class. This process of re-implementing a method in the child class is known as Method\\xa0Overriding\\n\""
      ]
     },
     "execution_count": 32,
     "metadata": {},
     "output_type": "execute_result"
    }
   ],
   "source": [
    "\"\"\"Polymorphism lets us define methods in the child class that have the same name as the methods in the parent class. \n",
    "In inheritance, the child class inherits the methods from the parent class.\n",
    "However, it is possible to modify a method in a child class that it has inherited from the parent class. \n",
    "This is particularly useful in cases where the method. Inherited from the parent class doesn't quite fit the child class. \n",
    "In such cases, we re-implement the method in the child class. This process of re-implementing a method in the child class is known as Method Overriding\n",
    "\"\"\""
   ]
  },
  {
   "cell_type": "code",
   "execution_count": 23,
   "id": "d1b98482-3b4c-4bdf-bdc1-053e18450d09",
   "metadata": {},
   "outputs": [
    {
     "name": "stdout",
     "output_type": "stream",
     "text": [
      "1 Dhruv 20\n"
     ]
    }
   ],
   "source": [
    "def setData(id, name):\n",
    "    print(id,name)\n",
    "def setData(id , name , age ):\n",
    "    print(id,name,age)\n",
    "setData(1,\"Dhruv\",20)"
   ]
  },
  {
   "cell_type": "code",
   "execution_count": 27,
   "id": "36fada9d-fa23-42fb-a90a-7e8e785f4e23",
   "metadata": {},
   "outputs": [],
   "source": [
    "def sum(a,b,c=0):\n",
    "    return a+b+c\n",
    "\n"
   ]
  },
  {
   "cell_type": "code",
   "execution_count": 31,
   "id": "27ca50c5-dd7a-4b50-9330-d3f86df0089a",
   "metadata": {},
   "outputs": [
    {
     "data": {
      "text/plain": [
       "90"
      ]
     },
     "execution_count": 31,
     "metadata": {},
     "output_type": "execute_result"
    }
   ],
   "source": [
    "sum(20,30,40)\n"
   ]
  },
  {
   "cell_type": "code",
   "execution_count": 30,
   "id": "878be4fc-4a62-4ea0-8373-bea66fa23788",
   "metadata": {},
   "outputs": [
    {
     "data": {
      "text/plain": [
       "50"
      ]
     },
     "execution_count": 30,
     "metadata": {},
     "output_type": "execute_result"
    }
   ],
   "source": [
    "sum(20,30)"
   ]
  },
  {
   "cell_type": "code",
   "execution_count": 41,
   "id": "38d10429-c146-4194-953c-bde3c2d22d20",
   "metadata": {},
   "outputs": [
    {
     "name": "stdout",
     "output_type": "stream",
     "text": [
      "Wowww im papa ki pari and i can flyyy\n"
     ]
    }
   ],
   "source": [
    "class Bird:\n",
    "    def intro(self):\n",
    "        print(\"there are many types of birds \")\n",
    "    def flight(self):\n",
    "        print(\"most of the birds can fly \")\n",
    "class sparrow(Bird):\n",
    "        def flight(self):\n",
    "            print(\"i can fly\")\n",
    "class ostrich(Bird):\n",
    "        def flight(self):\n",
    "            print(\"i can fly\")\n",
    "class PapaKiPari(Bird):\n",
    "    def flight(self):\n",
    "        print(\"Wowww im papa ki pari and i can flyyy\")\n",
    "\n",
    "\n",
    "bird=ostrich()\n",
    "#bird.flight()\n",
    "\n",
    "pkp=PapaKiPari()\n",
    "pkp.flight()\n",
    "        "
   ]
  },
  {
   "cell_type": "code",
   "execution_count": null,
   "id": "14b8e57f-78d1-4286-9023-17cc43fba5ff",
   "metadata": {},
   "outputs": [],
   "source": []
  },
  {
   "cell_type": "code",
   "execution_count": 44,
   "id": "43765ab5-b75b-46e0-baea-8e78704871a6",
   "metadata": {},
   "outputs": [
    {
     "ename": "AttributeError",
     "evalue": "'B' object has no attribute 'name'",
     "output_type": "error",
     "traceback": [
      "\u001b[1;31m---------------------------------------------------------------------------\u001b[0m",
      "\u001b[1;31mAttributeError\u001b[0m                            Traceback (most recent call last)",
      "Cell \u001b[1;32mIn[44], line 7\u001b[0m\n\u001b[0;32m      5\u001b[0m         \u001b[38;5;28mprint\u001b[39m(\u001b[38;5;124m\"\u001b[39m\u001b[38;5;124mthis is show method \u001b[39m\u001b[38;5;124m\"\u001b[39m, \u001b[38;5;28mself\u001b[39m\u001b[38;5;241m.\u001b[39mname)\n\u001b[0;32m      6\u001b[0m obj \u001b[38;5;241m=\u001b[39mB()\n\u001b[1;32m----> 7\u001b[0m obj\u001b[38;5;241m.\u001b[39mshow()\n",
      "Cell \u001b[1;32mIn[44], line 5\u001b[0m, in \u001b[0;36mB.show\u001b[1;34m(self)\u001b[0m\n\u001b[0;32m      4\u001b[0m \u001b[38;5;28;01mdef\u001b[39;00m \u001b[38;5;21mshow\u001b[39m(\u001b[38;5;28mself\u001b[39m):\n\u001b[1;32m----> 5\u001b[0m     \u001b[38;5;28mprint\u001b[39m(\u001b[38;5;124m\"\u001b[39m\u001b[38;5;124mthis is show method \u001b[39m\u001b[38;5;124m\"\u001b[39m, \u001b[38;5;28mself\u001b[39m\u001b[38;5;241m.\u001b[39mname)\n",
      "\u001b[1;31mAttributeError\u001b[0m: 'B' object has no attribute 'name'"
     ]
    }
   ],
   "source": [
    "class A:\n",
    "    __name=\"dhruv\" #_ = protected , __ = private\n",
    "class B(A):\n",
    "    def show(self):\n",
    "        print(\"this is show method \", self.name)\n",
    "obj =B()\n",
    "obj.show()\n",
    "\n",
    "#the member wont be called as it is now private "
   ]
  },
  {
   "cell_type": "markdown",
   "id": "1a7ba2f6-00cf-42d8-af76-6fa7beeab700",
   "metadata": {},
   "source": [
    "#### but if we use same code with public member"
   ]
  },
  {
   "cell_type": "code",
   "execution_count": 49,
   "id": "1a57d26f-220e-4511-85f9-9a61518696ea",
   "metadata": {
    "scrolled": true
   },
   "outputs": [
    {
     "name": "stdout",
     "output_type": "stream",
     "text": [
      "this is show method  dhruv\n"
     ]
    }
   ],
   "source": [
    "class A:\n",
    "    name=\"dhruv\" #_ = protected , __ = private\n",
    "class B(A):\n",
    "    def show(self):\n",
    "        print(\"this is show method \", self.name)\n",
    "obj =B()\n",
    "obj.show()\n"
   ]
  },
  {
   "cell_type": "code",
   "execution_count": 50,
   "id": "25e6405a-7bfa-4718-98be-d140a802654d",
   "metadata": {},
   "outputs": [],
   "source": [
    "#the code gets run easily"
   ]
  },
  {
   "cell_type": "code",
   "execution_count": null,
   "id": "efda8a58-0acb-4078-9f91-49345cae1d4c",
   "metadata": {},
   "outputs": [],
   "source": []
  },
  {
   "cell_type": "code",
   "execution_count": null,
   "id": "183415f2-5199-4b53-9871-02db1263c587",
   "metadata": {},
   "outputs": [],
   "source": []
  },
  {
   "cell_type": "markdown",
   "id": "c83bec04-dbf1-48cb-86ab-324f4a7848b9",
   "metadata": {},
   "source": [
    "## GETTER() SETTER()"
   ]
  },
  {
   "cell_type": "code",
   "execution_count": null,
   "id": "25328506-8444-401d-b219-b21de47d2da5",
   "metadata": {},
   "outputs": [],
   "source": []
  },
  {
   "cell_type": "code",
   "execution_count": 51,
   "id": "c17493e5-f211-4ff4-b1b8-8e5c4fb6fdec",
   "metadata": {},
   "outputs": [
    {
     "name": "stdout",
     "output_type": "stream",
     "text": [
      "Anshika Nagpal\n"
     ]
    }
   ],
   "source": [
    "class student():\n",
    "    \n",
    "    def set_name(self,name):\n",
    "        self.name=name\n",
    "    def get_name(self):\n",
    "        return self.name\n",
    "std=student()\n",
    "std.set_name(\"Anshika Nagpal\")\n",
    "print(std.get_name())"
   ]
  },
  {
   "cell_type": "code",
   "execution_count": null,
   "id": "50e11029-ab2f-4ad8-a6b1-49706742664a",
   "metadata": {},
   "outputs": [],
   "source": []
  },
  {
   "cell_type": "code",
   "execution_count": null,
   "id": "93c4ce24-0647-4ebc-824e-d0d6574018b3",
   "metadata": {},
   "outputs": [],
   "source": []
  },
  {
   "cell_type": "markdown",
   "id": "b4421f26-ff00-4856-9412-9221abd4712a",
   "metadata": {},
   "source": [
    "## EXCEPTION HANDLING "
   ]
  },
  {
   "cell_type": "code",
   "execution_count": 52,
   "id": "3e643fc6-b860-4346-9f25-be0a2b281790",
   "metadata": {
    "scrolled": true
   },
   "outputs": [
    {
     "name": "stdout",
     "output_type": "stream",
     "text": [
      "Line 1 \n",
      "Line 2 \n",
      "Line 3 \n"
     ]
    },
    {
     "name": "stdin",
     "output_type": "stream",
     "text": [
      "enter the first number : 20\n",
      "enter the second number : 0\n"
     ]
    },
    {
     "name": "stdout",
     "output_type": "stream",
     "text": [
      "Error: Division by zero is not allowed. Details: division by zero\n",
      "Line 4 \n"
     ]
    }
   ],
   "source": [
    "print(\"Line 1 \")\n",
    "print(\"Line 2 \")\n",
    "print(\"Line 3 \")\n",
    "num1=int(input(\"enter the first number :\"))\n",
    "num2=int(input(\"enter the second number :\"))\n",
    "try :\n",
    "    print(num1/num2)\n",
    "    print(\"inside a try \")\n",
    "except ZeroDivisionError as e:\n",
    "    print(f\"Error: Division by zero is not allowed. Details: {e}\")\n",
    "print(\"Line 4 \")"
   ]
  },
  {
   "cell_type": "code",
   "execution_count": null,
   "id": "cb8bc65f-5766-4e85-994d-a2aac813c450",
   "metadata": {},
   "outputs": [],
   "source": []
  },
  {
   "cell_type": "code",
   "execution_count": 55,
   "id": "efda597a-cb0f-4e59-97f1-71c0d9960544",
   "metadata": {
    "scrolled": true
   },
   "outputs": [
    {
     "name": "stdout",
     "output_type": "stream",
     "text": [
      "Line 1 \n",
      "Line 2 \n",
      "Line 3 \n"
     ]
    },
    {
     "name": "stdin",
     "output_type": "stream",
     "text": [
      "enter the first number : 234\n",
      "enter the second number : 2\n"
     ]
    },
    {
     "name": "stdout",
     "output_type": "stream",
     "text": [
      "117.0\n",
      "something went wrong\n",
      "Line 4 \n"
     ]
    }
   ],
   "source": [
    "print(\"Line 1 \")\n",
    "print(\"Line 2 \")\n",
    "print(\"Line 3 \")\n",
    "num1=int(input(\"enter the first number :\"))\n",
    "num2=int(input(\"enter the second number :\"))\n",
    "try :\n",
    "    print(num1/num2)\n",
    "    open(\"dhruv.txt\")\n",
    "except (ZeroDivisionError,FileNotFoundError) :\n",
    "    print(\"something went wrong\")\n",
    "print(\"Line 4 \")"
   ]
  },
  {
   "cell_type": "code",
   "execution_count": null,
   "id": "78d589f8-2428-4c83-bcba-e81cd3960e7d",
   "metadata": {},
   "outputs": [],
   "source": []
  },
  {
   "cell_type": "code",
   "execution_count": 57,
   "id": "64c8c6a6-6a16-40dc-972b-55ae37337a50",
   "metadata": {},
   "outputs": [],
   "source": [
    "#with exception "
   ]
  },
  {
   "cell_type": "code",
   "execution_count": 56,
   "id": "9c3cc379-2efe-49dd-aa26-099719d1b2e2",
   "metadata": {
    "scrolled": true
   },
   "outputs": [
    {
     "name": "stdout",
     "output_type": "stream",
     "text": [
      "Line 1 \n",
      "Line 2 \n",
      "Line 3 \n"
     ]
    },
    {
     "name": "stdin",
     "output_type": "stream",
     "text": [
      "enter the first number : 234\n",
      "enter the second number : 2\n"
     ]
    },
    {
     "name": "stdout",
     "output_type": "stream",
     "text": [
      "117.0\n",
      "something went wrong\n",
      "finally block \n",
      "Line 4 \n"
     ]
    }
   ],
   "source": [
    "print(\"Line 1 \")\n",
    "print(\"Line 2 \")\n",
    "print(\"Line 3 \")\n",
    "num1=int(input(\"enter the first number :\"))\n",
    "num2=int(input(\"enter the second number :\"))\n",
    "try :\n",
    "    print(num1/num2)\n",
    "    open(\"dhruv.txt\")\n",
    "except (ZeroDivisionError,FileNotFoundError) :\n",
    "    print(\"something went wrong\")\n",
    "else :\n",
    "    print(\"else block \")\n",
    "finally :\n",
    "    print(\"finally block \")\n",
    "print(\"Line 4 \")"
   ]
  },
  {
   "cell_type": "code",
   "execution_count": null,
   "id": "50877550-1709-4372-86c5-66bd18130447",
   "metadata": {},
   "outputs": [],
   "source": []
  },
  {
   "cell_type": "code",
   "execution_count": 58,
   "id": "89c177f1-2b3d-4561-a9c5-e1cd22926d65",
   "metadata": {},
   "outputs": [],
   "source": [
    "#without exception "
   ]
  },
  {
   "cell_type": "code",
   "execution_count": 59,
   "id": "ce73d667-7e05-42b2-a93d-f197c6f9cca8",
   "metadata": {},
   "outputs": [
    {
     "name": "stdout",
     "output_type": "stream",
     "text": [
      "Line 1 \n",
      "Line 2 \n",
      "Line 3 \n"
     ]
    },
    {
     "name": "stdin",
     "output_type": "stream",
     "text": [
      "enter the first number : 234\n",
      "enter the second number : 2\n"
     ]
    },
    {
     "name": "stdout",
     "output_type": "stream",
     "text": [
      "117.0\n",
      "else block \n",
      "finally block \n",
      "Line 4 \n"
     ]
    }
   ],
   "source": [
    "print(\"Line 1 \")\n",
    "print(\"Line 2 \")\n",
    "print(\"Line 3 \")\n",
    "num1=int(input(\"enter the first number :\"))\n",
    "num2=int(input(\"enter the second number :\"))\n",
    "try :\n",
    "    print(num1/num2)\n",
    "    #open(\"dhruv.txt\")\n",
    "except (ZeroDivisionError,FileNotFoundError) :\n",
    "    print(\"something went wrong\")\n",
    "else :\n",
    "    print(\"else block \")\n",
    "finally :\n",
    "    print(\"finally block \")\n",
    "print(\"Line 4 \")"
   ]
  },
  {
   "cell_type": "code",
   "execution_count": null,
   "id": "879eb755-4ba5-4608-9934-308098d8e820",
   "metadata": {},
   "outputs": [],
   "source": []
  },
  {
   "cell_type": "markdown",
   "id": "8d100427-aa42-41e5-9186-ea6c85804565",
   "metadata": {},
   "source": [
    "## ERROR AND TYPES "
   ]
  },
  {
   "cell_type": "code",
   "execution_count": 53,
   "id": "afec581e-7277-4975-b436-789ba7871551",
   "metadata": {},
   "outputs": [
    {
     "data": {
      "text/plain": [
       "'IndentationError \\nNameError \\nTypeError \\nValueError \\nZeroDivisionError'"
      ]
     },
     "execution_count": 53,
     "metadata": {},
     "output_type": "execute_result"
    }
   ],
   "source": [
    "\"\"\"IndentationError \n",
    "NameError \n",
    "TypeError \n",
    "ValueError \n",
    "ZeroDivisionError\"\"\""
   ]
  },
  {
   "cell_type": "code",
   "execution_count": null,
   "id": "84b549fc-05c9-42b7-9eb5-608e813a43cf",
   "metadata": {},
   "outputs": [],
   "source": []
  }
 ],
 "metadata": {
  "kernelspec": {
   "display_name": "Python 3 (ipykernel)",
   "language": "python",
   "name": "python3"
  },
  "language_info": {
   "codemirror_mode": {
    "name": "ipython",
    "version": 3
   },
   "file_extension": ".py",
   "mimetype": "text/x-python",
   "name": "python",
   "nbconvert_exporter": "python",
   "pygments_lexer": "ipython3",
   "version": "3.11.7"
  }
 },
 "nbformat": 4,
 "nbformat_minor": 5
}
