{
 "cells": [
  {
   "cell_type": "code",
   "execution_count": 1,
   "id": "c99cf32d-e87a-4551-ba09-a40ae3e559eb",
   "metadata": {},
   "outputs": [],
   "source": [
    "import numpy as np "
   ]
  },
  {
   "cell_type": "code",
   "execution_count": null,
   "id": "ec94e153-f208-4bdd-883b-2cbeedd2ba53",
   "metadata": {},
   "outputs": [],
   "source": []
  },
  {
   "cell_type": "markdown",
   "id": "4bd198cf-39f3-47a6-9fd0-c082b2abcccf",
   "metadata": {},
   "source": [
    "### Q1. Convert the list into a NumPy array and display the array"
   ]
  },
  {
   "cell_type": "code",
   "execution_count": 6,
   "id": "1754bd88-a069-4c6a-a6a1-e31b94cafd29",
   "metadata": {},
   "outputs": [
    {
     "name": "stdout",
     "output_type": "stream",
     "text": [
      "converted array using numpy :  [1 2 3 4 5]\n"
     ]
    }
   ],
   "source": [
    "my_list = [1, 2, 3, 4, 5]\n",
    "array = np.array(my_list)\n",
    "print('converted array using numpy : ', array)\n"
   ]
  },
  {
   "cell_type": "code",
   "execution_count": 3,
   "id": "d7a2b04b-1be3-4037-aa70-a041c8223963",
   "metadata": {},
   "outputs": [
    {
     "data": {
      "text/plain": [
       "numpy.ndarray"
      ]
     },
     "execution_count": 3,
     "metadata": {},
     "output_type": "execute_result"
    }
   ],
   "source": [
    "type(my_array)"
   ]
  },
  {
   "cell_type": "code",
   "execution_count": null,
   "id": "06064fb2-13f2-49ca-8d15-6564fdd806f6",
   "metadata": {},
   "outputs": [],
   "source": []
  },
  {
   "cell_type": "markdown",
   "id": "79631d0f-680b-4280-bf72-9d124d49c8bc",
   "metadata": {},
   "source": [
    "### Q2. Convert the list into a NumPy array, display the array, display the first and last index, then multiply each element by 2 and display the result"
   ]
  },
  {
   "cell_type": "code",
   "execution_count": 7,
   "id": "f2c52d8e-a39b-4cff-991f-b0e630f8e692",
   "metadata": {},
   "outputs": [
    {
     "name": "stdout",
     "output_type": "stream",
     "text": [
      "NumPy array: [1 2 3 4 5]\n",
      "First element: 1\n",
      "Last element: 5\n",
      "Array after multiplying each element by 2: [ 2  4  6  8 10]\n"
     ]
    }
   ],
   "source": [
    "list2 = [1, 2, 3, 4, 5]\n",
    "array2 = np.array(list2)\n",
    "\n",
    "print(\"NumPy array:\", array2)\n",
    "print(\"First element:\", array2[0])\n",
    "print(\"Last element:\", array2[-1])\n",
    "\n",
    "mult_array = array2 * 2\n",
    "print(\"Array after multiplying each element by 2:\", mult_array)"
   ]
  },
  {
   "cell_type": "code",
   "execution_count": null,
   "id": "588aad0c-6ee1-447b-af5c-2ceb1085c108",
   "metadata": {},
   "outputs": [],
   "source": []
  },
  {
   "cell_type": "markdown",
   "id": "98aa927c-3b32-4e65-9d5b-59e46cdefc63",
   "metadata": {},
   "source": [
    "### Q3. Create an array of 10 zeros, 10 ones, and 10 fives"
   ]
  },
  {
   "cell_type": "code",
   "execution_count": 10,
   "id": "ce192f4b-7d7e-434b-8610-b5aa755667fc",
   "metadata": {},
   "outputs": [
    {
     "name": "stdout",
     "output_type": "stream",
     "text": [
      "Array of 10 zeros: [0. 0. 0. 0. 0. 0. 0. 0. 0. 0.]\n",
      "Array of 10 ones:  [1. 1. 1. 1. 1. 1. 1. 1. 1. 1.]\n",
      "Array of 10 fives: [5. 5. 5. 5. 5. 5. 5. 5. 5. 5.]\n"
     ]
    }
   ],
   "source": [
    "\n",
    "zeros = np.zeros(10)\n",
    "ones = np.ones(10)\n",
    "fives = ones*5\n",
    "\n",
    "print(\"Array of 10 zeros:\", zeros)\n",
    "print(\"Array of 10 ones: \", ones)\n",
    "print(\"Array of 10 fives:\", fives)"
   ]
  },
  {
   "cell_type": "code",
   "execution_count": null,
   "id": "f2106eeb-2045-4e5b-86a6-1f1042c9a475",
   "metadata": {},
   "outputs": [],
   "source": []
  },
  {
   "cell_type": "markdown",
   "id": "098e1e72-b4bd-45dd-8da3-81ba88411765",
   "metadata": {},
   "source": [
    "### Q4. Create a 3x3 matrix with values ranging from 2 to 10"
   ]
  },
  {
   "cell_type": "code",
   "execution_count": 13,
   "id": "a624bfdc-9adf-4eab-b37c-e9a8fc373e66",
   "metadata": {},
   "outputs": [
    {
     "name": "stdout",
     "output_type": "stream",
     "text": [
      "3x3 matrix with values ranging from 2 to 10:\n",
      "[[ 2  3  4]\n",
      " [ 5  6  7]\n",
      " [ 8  9 10]]\n"
     ]
    }
   ],
   "source": [
    "matrix = np.arange(2, 11).reshape(3, 3)\n",
    "\n",
    "print(\"3x3 matrix with values ranging from 2 to 10:\")\n",
    "print(matrix)"
   ]
  },
  {
   "cell_type": "code",
   "execution_count": null,
   "id": "10b6686b-ae0f-4600-ab37-e9170cf0d785",
   "metadata": {},
   "outputs": [],
   "source": []
  },
  {
   "cell_type": "code",
   "execution_count": null,
   "id": "c899e94e-1f85-45fc-bcfd-cc1c5d18de1c",
   "metadata": {},
   "outputs": [],
   "source": []
  }
 ],
 "metadata": {
  "kernelspec": {
   "display_name": "Python 3 (ipykernel)",
   "language": "python",
   "name": "python3"
  },
  "language_info": {
   "codemirror_mode": {
    "name": "ipython",
    "version": 3
   },
   "file_extension": ".py",
   "mimetype": "text/x-python",
   "name": "python",
   "nbconvert_exporter": "python",
   "pygments_lexer": "ipython3",
   "version": "3.11.7"
  }
 },
 "nbformat": 4,
 "nbformat_minor": 5
}
