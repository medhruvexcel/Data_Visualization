{
 "cells": [
  {
   "cell_type": "markdown",
   "id": "030134ce-a079-46d5-9a1b-291f8ebc85fb",
   "metadata": {},
   "source": [
    "### Q1. Python program to check leap year"
   ]
  },
  {
   "cell_type": "code",
   "execution_count": 1,
   "id": "7f1ba5fa-ff9e-4ead-ad18-9e0c31531052",
   "metadata": {},
   "outputs": [
    {
     "name": "stdin",
     "output_type": "stream",
     "text": [
      "Enter a year:  2024\n"
     ]
    },
    {
     "name": "stdout",
     "output_type": "stream",
     "text": [
      "2024 is a leap year\n"
     ]
    }
   ],
   "source": [
    "year = int(input(\"Enter a year: \"))\n",
    "\n",
    "\n",
    "if (year % 4 == 0 and year % 100 != 0) or (year % 400 == 0):\n",
    "    print(year, \"is a leap year\")\n",
    "else:\n",
    "    print(year,\" is not a leap year\")"
   ]
  },
  {
   "cell_type": "code",
   "execution_count": null,
   "id": "6bc7e9f0-af3c-41ae-9b85-2baaf89966c5",
   "metadata": {},
   "outputs": [],
   "source": []
  },
  {
   "cell_type": "markdown",
   "id": "728b287e-e7d0-4179-900b-8e582e46c9fa",
   "metadata": {},
   "source": [
    "### Q2. Python Program to Find the Largest Among Three Numbers"
   ]
  },
  {
   "cell_type": "code",
   "execution_count": 2,
   "id": "ee6822ee-c02e-4b8e-b6db-5bdf0a7d8e1d",
   "metadata": {},
   "outputs": [
    {
     "name": "stdin",
     "output_type": "stream",
     "text": [
      "Enter first number:  3\n",
      "Enter second number:  5\n",
      "Enter third number:  11\n"
     ]
    },
    {
     "name": "stdout",
     "output_type": "stream",
     "text": [
      "The largest number is:  11.0\n"
     ]
    }
   ],
   "source": [
    "num1 = float(input(\"Enter first number: \"))\n",
    "num2 = float(input(\"Enter second number: \"))\n",
    "num3 = float(input(\"Enter third number: \"))\n",
    "\n",
    "# Find the largest number\n",
    "if num1 >= num2 and num1 >= num3:\n",
    "    largest = num1\n",
    "elif num2 >= num1 and num2 >= num3:\n",
    "    largest = num2\n",
    "else:\n",
    "    largest = num3\n",
    "\n",
    "print(\"The largest number is: \",largest)"
   ]
  },
  {
   "cell_type": "code",
   "execution_count": null,
   "id": "b7e0467c-0472-45c2-a22c-48be8b467333",
   "metadata": {},
   "outputs": [],
   "source": []
  },
  {
   "cell_type": "markdown",
   "id": "b1812d89-62a6-403e-9ebb-edfe17b1cf08",
   "metadata": {},
   "source": [
    "### Q3. Python Program to Check if a Number is Positive, Negative or 0"
   ]
  },
  {
   "cell_type": "code",
   "execution_count": 3,
   "id": "ac401e97-1bde-4623-8ef5-f3ae0eaa6254",
   "metadata": {},
   "outputs": [
    {
     "name": "stdin",
     "output_type": "stream",
     "text": [
      "Enter a number:  3\n"
     ]
    },
    {
     "name": "stdout",
     "output_type": "stream",
     "text": [
      "3.0  is positive\n"
     ]
    }
   ],
   "source": [
    "number = float(input(\"Enter a number: \"))\n",
    "\n",
    "if number > 0:\n",
    "    print(number, \" is positive\")\n",
    "elif number < 0:\n",
    "    print(number,\" is negative\")\n",
    "else:\n",
    "    print(\"The number is zero (0)\")"
   ]
  },
  {
   "cell_type": "code",
   "execution_count": null,
   "id": "4eda656e-f4b6-48a7-bc74-ce70a750878c",
   "metadata": {},
   "outputs": [],
   "source": []
  },
  {
   "cell_type": "markdown",
   "id": "5d0298a9-621c-4cbc-a811-fdf130c9dfe9",
   "metadata": {},
   "source": [
    "### Q4. A toy vendor supplies three types of toys: Battery Based Toys, Key-based Toys, and Electrical Charging Based Toys. The vendor gives a discount of 10% on orders for battery-based toys if the order is for more than Rs. 1000. On orders of more than Rs. 100 for key-based toys, a discount of 5% is given, and a discount of 10% is given on orders for electrical charging based toys of value more than Rs. 500. Assume that the numeric codes 1,2 and 3 are used for battery based toys, key-based toys, and electrical charging based toys respectively. Write a program that reads the product code and the order amount and prints out the net amount that the customer is required to pay after the discount."
   ]
  },
  {
   "cell_type": "code",
   "execution_count": 7,
   "id": "f8b298f9-5b2e-4eb3-ae18-d8e39d2c8db8",
   "metadata": {},
   "outputs": [
    {
     "name": "stdin",
     "output_type": "stream",
     "text": [
      "Enter product code (1 for Battery-based, 2 for Key-based, 3 for Electrical Charging-based):  1\n",
      "Enter order amount:  1100\n"
     ]
    },
    {
     "name": "stdout",
     "output_type": "stream",
     "text": [
      "after getting discount of : 110.0\n",
      "Net amount to be paid: Rs.  990.0\n"
     ]
    }
   ],
   "source": [
    "product_code = int(input(\"Enter product code (1 for Battery-based, 2 for Key-based, 3 for Electrical Charging-based): \"))\n",
    "order_amount = float(input(\"Enter order amount: \"))\n",
    "\n",
    "if product_code == 1 and order_amount > 1000:\n",
    "    discount = order_amount * 0.10\n",
    "elif product_code == 2 and order_amount > 100:\n",
    "    discount = order_amount * 0.05\n",
    "elif product_code == 3 and order_amount > 500:\n",
    "    discount = order_amount * 0.10\n",
    "else:\n",
    "    discount = 0\n",
    "\n",
    "net_amount = order_amount - discount\n",
    "print(\"after getting discount of :\", discount)\n",
    "print(\"Net amount to be paid: Rs. \",net_amount)"
   ]
  },
  {
   "cell_type": "code",
   "execution_count": null,
   "id": "be7e3525-b52b-48a5-b934-1bb876a9f830",
   "metadata": {},
   "outputs": [],
   "source": []
  },
  {
   "cell_type": "markdown",
   "id": "7213f4e3-f49c-4ed0-878c-b6f3ea1462f4",
   "metadata": {},
   "source": [
    "### Q5. A transport company charges the fare according to following table: Distance Charges 1-50 8 Rs./Km , 51-100 10 Rs./Km ,  > 100 12 Rs/Km"
   ]
  },
  {
   "cell_type": "code",
   "execution_count": 10,
   "id": "2e1e2629-4d8a-4334-a24d-8033383069a0",
   "metadata": {},
   "outputs": [
    {
     "name": "stdin",
     "output_type": "stream",
     "text": [
      "Enter the distance traveled in km:  100\n"
     ]
    },
    {
     "name": "stdout",
     "output_type": "stream",
     "text": [
      "Total fare: Rs. 900.0\n"
     ]
    }
   ],
   "source": [
    "distance = float(input(\"Enter the distance traveled in km: \"))\n",
    "\n",
    "if distance <= 50:\n",
    "    fare = distance * 8\n",
    "elif distance <= 100:\n",
    "    fare = (50 * 8) + ((distance - 50) * 10)\n",
    "else:\n",
    "    fare = (50 * 8) + (50 * 10) + ((distance - 100) * 12)\n",
    "\n",
    "print(\"Total fare: Rs.\", fare)\n"
   ]
  },
  {
   "cell_type": "code",
   "execution_count": null,
   "id": "c6c853d2-0118-44d6-b1ea-d00564508db8",
   "metadata": {},
   "outputs": [],
   "source": []
  },
  {
   "cell_type": "markdown",
   "id": "24f48291-1e80-4c7b-84ea-0320a8a16edf",
   "metadata": {},
   "source": [
    "### Q6. Write a python program to reverse a number using a while loop."
   ]
  },
  {
   "cell_type": "code",
   "execution_count": 12,
   "id": "6c2ab060-c227-40ee-9b8b-de4c02e4b694",
   "metadata": {},
   "outputs": [
    {
     "name": "stdin",
     "output_type": "stream",
     "text": [
      "Enter a number:  234\n"
     ]
    },
    {
     "name": "stdout",
     "output_type": "stream",
     "text": [
      "Reversed number:  432\n"
     ]
    }
   ],
   "source": [
    "number = int(input(\"Enter a number: \"))\n",
    "reversed = 0\n",
    "\n",
    "while number != 0:\n",
    "    digit = number % 10\n",
    "    reversed = reversed * 10 + digit\n",
    "    number //= 10\n",
    "\n",
    "print(\"Reversed number: \", reversed)"
   ]
  },
  {
   "cell_type": "code",
   "execution_count": null,
   "id": "8d089968-03a4-4e66-9d00-b65d9f276184",
   "metadata": {},
   "outputs": [],
   "source": []
  },
  {
   "cell_type": "markdown",
   "id": "f6dc1079-17e9-4952-b1cb-4c65bd22006c",
   "metadata": {},
   "source": [
    "### Q7. Write a python program to check whether a number is palindrome or not?"
   ]
  },
  {
   "cell_type": "code",
   "execution_count": 13,
   "id": "6435c8eb-1ec3-4059-90f3-60a71607a1af",
   "metadata": {},
   "outputs": [
    {
     "name": "stdin",
     "output_type": "stream",
     "text": [
      "Enter a number:  101\n"
     ]
    },
    {
     "name": "stdout",
     "output_type": "stream",
     "text": [
      "101  is a palindrome\n"
     ]
    }
   ],
   "source": [
    "number = int(input(\"Enter a number: \"))\n",
    "original= number\n",
    "reversed = 0\n",
    "\n",
    "while number != 0:\n",
    "    digit = number % 10\n",
    "    reversed = reversed * 10 + digit\n",
    "    number //= 10\n",
    "\n",
    "if original == reversed:\n",
    "    print(original , \" is a palindrome\")\n",
    "else:\n",
    "    print(original,\" is not a palindrome\")"
   ]
  },
  {
   "cell_type": "code",
   "execution_count": null,
   "id": "afa135a6-c388-472b-be16-3eb3ba90a00a",
   "metadata": {},
   "outputs": [],
   "source": []
  },
  {
   "cell_type": "markdown",
   "id": "a953765f-3981-4e81-afa9-e1087f932a12",
   "metadata": {},
   "source": [
    "### Q8. Write a python program finding the factorial of a given number using"
   ]
  },
  {
   "cell_type": "code",
   "execution_count": 14,
   "id": "77420a7e-c6e0-4959-8732-b21a7ad676db",
   "metadata": {},
   "outputs": [
    {
     "name": "stdin",
     "output_type": "stream",
     "text": [
      "Enter a number:  5\n"
     ]
    },
    {
     "name": "stdout",
     "output_type": "stream",
     "text": [
      "Factorial of  5 is  120\n"
     ]
    }
   ],
   "source": [
    "number = int(input(\"Enter a number: \"))\n",
    "factorial = 1\n",
    "i = 1\n",
    "\n",
    "while i <= number:\n",
    "    factorial *= i\n",
    "    i += 1\n",
    "\n",
    "print(\"Factorial of \",number,\"is \",factorial)"
   ]
  },
  {
   "cell_type": "code",
   "execution_count": null,
   "id": "dea503cc-b9dc-49e0-bb63-0742d08d53ed",
   "metadata": {},
   "outputs": [],
   "source": []
  },
  {
   "cell_type": "markdown",
   "id": "bd847ac8-529b-4c61-9c7a-5dbd3be0cac7",
   "metadata": {},
   "source": [
    "### Q9. Accept numbers using input() function until the user enters 0. If user input 0 then break the while loop and display the sum of all thenumbers."
   ]
  },
  {
   "cell_type": "code",
   "execution_count": 15,
   "id": "f5e775f5-e6ee-46f2-89f6-0d005a13a98d",
   "metadata": {},
   "outputs": [
    {
     "name": "stdin",
     "output_type": "stream",
     "text": [
      "Enter a number (0 to stop):  2\n",
      "Enter a number (0 to stop):  3\n",
      "Enter a number (0 to stop):  0\n"
     ]
    },
    {
     "name": "stdout",
     "output_type": "stream",
     "text": [
      "Sum of all numbers:  5.0\n"
     ]
    }
   ],
   "source": [
    "total_sum = 0\n",
    "\n",
    "while True:\n",
    "    number = float(input(\"Enter a number (0 to stop): \"))\n",
    "    if number == 0:\n",
    "        break\n",
    "    total_sum += number\n",
    "\n",
    "print(\"Sum of all numbers: \", total_sum )"
   ]
  },
  {
   "cell_type": "code",
   "execution_count": null,
   "id": "144c05e1-cae0-4475-a71c-a715f5689872",
   "metadata": {},
   "outputs": [],
   "source": []
  },
  {
   "cell_type": "markdown",
   "id": "97e84450-aef5-4821-8b0c-e4874911d39d",
   "metadata": {},
   "source": [
    "### Q10. Print the first 10 natural numbers using for loop"
   ]
  },
  {
   "cell_type": "code",
   "execution_count": 16,
   "id": "bbc3f2bd-04ac-42fb-bea0-f26249db5bf4",
   "metadata": {},
   "outputs": [
    {
     "name": "stdout",
     "output_type": "stream",
     "text": [
      "1\n",
      "2\n",
      "3\n",
      "4\n",
      "5\n",
      "6\n",
      "7\n",
      "8\n",
      "9\n",
      "10\n"
     ]
    }
   ],
   "source": [
    "for i in range(1, 11):\n",
    "    print(i)\n"
   ]
  },
  {
   "cell_type": "code",
   "execution_count": null,
   "id": "159ee708-5381-4b57-9bf3-681318693533",
   "metadata": {},
   "outputs": [],
   "source": []
  },
  {
   "cell_type": "markdown",
   "id": "19c3d301-9989-465b-9833-5693ede23b32",
   "metadata": {},
   "source": [
    "### Q11. Python program to check if the given string is a palindrome"
   ]
  },
  {
   "cell_type": "code",
   "execution_count": 17,
   "id": "6e53ddec-c7a4-4309-8070-711b78e4eee2",
   "metadata": {},
   "outputs": [
    {
     "name": "stdin",
     "output_type": "stream",
     "text": [
      "Enter a string:  wow\n"
     ]
    },
    {
     "name": "stdout",
     "output_type": "stream",
     "text": [
      "wow  is a palindrome\n"
     ]
    }
   ],
   "source": [
    "string = input(\"Enter a string: \")\n",
    "\n",
    "if string == string[::-1]:\n",
    "    print(string,\" is a palindrome\")\n",
    "else:\n",
    "    print(string,\" is not a palindrome\")\n"
   ]
  },
  {
   "cell_type": "code",
   "execution_count": null,
   "id": "3d742a37-cd37-429e-ab14-580ede9ecdfc",
   "metadata": {},
   "outputs": [],
   "source": []
  },
  {
   "cell_type": "markdown",
   "id": "3e21ee77-a7cf-4843-836a-c622cd9f451b",
   "metadata": {},
   "source": [
    "### Q12. Program to Check if a Given Number is an Armstrong Number"
   ]
  },
  {
   "cell_type": "code",
   "execution_count": 22,
   "id": "12212cd7-b623-43d7-85d3-8fe0a83e15c9",
   "metadata": {},
   "outputs": [
    {
     "name": "stdin",
     "output_type": "stream",
     "text": [
      "Enter a number:  153\n"
     ]
    },
    {
     "name": "stdout",
     "output_type": "stream",
     "text": [
      "153 is an Armstrong number\n"
     ]
    },
    {
     "name": "stdin",
     "output_type": "stream",
     "text": [
      "Enter a number:  97\n"
     ]
    },
    {
     "name": "stdout",
     "output_type": "stream",
     "text": [
      "97 is not an Armstrong number\n"
     ]
    }
   ],
   "source": [
    "for i in range (0,2): # the loop is just to check multiple numbers , if aim is only for a number use code inside loop only\n",
    "    number = int(input(\"Enter a number: \"))\n",
    "    sum_of_cubes = sum(int(digit) ** 3 for digit in str(number))\n",
    "\n",
    "    if number == sum_of_cubes:\n",
    "        print(number,\"is an Armstrong number\")\n",
    "    else:\n",
    "        print(number,\"is not an Armstrong number\")"
   ]
  },
  {
   "cell_type": "code",
   "execution_count": null,
   "id": "e94894d8-53fa-434f-bcfe-5ecd52c74338",
   "metadata": {},
   "outputs": [],
   "source": []
  },
  {
   "cell_type": "markdown",
   "id": "43718a06-5f49-4a80-9c66-dc22184b2f40",
   "metadata": {},
   "source": [
    "### Q13. Program to Get the Fibonacci Series Between 0 to 50"
   ]
  },
  {
   "cell_type": "code",
   "execution_count": 24,
   "id": "6e845cdf-f731-44b4-b48f-edd5ecfcaa3a",
   "metadata": {},
   "outputs": [
    {
     "name": "stdout",
     "output_type": "stream",
     "text": [
      "the fibonacci series between 0 to 50 is : \n",
      "0 1 1 2 3 5 8 13 21 34 "
     ]
    }
   ],
   "source": [
    "a, b = 0, 1\n",
    "print(\"the fibonacci series between 0 to 50 is : \")\n",
    "while a <= 50:\n",
    "    print(a, end=\" \")\n",
    "    a, b = b, a + b"
   ]
  },
  {
   "cell_type": "code",
   "execution_count": null,
   "id": "c35eef79-407a-4cfa-ba07-d37669f19e47",
   "metadata": {},
   "outputs": [],
   "source": []
  },
  {
   "cell_type": "markdown",
   "id": "363fd6de-6c14-477d-b2bd-1d5def41c6d5",
   "metadata": {},
   "source": [
    "### Q14 .Program to Check the Validity of Password Input by Users"
   ]
  },
  {
   "cell_type": "code",
   "execution_count": 25,
   "id": "5db6cd1b-8a98-4ed4-a39f-6353a7b250fc",
   "metadata": {},
   "outputs": [
    {
     "name": "stdin",
     "output_type": "stream",
     "text": [
      "Enter a password:  Dhruv009#\n"
     ]
    },
    {
     "name": "stdout",
     "output_type": "stream",
     "text": [
      "Password is valid.\n"
     ]
    }
   ],
   "source": [
    "password = input(\"Enter a password: \")\n",
    "\n",
    "# Initializing validity flags\n",
    "has_lower = False\n",
    "has_upper = False\n",
    "has_digit = False\n",
    "has_special = False\n",
    "\n",
    "# Check each character in the password\n",
    "for char in password:\n",
    "    if char.islower():\n",
    "        has_lower = True\n",
    "    elif char.isupper():\n",
    "        has_upper = True\n",
    "    elif char.isdigit():\n",
    "        has_digit = True\n",
    "    elif char in \"$#@\":\n",
    "        has_special = True\n",
    "\n",
    "# Check the length of the password\n",
    "if len(password) < 6 or len(password) > 12:\n",
    "    is_valid = False\n",
    "else:\n",
    "    is_valid = has_lower and has_upper and has_digit and has_special\n",
    "\n",
    "\n",
    "if is_valid:\n",
    "    print(\"Password is valid.\")\n",
    "else:\n",
    "    print(\"Password is not valid.\")"
   ]
  },
  {
   "cell_type": "code",
   "execution_count": null,
   "id": "cc91d7c5-9729-467b-9d69-e677ae3507aa",
   "metadata": {},
   "outputs": [],
   "source": []
  }
 ],
 "metadata": {
  "kernelspec": {
   "display_name": "Python 3 (ipykernel)",
   "language": "python",
   "name": "python3"
  },
  "language_info": {
   "codemirror_mode": {
    "name": "ipython",
    "version": 3
   },
   "file_extension": ".py",
   "mimetype": "text/x-python",
   "name": "python",
   "nbconvert_exporter": "python",
   "pygments_lexer": "ipython3",
   "version": "3.11.7"
  }
 },
 "nbformat": 4,
 "nbformat_minor": 5
}
