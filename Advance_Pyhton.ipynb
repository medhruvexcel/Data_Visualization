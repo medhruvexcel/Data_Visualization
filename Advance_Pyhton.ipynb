{
 "cells": [
  {
   "cell_type": "markdown",
   "id": "7d281d70-fd86-459e-a0be-9eed26a12d30",
   "metadata": {},
   "source": [
    "# NUMPY"
   ]
  },
  {
   "cell_type": "markdown",
   "id": "c44c9d04-5d1a-4969-87fc-7b3e3428d391",
   "metadata": {},
   "source": [
    "#### IMPORTNG "
   ]
  },
  {
   "cell_type": "code",
   "execution_count": 1,
   "id": "836a504d-4ec4-4986-88eb-aa4592789711",
   "metadata": {},
   "outputs": [
    {
     "name": "stdout",
     "output_type": "stream",
     "text": [
      "Name: numpy\n",
      "Version: 1.26.4\n",
      "Summary: Fundamental package for array computing in Python\n",
      "Home-page: https://numpy.org\n",
      "Author: Travis E. Oliphant et al.\n",
      "Author-email: \n",
      "License: Copyright (c) 2005-2023, NumPy Developers.\n",
      "All rights reserved.\n",
      "\n",
      "Redistribution and use in source and binary forms, with or without\n",
      "modification, are permitted provided that the following conditions are\n",
      "met:\n",
      "\n",
      "    * Redistributions of source code must retain the above copyright\n",
      "       notice, this list of conditions and the following disclaimer.\n",
      "\n",
      "    * Redistributions in binary form must reproduce the above\n",
      "       copyright notice, this list of conditions and the following\n",
      "       disclaimer in the documentation and/or other materials provided\n",
      "       with the distribution.\n",
      "\n",
      "    * Neither the name of the NumPy Developers nor the names of any\n",
      "       contributors may be used to endorse or promote products derived\n",
      "       from this software without specific prior written permission.\n",
      "\n",
      "THIS SOFTWARE IS PROVIDED BY THE COPYRIGHT HOLDERS AND CONTRIBUTORS\n",
      "\"AS IS\" AND ANY EXPRESS OR IMPLIED WARRANTIES, INCLUDING, BUT NOT\n",
      "LIMITED TO, THE IMPLIED WARRANTIES OF MERCHANTABILITY AND FITNESS FOR\n",
      "A PARTICULAR PURPOSE ARE DISCLAIMED. IN NO EVENT SHALL THE COPYRIGHT\n",
      "OWNER OR CONTRIBUTORS BE LIABLE FOR ANY DIRECT, INDIRECT, INCIDENTAL,\n",
      "SPECIAL, EXEMPLARY, OR CONSEQUENTIAL DAMAGES (INCLUDING, BUT NOT\n",
      "LIMITED TO, PROCUREMENT OF SUBSTITUTE GOODS OR SERVICES; LOSS OF USE,\n",
      "DATA, OR PROFITS; OR BUSINESS INTERRUPTION) HOWEVER CAUSED AND ON ANY\n",
      "THEORY OF LIABILITY, WHETHER IN CONTRACT, STRICT LIABILITY, OR TORT\n",
      "(INCLUDING NEGLIGENCE OR OTHERWISE) ARISING IN ANY WAY OUT OF THE USE\n",
      "OF THIS SOFTWARE, EVEN IF ADVISED OF THE POSSIBILITY OF SUCH DAMAGE.\n",
      "Location: C:\\Users\\dhruv\\anaconda3\\Lib\\site-packages\n",
      "Requires: \n",
      "Required-by: altair, astropy, bokeh, Bottleneck, contourpy, datashader, gensim, h5py, holoviews, hvplot, imagecodecs, imageio, imbalanced-learn, keras, matplotlib, mkl-fft, mkl-random, ml-dtypes, numba, numexpr, opt-einsum, pandas, patsy, pyarrow, pydeck, pyerfa, pywavelets, scikit-image, scikit-learn, scipy, seaborn, statsmodels, streamlit, tables, tensorboard, tensorflow-intel, tifffile, xarray\n"
     ]
    }
   ],
   "source": [
    "!pip show numpy"
   ]
  },
  {
   "cell_type": "code",
   "execution_count": 2,
   "id": "fe6c9f40-6c28-4410-ad0f-9438c9c372ea",
   "metadata": {},
   "outputs": [],
   "source": [
    "import numpy as np "
   ]
  },
  {
   "cell_type": "markdown",
   "id": "98c2e2f3-8fa0-4167-aed3-187c1aaec447",
   "metadata": {},
   "source": [
    "#### basic "
   ]
  },
  {
   "cell_type": "code",
   "execution_count": 6,
   "id": "262084a5-4293-48b5-abe8-e21022b6a46f",
   "metadata": {},
   "outputs": [
    {
     "name": "stdout",
     "output_type": "stream",
     "text": [
      "[10 20 34 50]\n"
     ]
    }
   ],
   "source": [
    "list=[10,20,34,50]\n",
    "arr=np.array(list)\n",
    "print(arr)"
   ]
  },
  {
   "cell_type": "code",
   "execution_count": 10,
   "id": "1d988bd8-c032-4f5e-b5cf-e44620539f09",
   "metadata": {},
   "outputs": [
    {
     "name": "stdout",
     "output_type": "stream",
     "text": [
      "array a :\n",
      " 42\n",
      "\n",
      "\n",
      "array b :\n",
      " [10 20 30]\n",
      "\n",
      "\n",
      "array c :\n",
      " [[10 20]\n",
      " [30 40]]\n",
      "\n",
      "\n",
      "array d :\n",
      " [[[ 1  2  3]\n",
      "  [ 4  5  6]]\n",
      "\n",
      " [[ 7  8  9]\n",
      "  [20 30 40]]]\n",
      "\n",
      "\n",
      "a array dimension : 0\n",
      "b array dimension : 1\n",
      "c array dimension : 2\n",
      "d array dimension : 3\n"
     ]
    }
   ],
   "source": [
    "a=np.array(42)\n",
    "b=np.array([10,20,30])\n",
    "c=np.array([[10,20],[30,40]])\n",
    "d=np.array([[[1,2,3],[4,5,6]],[[7,8,9], [20,30,40]]])\n",
    "print(\"array a :\\n\" ,a)\n",
    "print(\"\\n\")\n",
    "print(\"array b :\\n\" ,b)\n",
    "print(\"\\n\")\n",
    "print(\"array c :\\n\" ,c)\n",
    "print(\"\\n\")\n",
    "print(\"array d :\\n\" ,d)\n",
    "print(\"\\n\")\n",
    "\n",
    "print(\"a array dimension :\", a.ndim)\n",
    "print(\"b array dimension :\", b.ndim)\n",
    "print(\"c array dimension :\", c.ndim)\n",
    "print(\"d array dimension :\", d.ndim)"
   ]
  },
  {
   "cell_type": "code",
   "execution_count": null,
   "id": "31f46bd3-73d0-4769-aab7-3fdbef311c2e",
   "metadata": {},
   "outputs": [],
   "source": []
  },
  {
   "cell_type": "markdown",
   "id": "1cace008-3f5f-487a-b4c5-a15f2d4f6da5",
   "metadata": {
    "jp-MarkdownHeadingCollapsed": true
   },
   "source": [
    "#### accessing shape "
   ]
  },
  {
   "cell_type": "code",
   "execution_count": null,
   "id": "8ce30019-2ce1-4e0e-b5c6-4f0b78f35e93",
   "metadata": {},
   "outputs": [],
   "source": []
  },
  {
   "cell_type": "code",
   "execution_count": 12,
   "id": "6e5a801e-b5d9-477c-807f-d74e47741fac",
   "metadata": {},
   "outputs": [
    {
     "data": {
      "text/plain": [
       "()"
      ]
     },
     "execution_count": 12,
     "metadata": {},
     "output_type": "execute_result"
    }
   ],
   "source": [
    "a.shape"
   ]
  },
  {
   "cell_type": "code",
   "execution_count": 13,
   "id": "8a2e7b5e-51c4-4245-ad1e-0461233fe868",
   "metadata": {},
   "outputs": [
    {
     "data": {
      "text/plain": [
       "(3,)"
      ]
     },
     "execution_count": 13,
     "metadata": {},
     "output_type": "execute_result"
    }
   ],
   "source": [
    "b.shape"
   ]
  },
  {
   "cell_type": "code",
   "execution_count": 14,
   "id": "bf9474b8-9174-493c-a2f7-4880d3d64eb1",
   "metadata": {},
   "outputs": [
    {
     "data": {
      "text/plain": [
       "(2, 2)"
      ]
     },
     "execution_count": 14,
     "metadata": {},
     "output_type": "execute_result"
    }
   ],
   "source": [
    "c.shape"
   ]
  },
  {
   "cell_type": "code",
   "execution_count": 15,
   "id": "63bf3e5d-ff51-4c22-ba20-965c1a73dc76",
   "metadata": {},
   "outputs": [
    {
     "data": {
      "text/plain": [
       "(2, 2, 3)"
      ]
     },
     "execution_count": 15,
     "metadata": {},
     "output_type": "execute_result"
    }
   ],
   "source": [
    "d.shape"
   ]
  },
  {
   "cell_type": "code",
   "execution_count": null,
   "id": "953e9697-1f2d-4a0d-a08b-b7e3efa89f2d",
   "metadata": {},
   "outputs": [],
   "source": []
  },
  {
   "cell_type": "markdown",
   "id": "4b7f118a-7a94-4377-a25c-c282e275277e",
   "metadata": {},
   "source": [
    "#### MORE"
   ]
  },
  {
   "cell_type": "code",
   "execution_count": 16,
   "id": "4485dd17-027e-46f2-a2ed-73e9c5de6365",
   "metadata": {},
   "outputs": [
    {
     "name": "stdout",
     "output_type": "stream",
     "text": [
      "[20 40 60]\n"
     ]
    }
   ],
   "source": [
    "ar=np.array([10,20,30, 40 ,50 ,60])\n",
    "print(ar[1:6:2])"
   ]
  },
  {
   "cell_type": "code",
   "execution_count": null,
   "id": "d65a3b9d-f431-44f9-95c0-0d1bc66a2c00",
   "metadata": {},
   "outputs": [],
   "source": []
  },
  {
   "cell_type": "code",
   "execution_count": 21,
   "id": "9660cfa1-ed98-43c0-94a5-c80bcbfa0a50",
   "metadata": {},
   "outputs": [
    {
     "name": "stdout",
     "output_type": "stream",
     "text": [
      "default array  [ 10  20  30 100  50  60]\n",
      "sliced array  [ 20  30 100  50]\n",
      "after updation \n",
      "\n",
      "sliced array \n",
      " [ 20  30 100  50]\n",
      "\n",
      "defualt array \n",
      "\n",
      "[ 10  20  30 100  50  60]\n"
     ]
    }
   ],
   "source": [
    "s_ar=ar[1:5]\n",
    "print(\"default array \",ar)\n",
    "print(\"sliced array \", s_ar)\n",
    "\n",
    "\n",
    "s_ar[2]=100\n",
    "print(\"after updation \")\n",
    "print(\"\\nsliced array \\n\", s_ar)\n",
    "print(\"\\ndefualt array \\n\")\n",
    "print(ar)"
   ]
  },
  {
   "cell_type": "code",
   "execution_count": null,
   "id": "116042ee-ed74-4b15-93b5-d2df5c0567ec",
   "metadata": {},
   "outputs": [],
   "source": []
  },
  {
   "cell_type": "markdown",
   "id": "cb2e0501-e99a-4f09-9465-8f5457a8e76c",
   "metadata": {
    "jp-MarkdownHeadingCollapsed": true
   },
   "source": [
    "#### COPY()"
   ]
  },
  {
   "cell_type": "code",
   "execution_count": 27,
   "id": "b0f2279e-326d-4240-a36a-dd57fd8da311",
   "metadata": {},
   "outputs": [],
   "source": [
    "#the changes made to copy array by copy() doent affect the original one "
   ]
  },
  {
   "cell_type": "code",
   "execution_count": 28,
   "id": "ac720ee2-e2ef-47f0-861e-59ea82e0d74d",
   "metadata": {},
   "outputs": [],
   "source": [
    "#the view does affect the original array "
   ]
  },
  {
   "cell_type": "code",
   "execution_count": 30,
   "id": "0da87e6a-2f41-405a-9236-18a103b242a5",
   "metadata": {},
   "outputs": [
    {
     "name": "stdout",
     "output_type": "stream",
     "text": [
      "[20  3  5  6  7]\n",
      "[10  3  5  6  7]\n"
     ]
    }
   ],
   "source": [
    "ar=np.array([10,3,5,6,7])\n",
    "ar2=ar.copy()\n",
    "ar[0]=20\n",
    "print(ar)\n",
    "print(ar2)"
   ]
  },
  {
   "cell_type": "markdown",
   "id": "2eeda337-616d-411b-8762-587b816a2e7d",
   "metadata": {},
   "source": [
    "#### ZERO()"
   ]
  },
  {
   "cell_type": "code",
   "execution_count": 31,
   "id": "0f929635-d363-40db-a02f-fb3c718c9e85",
   "metadata": {},
   "outputs": [],
   "source": [
    "#generates zero "
   ]
  },
  {
   "cell_type": "code",
   "execution_count": 36,
   "id": "1c6fbd18-58da-422a-bde8-f877aab4a0b3",
   "metadata": {},
   "outputs": [
    {
     "data": {
      "text/plain": [
       "array([0., 0., 0., 0., 0., 0.])"
      ]
     },
     "execution_count": 36,
     "metadata": {},
     "output_type": "execute_result"
    }
   ],
   "source": [
    "#zero dimensional \n",
    "a=np.zeros(6)\n",
    "a"
   ]
  },
  {
   "cell_type": "code",
   "execution_count": 37,
   "id": "f05b5f58-fb94-4af9-96ac-7f2ae5fc1e03",
   "metadata": {},
   "outputs": [
    {
     "data": {
      "text/plain": [
       "array([0, 0, 0, 0, 0, 0])"
      ]
     },
     "execution_count": 37,
     "metadata": {},
     "output_type": "execute_result"
    }
   ],
   "source": [
    "#1 dimensional \n",
    "a=np.zeros((6,), dtype='int')\n",
    "a"
   ]
  },
  {
   "cell_type": "code",
   "execution_count": 38,
   "id": "60d7f474-5a00-478b-8ad2-d2ab6c9dff29",
   "metadata": {},
   "outputs": [
    {
     "data": {
      "text/plain": [
       "array([[0, 0],\n",
       "       [0, 0],\n",
       "       [0, 0],\n",
       "       [0, 0],\n",
       "       [0, 0],\n",
       "       [0, 0]])"
      ]
     },
     "execution_count": 38,
     "metadata": {},
     "output_type": "execute_result"
    }
   ],
   "source": [
    "#2 dimensional \n",
    "a=np.zeros((6,2), dtype='int')\n",
    "a"
   ]
  },
  {
   "cell_type": "code",
   "execution_count": null,
   "id": "bfc7e37c-bfbc-4a7f-bd59-359d289dff06",
   "metadata": {},
   "outputs": [],
   "source": []
  },
  {
   "cell_type": "markdown",
   "id": "452861ba-ad57-4e3c-8566-edb8e94e67b2",
   "metadata": {},
   "source": [
    "#### ONES()"
   ]
  },
  {
   "cell_type": "code",
   "execution_count": 43,
   "id": "3caa3703-b2d2-4541-93f9-e1074ba85408",
   "metadata": {},
   "outputs": [
    {
     "data": {
      "text/plain": [
       "array([[1, 1],\n",
       "       [1, 1],\n",
       "       [1, 1],\n",
       "       [1, 1],\n",
       "       [1, 1],\n",
       "       [1, 1]])"
      ]
     },
     "execution_count": 43,
     "metadata": {},
     "output_type": "execute_result"
    }
   ],
   "source": [
    "b=np.ones((6,2), dtype='int')\n",
    "b\n"
   ]
  },
  {
   "cell_type": "code",
   "execution_count": 44,
   "id": "28fa5ab5-e517-4718-aaa3-bad8c0342a3c",
   "metadata": {},
   "outputs": [
    {
     "data": {
      "text/plain": [
       "array([[10, 10],\n",
       "       [10, 10],\n",
       "       [10, 10],\n",
       "       [10, 10],\n",
       "       [10, 10],\n",
       "       [10, 10]])"
      ]
     },
     "execution_count": 44,
     "metadata": {},
     "output_type": "execute_result"
    }
   ],
   "source": [
    "b=np.ones((6,2), dtype='int')*10\n",
    "b"
   ]
  },
  {
   "cell_type": "code",
   "execution_count": 52,
   "id": "4f46675b-63ab-4bb9-97d3-5c6edb66a059",
   "metadata": {},
   "outputs": [
    {
     "data": {
      "text/plain": [
       "array([[(1, 1.), (1, 1.)],\n",
       "       [(1, 1.), (1, 1.)],\n",
       "       [(1, 1.), (1, 1.)],\n",
       "       [(1, 1.), (1, 1.)],\n",
       "       [(1, 1.), (1, 1.)],\n",
       "       [(1, 1.), (1, 1.)]], dtype=[('x', '<i4'), ('y', '<f8')])"
      ]
     },
     "execution_count": 52,
     "metadata": {},
     "output_type": "execute_result"
    }
   ],
   "source": [
    "c=np.ones((6,2), dtype=[('x' , 'int' ),('y','float')])\n",
    "c"
   ]
  },
  {
   "cell_type": "code",
   "execution_count": null,
   "id": "d158ddfb-5f0b-4e19-a5d8-f257dfd09720",
   "metadata": {},
   "outputs": [],
   "source": []
  },
  {
   "cell_type": "code",
   "execution_count": null,
   "id": "908dcafe-a030-45d7-809b-099575ece457",
   "metadata": {},
   "outputs": [],
   "source": []
  },
  {
   "cell_type": "markdown",
   "id": "4d2b8a60-3c1e-4924-af6a-aca92c462abc",
   "metadata": {
    "jp-MarkdownHeadingCollapsed": true
   },
   "source": [
    "#### EYE()"
   ]
  },
  {
   "cell_type": "code",
   "execution_count": 50,
   "id": "2ce3c74f-c46a-42f3-b21f-2b6da39a9d1f",
   "metadata": {},
   "outputs": [
    {
     "name": "stdout",
     "output_type": "stream",
     "text": [
      "[[1. 0. 0.]\n",
      " [0. 1. 0.]\n",
      " [0. 0. 1.]]\n",
      "\n",
      "\n",
      "[[1. 0. 0. 0.]\n",
      " [0. 1. 0. 0.]\n",
      " [0. 0. 1. 0.]]\n"
     ]
    }
   ],
   "source": [
    "d=np.eye(3)\n",
    "print(d)\n",
    "print('\\n')\n",
    "e=np.eye(3,4)\n",
    "print(e)"
   ]
  },
  {
   "cell_type": "code",
   "execution_count": null,
   "id": "7f1d569d-a09e-47bf-8220-c8f998330ccd",
   "metadata": {},
   "outputs": [],
   "source": []
  },
  {
   "cell_type": "code",
   "execution_count": null,
   "id": "4b56f169-1e14-45f7-b7c9-8c0c82e3267b",
   "metadata": {},
   "outputs": [],
   "source": []
  },
  {
   "cell_type": "code",
   "execution_count": 55,
   "id": "1573aae2-71fd-4153-94dc-33426f23926c",
   "metadata": {},
   "outputs": [
    {
     "name": "stdout",
     "output_type": "stream",
     "text": [
      "[[1. 0. 0.]\n",
      " [0. 1. 0.]\n",
      " [0. 0. 1.]]\n"
     ]
    }
   ],
   "source": [
    "ar4=np.eye(3)\n",
    "print(ar4)\n"
   ]
  },
  {
   "cell_type": "code",
   "execution_count": null,
   "id": "564344e5-6492-4099-a1ba-9b56518e8589",
   "metadata": {},
   "outputs": [],
   "source": []
  },
  {
   "cell_type": "markdown",
   "id": "2e2e25ca-8790-48a6-8767-0828769d6677",
   "metadata": {},
   "source": [
    "#### DIAG()"
   ]
  },
  {
   "cell_type": "code",
   "execution_count": 54,
   "id": "42a00d46-4389-4e09-a8cc-307a45a00fb3",
   "metadata": {},
   "outputs": [
    {
     "name": "stdout",
     "output_type": "stream",
     "text": [
      "[[3 0 0 0]\n",
      " [0 4 0 0]\n",
      " [0 0 2 0]\n",
      " [0 0 0 6]]\n",
      "2\n",
      "(4, 4)\n"
     ]
    }
   ],
   "source": [
    "ar5=np.diag((3,4,2,6))\n",
    "print(ar5)\n",
    "print(ar5.ndim)\n",
    "print(ar5.shape)"
   ]
  },
  {
   "cell_type": "code",
   "execution_count": null,
   "id": "765687c6-2cb4-495a-90f8-f8b8eb87d1dc",
   "metadata": {},
   "outputs": [],
   "source": []
  },
  {
   "cell_type": "markdown",
   "id": "7a059d8a-7852-47a8-a155-4760bb4e821d",
   "metadata": {},
   "source": [
    "#### WHERE()"
   ]
  },
  {
   "cell_type": "code",
   "execution_count": 5,
   "id": "a3c87c06-252c-46dd-bb37-d6af5cb2874c",
   "metadata": {},
   "outputs": [],
   "source": [
    "#the where function is used to locate the items "
   ]
  },
  {
   "cell_type": "code",
   "execution_count": 6,
   "id": "13af1098-908f-4f59-9ba4-8ef748a2eeed",
   "metadata": {},
   "outputs": [],
   "source": [
    "arr1=np.array([2,3,4,5,6,7])\n"
   ]
  },
  {
   "cell_type": "code",
   "execution_count": null,
   "id": "ae9e0c22-aba6-4e89-8300-e43e82e087af",
   "metadata": {},
   "outputs": [],
   "source": []
  },
  {
   "cell_type": "markdown",
   "id": "685fec75-ad2a-4b83-ae87-f6edfe71a9de",
   "metadata": {},
   "source": [
    "#### TRANSPOSE"
   ]
  },
  {
   "cell_type": "code",
   "execution_count": 4,
   "id": "1ce04503-f5d7-4133-ad9e-0857ab0e30fd",
   "metadata": {},
   "outputs": [],
   "source": [
    "#transpose is used to permute the dimension of an array , it swaps rows and columns "
   ]
  },
  {
   "cell_type": "code",
   "execution_count": 3,
   "id": "0df63724-4928-40a4-afce-933a81133bdf",
   "metadata": {},
   "outputs": [
    {
     "name": "stdout",
     "output_type": "stream",
     "text": [
      "[[1 2 3]\n",
      " [4 5 6]]\n"
     ]
    },
    {
     "data": {
      "text/plain": [
       "array([[1, 4],\n",
       "       [2, 5],\n",
       "       [3, 6]])"
      ]
     },
     "execution_count": 3,
     "metadata": {},
     "output_type": "execute_result"
    }
   ],
   "source": [
    "arr =np.array([[1,2,3], [4,5,6]])\n",
    "print(arr)\n",
    "np.transpose (arr)"
   ]
  },
  {
   "cell_type": "code",
   "execution_count": null,
   "id": "0fd66908-10b5-4f41-b948-352badac519a",
   "metadata": {},
   "outputs": [],
   "source": []
  },
  {
   "cell_type": "markdown",
   "id": "51d868c7-cf54-4b20-8bbe-93d71d3718f2",
   "metadata": {},
   "source": [
    "#### SEARCHSORTED()"
   ]
  },
  {
   "cell_type": "code",
   "execution_count": 12,
   "id": "b766b274-c5ab-4d83-bd4f-59a744401f21",
   "metadata": {},
   "outputs": [
    {
     "name": "stdout",
     "output_type": "stream",
     "text": [
      "3\n"
     ]
    }
   ],
   "source": [
    "arr1=np.array([2,3,4,5,6,7])\n",
    "index =np.searchsorted(arr1 , 5)\n",
    "print(index)"
   ]
  },
  {
   "cell_type": "code",
   "execution_count": null,
   "id": "f1f288eb-dc66-4cc5-885e-bac737478c03",
   "metadata": {},
   "outputs": [],
   "source": []
  }
 ],
 "metadata": {
  "kernelspec": {
   "display_name": "Python 3 (ipykernel)",
   "language": "python",
   "name": "python3"
  },
  "language_info": {
   "codemirror_mode": {
    "name": "ipython",
    "version": 3
   },
   "file_extension": ".py",
   "mimetype": "text/x-python",
   "name": "python",
   "nbconvert_exporter": "python",
   "pygments_lexer": "ipython3",
   "version": "3.11.7"
  }
 },
 "nbformat": 4,
 "nbformat_minor": 5
}
