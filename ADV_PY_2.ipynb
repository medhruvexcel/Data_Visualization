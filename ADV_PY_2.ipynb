{
 "cells": [
  {
   "cell_type": "code",
   "execution_count": 2,
   "id": "533883cf-5bee-428b-a2d1-eee12e747741",
   "metadata": {},
   "outputs": [],
   "source": [
    "import numpy as np "
   ]
  },
  {
   "cell_type": "code",
   "execution_count": null,
   "id": "bf0b59dd-22a6-495b-9afc-0523be5e6fa3",
   "metadata": {},
   "outputs": [],
   "source": []
  },
  {
   "cell_type": "markdown",
   "id": "a38624c2-271c-421a-b606-2a52c7f52e74",
   "metadata": {},
   "source": [
    "# ASSIGNMENT 1"
   ]
  },
  {
   "cell_type": "markdown",
   "id": "b86e1a8a-510c-4ae7-93f1-192b58946003",
   "metadata": {},
   "source": [
    "### Q1. Identify days with extreme temperature conditions\n"
   ]
  },
  {
   "cell_type": "code",
   "execution_count": 4,
   "id": "19e826ad-d247-4fbc-9c29-ca1d769371eb",
   "metadata": {},
   "outputs": [
    {
     "name": "stdout",
     "output_type": "stream",
     "text": [
      "Days with extreme temperatures: [2 5 9]\n"
     ]
    }
   ],
   "source": [
    "temperatures = np.array([32.5, 34.2, 36.8, 29.3, 31.0, 38.7, 23.1, 18.5, 22.8, 37.2])\n",
    "\n",
    "hot_days = temperatures > 35\n",
    "cold_days = temperatures < 5\n",
    "\n",
    "extreme_days = hot_days | cold_days\n",
    "\n",
    "print(\"Days with extreme temperatures:\", np.where(extreme_days)[0])"
   ]
  },
  {
   "cell_type": "code",
   "execution_count": null,
   "id": "6d594a5d-c076-4096-aa30-87456d31f556",
   "metadata": {},
   "outputs": [],
   "source": []
  },
  {
   "cell_type": "markdown",
   "id": "6c0d0ef7-ba77-4cf1-93ed-924faeda07a7",
   "metadata": {},
   "source": [
    "### Q2. Split monthly sales data into quarterly reports"
   ]
  },
  {
   "cell_type": "code",
   "execution_count": 5,
   "id": "9cb396a7-aff2-404d-8a29-040411c142e5",
   "metadata": {},
   "outputs": [
    {
     "name": "stdout",
     "output_type": "stream",
     "text": [
      "Help on class enumerate in module builtins:\n",
      "\n",
      "class enumerate(object)\n",
      " |  enumerate(iterable, start=0)\n",
      " |  \n",
      " |  Return an enumerate object.\n",
      " |  \n",
      " |    iterable\n",
      " |      an object supporting iteration\n",
      " |  \n",
      " |  The enumerate object yields pairs containing a count (from start, which\n",
      " |  defaults to zero) and a value yielded by the iterable argument.\n",
      " |  \n",
      " |  enumerate is useful for obtaining an indexed list:\n",
      " |      (0, seq[0]), (1, seq[1]), (2, seq[2]), ...\n",
      " |  \n",
      " |  Methods defined here:\n",
      " |  \n",
      " |  __getattribute__(self, name, /)\n",
      " |      Return getattr(self, name).\n",
      " |  \n",
      " |  __iter__(self, /)\n",
      " |      Implement iter(self).\n",
      " |  \n",
      " |  __next__(self, /)\n",
      " |      Implement next(self).\n",
      " |  \n",
      " |  __reduce__(...)\n",
      " |      Return state information for pickling.\n",
      " |  \n",
      " |  ----------------------------------------------------------------------\n",
      " |  Class methods defined here:\n",
      " |  \n",
      " |  __class_getitem__(...) from builtins.type\n",
      " |      See PEP 585\n",
      " |  \n",
      " |  ----------------------------------------------------------------------\n",
      " |  Static methods defined here:\n",
      " |  \n",
      " |  __new__(*args, **kwargs) from builtins.type\n",
      " |      Create and return a new object.  See help(type) for accurate signature.\n",
      "\n"
     ]
    }
   ],
   "source": [
    "help(enumerate)"
   ]
  },
  {
   "cell_type": "code",
   "execution_count": 10,
   "id": "0da987b1-16e1-44de-bc79-b9b2a448f953",
   "metadata": {},
   "outputs": [
    {
     "name": "stdout",
     "output_type": "stream",
     "text": [
      "Quarterly sales data:\n",
      "Q 1 : [120 135 148]\n",
      "Q 2 : [165 180 155]\n",
      "Q 3 : [168 190 205]\n",
      "Q 4 : [198 210 225]\n"
     ]
    }
   ],
   "source": [
    "monthly_sales = np.array([120, 135, 148, 165, 180, 155, 168, 190, 205, 198, 210, 225])\n",
    "\n",
    "quarters = np.split(monthly_sales, 4)\n",
    "\n",
    "print(\"Quarterly sales data:\")\n",
    "for i, quarter in enumerate(quarters, 1):\n",
    "    print(\"Q\",i ,\":\", quarter)\n"
   ]
  },
  {
   "cell_type": "code",
   "execution_count": null,
   "id": "2381e6bc-02be-4a0d-b024-48914af647af",
   "metadata": {},
   "outputs": [],
   "source": []
  },
  {
   "cell_type": "code",
   "execution_count": null,
   "id": "9ff1fc7d-c13f-4811-ace1-fbf09938e8e0",
   "metadata": {},
   "outputs": [],
   "source": []
  },
  {
   "cell_type": "markdown",
   "id": "ebe74997-6336-479d-9630-2b98723c511e",
   "metadata": {},
   "source": [
    "### Q3. Split customer data into two groups based on purchase activity"
   ]
  },
  {
   "cell_type": "code",
   "execution_count": 12,
   "id": "4f1612e3-9d0e-4c3b-b62f-482790ff4d80",
   "metadata": {},
   "outputs": [
    {
     "name": "stdout",
     "output_type": "stream",
     "text": [
      "Customers who made a purchase in the last 30 days: [101 102 103 104 105]\n",
      "\n",
      "Customers who haven't made a purchase in the last 30 days: [106 107 108 109 110]\n"
     ]
    }
   ],
   "source": [
    "custo_id = np.array([101, 102, 103, 104, 105, 106, 107, 108, 109, 110])\n",
    "last_purchase = np.array([5, 15, 20, 25, 30, 35, 40, 45, 50, 55])\n",
    "\n",
    "recent_custo = custo_id[last_purchase <= 30]\n",
    "non_recent_custo = custo_id[last_purchase > 30]\n",
    "\n",
    "print(\"Customers who made a purchase in the last 30 days:\", recent_custo)\n",
    "print(\"\\nCustomers who haven't made a purchase in the last 30 days:\", non_recent_custo)"
   ]
  },
  {
   "cell_type": "code",
   "execution_count": null,
   "id": "814c022a-b7f8-462f-86ba-4d8f145392c0",
   "metadata": {},
   "outputs": [],
   "source": []
  },
  {
   "cell_type": "markdown",
   "id": "88855395-933a-4dc2-834e-178e3daa4b35",
   "metadata": {},
   "source": [
    "### Q4. Combine full-time and part-time employee data for HR analysis"
   ]
  },
  {
   "cell_type": "code",
   "execution_count": 13,
   "id": "2707f358-5990-4ac6-a46c-7577a20e7b2b",
   "metadata": {},
   "outputs": [
    {
     "name": "stdout",
     "output_type": "stream",
     "text": [
      "Comprehensive employee dataset:\n",
      "[['101' 'John Doe' 'Full-Time' '55000']\n",
      " ['102' 'Jane Smith' 'Full-Time' '60000']\n",
      " ['103' 'Mike Johnson' 'Full-Time' '52000']\n",
      " ['201' 'Alice Brown' 'Part-Time' '25000']\n",
      " ['202' 'Bob Wilson' 'Part-Time' '28000']\n",
      " ['203' 'Emily Davis' 'Part-Time' '22000']]\n"
     ]
    }
   ],
   "source": [
    "full_time_employees = np.array([\n",
    "    [101, 'John Doe', 'Full-Time', 55000],\n",
    "    [102, 'Jane Smith', 'Full-Time', 60000],\n",
    "    [103, 'Mike Johnson', 'Full-Time', 52000]\n",
    "])\n",
    "\n",
    "part_time_employees = np.array([\n",
    "    [201, 'Alice Brown', 'Part-Time', 25000],\n",
    "    [202, 'Bob Wilson', 'Part-Time', 28000],\n",
    "    [203, 'Emily Davis', 'Part-Time', 22000]\n",
    "])\n",
    "\n",
    "all_employees = np.concatenate((full_time_employees, part_time_employees))\n",
    "\n",
    "print(\"Comprehensive employee dataset:\")\n",
    "print(all_employees)"
   ]
  },
  {
   "cell_type": "code",
   "execution_count": null,
   "id": "53a486f8-d665-4a03-a6e1-b4cf09bb52de",
   "metadata": {},
   "outputs": [],
   "source": []
  },
  {
   "cell_type": "code",
   "execution_count": null,
   "id": "c4a515e6-b804-4a78-a66f-98bfa8076422",
   "metadata": {},
   "outputs": [],
   "source": []
  },
  {
   "cell_type": "code",
   "execution_count": null,
   "id": "6a46c020-d38b-4a72-adba-0e3ec2b3ad48",
   "metadata": {},
   "outputs": [],
   "source": []
  },
  {
   "cell_type": "markdown",
   "id": "953a3b6c-9b15-412a-9a09-7ba914a31765",
   "metadata": {},
   "source": [
    "# ASSIGNMENT 2 "
   ]
  },
  {
   "cell_type": "code",
   "execution_count": null,
   "id": "7335e9a4-02b5-4dbb-a1c0-d61bb937723f",
   "metadata": {},
   "outputs": [],
   "source": []
  },
  {
   "cell_type": "code",
   "execution_count": 14,
   "id": "5053c885-770e-44c6-8463-a58083c14f4b",
   "metadata": {},
   "outputs": [
    {
     "name": "stdout",
     "output_type": "stream",
     "text": [
      "Mean of each NumPy array: [5.5, 30.6, 34.0]\n"
     ]
    }
   ],
   "source": [
    "arrays = [\n",
    "    np.array([3, 2, 8, 9]),\n",
    "    np.array([4, 12, 34, 25, 78]),\n",
    "    np.array([23, 12, 67])\n",
    "]\n",
    "\n",
    "means = [np.mean(arr) for arr in arrays]\n",
    "\n",
    "print(\"Mean of each NumPy array:\", means)"
   ]
  },
  {
   "cell_type": "code",
   "execution_count": null,
   "id": "15d059c2-1679-4eb9-a05b-9b11db0baf8b",
   "metadata": {},
   "outputs": [],
   "source": []
  },
  {
   "cell_type": "code",
   "execution_count": null,
   "id": "72fc26f9-9229-47a1-bd30-c3def4c8dc70",
   "metadata": {},
   "outputs": [],
   "source": []
  },
  {
   "cell_type": "code",
   "execution_count": 15,
   "id": "ce37c627-50f1-4327-a681-59e936d7be4b",
   "metadata": {},
   "outputs": [
    {
     "name": "stdout",
     "output_type": "stream",
     "text": [
      "Median of the flattened NumPy array: 4.0\n"
     ]
    }
   ],
   "source": [
    "x_odd= np.array([1, 2, 3, 4, 5, 6, 7])\n",
    "\n",
    "median = np.median(x_odd)\n",
    "\n",
    "print(\"Median of the flattened NumPy array:\", median)"
   ]
  },
  {
   "cell_type": "code",
   "execution_count": null,
   "id": "a9ebb05d-1cbf-4f2b-9b42-e53085eb19ef",
   "metadata": {},
   "outputs": [],
   "source": []
  },
  {
   "cell_type": "code",
   "execution_count": null,
   "id": "c05990bf-15f2-43aa-8eee-667863cb8db2",
   "metadata": {},
   "outputs": [],
   "source": []
  },
  {
   "cell_type": "code",
   "execution_count": 16,
   "id": "a94d7f3b-7ab2-4eb9-bc4c-a97eb94c3e12",
   "metadata": {},
   "outputs": [
    {
     "name": "stdout",
     "output_type": "stream",
     "text": [
      "Standard deviation of the NumPy array: 12.576167937809991\n"
     ]
    }
   ],
   "source": [
    "arr = np.array([20, 2, 7, 1, 34])\n",
    "\n",
    "std_deviation = np.std(arr)\n",
    "\n",
    "print(\"Standard deviation of the NumPy array:\", std_deviation)\n"
   ]
  },
  {
   "cell_type": "code",
   "execution_count": null,
   "id": "d70e52b7-0338-4e9f-8e09-a650a345e582",
   "metadata": {},
   "outputs": [],
   "source": []
  },
  {
   "cell_type": "code",
   "execution_count": 17,
   "id": "2a539710-9b4e-4fc9-8f25-baac3c180aca",
   "metadata": {},
   "outputs": [],
   "source": [
    "import pandas as pd\n",
    "\n",
    "# Creating a CSV file with sample data\n",
    "data = {'Price': [200000, 250000, 180000, 300000, 220000]}\n",
    "df = pd.DataFrame(data)\n",
    "df.to_csv('house_prices.csv', index=False)"
   ]
  },
  {
   "cell_type": "code",
   "execution_count": 18,
   "id": "2b305e89-b641-44c2-8da3-b954662a9747",
   "metadata": {},
   "outputs": [
    {
     "name": "stdout",
     "output_type": "stream",
     "text": [
      "Average house price: 230000.0\n",
      "High prices: [250000 300000]\n"
     ]
    }
   ],
   "source": [
    "df = pd.read_csv('house_prices.csv')\n",
    "prices = df['Price'].to_numpy()\n",
    "\n",
    "# Calculating the average of house prices\n",
    "average_price = np.mean(prices)\n",
    "\n",
    "# Identifying house prices above the average\n",
    "high_prices = prices[prices > average_price]\n",
    "\n",
    "# Saving the list of high prices to a new CSV file\n",
    "high_prices_df = pd.DataFrame({'High Prices': high_prices})\n",
    "high_prices_df.to_csv('high_prices.csv', index=False)\n",
    "\n",
    "print(\"Average house price:\", average_price)\n",
    "print(\"High prices:\", high_prices)"
   ]
  },
  {
   "cell_type": "code",
   "execution_count": null,
   "id": "645d4591-6cd0-4105-b149-de1296bcc7c1",
   "metadata": {},
   "outputs": [],
   "source": []
  }
 ],
 "metadata": {
  "kernelspec": {
   "display_name": "Python 3 (ipykernel)",
   "language": "python",
   "name": "python3"
  },
  "language_info": {
   "codemirror_mode": {
    "name": "ipython",
    "version": 3
   },
   "file_extension": ".py",
   "mimetype": "text/x-python",
   "name": "python",
   "nbconvert_exporter": "python",
   "pygments_lexer": "ipython3",
   "version": "3.11.7"
  }
 },
 "nbformat": 4,
 "nbformat_minor": 5
}
